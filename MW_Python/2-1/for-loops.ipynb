{
 "cells": [
  {
   "cell_type": "code",
   "execution_count": 1,
   "id": "desirable-cherry",
   "metadata": {},
   "outputs": [
    {
     "name": "stdout",
     "output_type": "stream",
     "text": [
      "0\n",
      "1\n",
      "2\n",
      "3\n",
      "4\n"
     ]
    }
   ],
   "source": [
    "for x in range(5):\n",
    "    print(x)"
   ]
  },
  {
   "cell_type": "code",
   "execution_count": 2,
   "id": "apparent-toilet",
   "metadata": {},
   "outputs": [
    {
     "name": "stdout",
     "output_type": "stream",
     "text": [
      "3\n",
      "4\n"
     ]
    }
   ],
   "source": [
    "for x in range(3, 5):\n",
    "    print(x)"
   ]
  },
  {
   "cell_type": "code",
   "execution_count": 3,
   "id": "cognitive-camping",
   "metadata": {},
   "outputs": [
    {
     "name": "stdout",
     "output_type": "stream",
     "text": [
      "-3\n",
      "-2\n",
      "-1\n",
      "0\n",
      "1\n",
      "2\n",
      "3\n",
      "4\n",
      "5\n",
      "6\n",
      "7\n",
      "8\n",
      "9\n",
      "10\n"
     ]
    }
   ],
   "source": [
    "for x in range(-3, 11):\n",
    "    print(x)"
   ]
  },
  {
   "cell_type": "code",
   "execution_count": 4,
   "id": "daily-trance",
   "metadata": {},
   "outputs": [
    {
     "name": "stdout",
     "output_type": "stream",
     "text": [
      "0 * 0 = 0\n",
      "0 * 1 = 1\n",
      "0 * 2 = 2\n",
      "0 * 3 = 3\n",
      "0 * 4 = 4\n",
      "1 * 0 = 1\n",
      "1 * 1 = 2\n",
      "1 * 2 = 3\n",
      "1 * 3 = 4\n",
      "1 * 4 = 5\n",
      "2 * 0 = 2\n",
      "2 * 1 = 3\n",
      "2 * 2 = 4\n",
      "2 * 3 = 5\n",
      "2 * 4 = 6\n",
      "3 * 0 = 3\n",
      "3 * 1 = 4\n",
      "3 * 2 = 5\n",
      "3 * 3 = 6\n",
      "3 * 4 = 7\n",
      "4 * 0 = 4\n",
      "4 * 1 = 5\n",
      "4 * 2 = 6\n",
      "4 * 3 = 7\n",
      "4 * 4 = 8\n"
     ]
    }
   ],
   "source": [
    "# nested for-loop\n",
    "\n",
    "for x in range(5):                                        # x starts with 0, loops until 4, x is incremented by 1 each loop\n",
    "    for y in range(5):                                    # y starts with 0, loops until 4, y is incremented by 1 each loop\n",
    "        print(f\"{x} * {y} = {x + y}\")                     # print both x values 0 thru 4, y values 0 thru 4"
   ]
  },
  {
   "cell_type": "code",
   "execution_count": 5,
   "id": "threaded-upset",
   "metadata": {},
   "outputs": [
    {
     "name": "stdout",
     "output_type": "stream",
     "text": [
      "Give me a U\n",
      "Give me a n\n",
      "Give me a i\n",
      "Give me a v\n",
      "Give me a e\n",
      "Give me a r\n",
      "Give me a s\n",
      "Give me a i\n",
      "Give me a t\n",
      "Give me a y\n",
      "Give me a  \n",
      "Give me a o\n",
      "Give me a f\n",
      "Give me a  \n",
      "Give me a W\n",
      "Give me a a\n",
      "Give me a s\n",
      "Give me a h\n",
      "Give me a i\n",
      "Give me a n\n",
      "Give me a g\n",
      "Give me a t\n",
      "Give me a o\n",
      "Give me a n\n"
     ]
    }
   ],
   "source": [
    "# loop through letters\n",
    "\n",
    "for x in \"University of Washington\":\n",
    "    print(f\"Give me a {x}\")"
   ]
  },
  {
   "cell_type": "code",
   "execution_count": 6,
   "id": "outstanding-ready",
   "metadata": {},
   "outputs": [
    {
     "name": "stdout",
     "output_type": "stream",
     "text": [
      "Give me a U\n",
      "Give me a n\n",
      "Give me a i\n",
      "Give me a v\n",
      "Give me a e\n",
      "Give me a r\n",
      "Give me a s\n",
      "Give me a i\n",
      "Give me a t\n",
      "Give me a y\n"
     ]
    }
   ],
   "source": [
    "# break - stops a loop\n",
    "\n",
    "for x in \"University of Washington\":\n",
    "    if x == ' ':                                   # once the loop hits a space, stops loop.\n",
    "        break\n",
    "    print(f\"Give me a {x}\")                        # this prints University"
   ]
  },
  {
   "cell_type": "code",
   "execution_count": 8,
   "id": "reflected-advance",
   "metadata": {},
   "outputs": [
    {
     "name": "stdout",
     "output_type": "stream",
     "text": [
      "Give me a U\n",
      "Give me a n\n",
      "Give me a i\n",
      "Give me a v\n",
      "Give me a e\n",
      "Give me a r\n",
      "Give me a s\n",
      "Give me a i\n",
      "Give me a t\n",
      "Give me a y\n",
      "Give me a o\n",
      "Give me a f\n",
      "Give me a W\n",
      "Give me a a\n",
      "Give me a s\n",
      "Give me a h\n",
      "Give me a i\n",
      "Give me a n\n",
      "Give me a g\n",
      "Give me a t\n",
      "Give me a o\n",
      "Give me a n\n"
     ]
    }
   ],
   "source": [
    "# continue - omits the code the continue is used for\n",
    "\n",
    "for x in \"University of Washington\":\n",
    "    if x == ' ':                                   # once the loop hits a space, omits and continues loop.\n",
    "        continue\n",
    "    print(f\"Give me a {x}\")                        # this prints UniversityofWashington. No spaces. "
   ]
  },
  {
   "cell_type": "code",
   "execution_count": 9,
   "id": "genuine-founder",
   "metadata": {},
   "outputs": [
    {
     "name": "stdout",
     "output_type": "stream",
     "text": [
      "1\n",
      "2\n",
      "3\n",
      "4\n",
      "5\n",
      "6\n",
      "7\n",
      "8\n",
      "9\n"
     ]
    }
   ],
   "source": [
    "# while loop - a loop that is continuous until the condition is True and breaks the loop\n",
    "\n",
    "i = 1\n",
    "while i < 10:\n",
    "    print(i)\n",
    "    i = i + 1      # you need to add a code that will make your condition True, otherwise it makes it an infinite loop "
   ]
  },
  {
   "cell_type": "code",
   "execution_count": null,
   "id": "complete-advertiser",
   "metadata": {},
   "outputs": [],
   "source": [
    "# infinite loop\n",
    "\n",
    "i = 1\n",
    "while i = 1:\n",
    "    print(\"You dun goofed, boi. Infinite looping.\")     # control "
   ]
  }
 ],
 "metadata": {
  "kernelspec": {
   "display_name": "Python 3",
   "language": "python",
   "name": "python3"
  },
  "language_info": {
   "codemirror_mode": {
    "name": "ipython",
    "version": 3
   },
   "file_extension": ".py",
   "mimetype": "text/x-python",
   "name": "python",
   "nbconvert_exporter": "python",
   "pygments_lexer": "ipython3",
   "version": "3.9.1"
  }
 },
 "nbformat": 4,
 "nbformat_minor": 5
}
