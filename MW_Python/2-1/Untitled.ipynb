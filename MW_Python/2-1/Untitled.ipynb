{
 "cells": [
  {
   "cell_type": "code",
   "execution_count": 8,
   "id": "outdoor-flashing",
   "metadata": {},
   "outputs": [
    {
     "name": "stdout",
     "output_type": "stream",
     "text": [
      "John\n",
      "John Kelly\n",
      "John Kelly\n",
      "John Kelly\n"
     ]
    }
   ],
   "source": [
    "phrase = \"John\"\n",
    "phrase2 = \"Kelly\"\n",
    "print(phrase)\n",
    "print(phrase + \" Kelly\")\n",
    "print(f\"{phrase} Kelly\")\n",
    "print(phrase + ' ' + phrase2)"
   ]
  },
  {
   "cell_type": "code",
   "execution_count": null,
   "id": "referenced-pizza",
   "metadata": {},
   "outputs": [],
   "source": []
  }
 ],
 "metadata": {
  "kernelspec": {
   "display_name": "Python 3",
   "language": "python",
   "name": "python3"
  },
  "language_info": {
   "codemirror_mode": {
    "name": "ipython",
    "version": 3
   },
   "file_extension": ".py",
   "mimetype": "text/x-python",
   "name": "python",
   "nbconvert_exporter": "python",
   "pygments_lexer": "ipython3",
   "version": "3.9.1"
  }
 },
 "nbformat": 4,
 "nbformat_minor": 5
}
