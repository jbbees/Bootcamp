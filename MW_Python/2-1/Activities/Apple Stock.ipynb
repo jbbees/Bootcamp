{
 "cells": [
  {
   "cell_type": "code",
   "execution_count": 5,
   "id": "processed-flood",
   "metadata": {},
   "outputs": [
    {
     "name": "stdout",
     "output_type": "stream",
     "text": [
      "Apple's original stock price was $198.87\n",
      "Apples current stock price is $254.32\n",
      "Apple gained $55.44999999999999 in stock price. Total percent increase is 27.882536330265996.\n",
      "Apple stocked increased by  27.88%\n"
     ]
    }
   ],
   "source": [
    "# Percent Increase Bonus Activity\n",
    "\n",
    "# Formulas\n",
    "# Increase = Current Price - Original Price\n",
    "# Percent Increase = Increase / Original x 100\n",
    "\n",
    "# Create float variable for original_price\n",
    "\n",
    "original_price = 198.87\n",
    "\n",
    "# Create float variable for current_price\n",
    "\n",
    "current_price = 254.32\n",
    "\n",
    "# Calculate difference between current_price and original_price\n",
    "\n",
    "increase = current_price - original_price\n",
    "\n",
    "# Calculate percent_increase\n",
    "\n",
    "percent_increase = (current_price - original_price)/original_price * 100\n",
    "\n",
    "# Print original_price\n",
    "print(f\"Apple's original stock price was ${original_price}\")\n",
    "\n",
    "# Print current_price\n",
    "print(f\"Apples current stock price is ${current_price}\")\n",
    "\n",
    "# Print percent_increase\n",
    "\n",
    "print(f\"Apple gained ${increase} in stock price. Total percent increase is {percent_increase}.\")\n",
    "\n",
    "# formatting output\n",
    "\n",
    "print(f\"Apple stocked increased by \", \"{:.2f}%\".format(percent_increase))"
   ]
  },
  {
   "cell_type": "code",
   "execution_count": null,
   "id": "authorized-certificate",
   "metadata": {},
   "outputs": [],
   "source": []
  }
 ],
 "metadata": {
  "kernelspec": {
   "display_name": "Python 3",
   "language": "python",
   "name": "python3"
  },
  "language_info": {
   "codemirror_mode": {
    "name": "ipython",
    "version": 3
   },
   "file_extension": ".py",
   "mimetype": "text/x-python",
   "name": "python",
   "nbconvert_exporter": "python",
   "pygments_lexer": "ipython3",
   "version": "3.9.1"
  }
 },
 "nbformat": 4,
 "nbformat_minor": 5
}
