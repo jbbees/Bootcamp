{
 "cells": [
  {
   "cell_type": "code",
   "execution_count": 1,
   "id": "manual-victor",
   "metadata": {},
   "outputs": [],
   "source": [
    "title = \"Frankfurter\"\n",
    "years = 23\n",
    "hourly_wage = 65.40\n",
    "expert_status = True "
   ]
  },
  {
   "cell_type": "code",
   "execution_count": 2,
   "id": "tamil-making",
   "metadata": {},
   "outputs": [
    {
     "name": "stdout",
     "output_type": "stream",
     "text": [
      "Frankfurter\n",
      "23\n",
      "65.4\n",
      "True\n"
     ]
    }
   ],
   "source": [
    "print(title)\n",
    "print(years)\n",
    "print(hourly_wage)\n",
    "print(expert_status)"
   ]
  },
  {
   "cell_type": "code",
   "execution_count": 4,
   "id": "chubby-pottery",
   "metadata": {},
   "outputs": [
    {
     "name": "stdout",
     "output_type": "stream",
     "text": [
      "<class 'str'>\n",
      "<class 'int'>\n",
      "<class 'float'>\n",
      "<class 'bool'>\n"
     ]
    }
   ],
   "source": [
    "print(type(title))\n",
    "print(type(years))\n",
    "print(type(hourly_wage))\n",
    "print(type(expert_status))"
   ]
  },
  {
   "cell_type": "code",
   "execution_count": 5,
   "id": "instant-telescope",
   "metadata": {},
   "outputs": [
    {
     "name": "stdout",
     "output_type": "stream",
     "text": [
      "3128736.0\n"
     ]
    }
   ],
   "source": [
    "print(hourly_wage * 40 * 52 * years)"
   ]
  },
  {
   "cell_type": "code",
   "execution_count": 7,
   "id": "optional-bulgarian",
   "metadata": {},
   "outputs": [
    {
     "name": "stdout",
     "output_type": "stream",
     "text": [
      "Frankfurter is a city.\n"
     ]
    }
   ],
   "source": [
    "print(title, \"is a city.\")"
   ]
  },
  {
   "cell_type": "code",
   "execution_count": 8,
   "id": "occasional-validity",
   "metadata": {},
   "outputs": [
    {
     "name": "stdout",
     "output_type": "stream",
     "text": [
      "Frankfurteris a city.\n"
     ]
    }
   ],
   "source": [
    "print(title + \"is a city.\")"
   ]
  },
  {
   "cell_type": "code",
   "execution_count": 9,
   "id": "indirect-broadcast",
   "metadata": {},
   "outputs": [
    {
     "name": "stdout",
     "output_type": "stream",
     "text": [
      "Frankfurter is a city.\n"
     ]
    }
   ],
   "source": [
    "print(title + \" is a city.\")"
   ]
  },
  {
   "cell_type": "code",
   "execution_count": 10,
   "id": "brutal-roller",
   "metadata": {},
   "outputs": [
    {
     "name": "stdout",
     "output_type": "stream",
     "text": [
      "88.4\n"
     ]
    }
   ],
   "source": [
    "print(hourly_wage + years)"
   ]
  },
  {
   "cell_type": "code",
   "execution_count": 11,
   "id": "powerful-skill",
   "metadata": {},
   "outputs": [
    {
     "name": "stdout",
     "output_type": "stream",
     "text": [
      "Frankfurter is a city.\n"
     ]
    }
   ],
   "source": [
    "print(f\"{title} is a city.\")"
   ]
  },
  {
   "cell_type": "code",
   "execution_count": 13,
   "id": "conceptual-acrobat",
   "metadata": {},
   "outputs": [
    {
     "name": "stdout",
     "output_type": "stream",
     "text": [
      "I have ${money} dollars.\n"
     ]
    }
   ],
   "source": [
    "money = 25.00\n",
    "print(\"I have ${money} dollars.\")"
   ]
  },
  {
   "cell_type": "code",
   "execution_count": 30,
   "id": "living-suite",
   "metadata": {},
   "outputs": [
    {
     "name": "stdout",
     "output_type": "stream",
     "text": [
      "I have $25.0 dollars.\n"
     ]
    }
   ],
   "source": [
    "money = 25.00  \n",
    "print(f\"I have ${money} dollars.\")"
   ]
  },
  {
   "cell_type": "code",
   "execution_count": 31,
   "id": "precious-economics",
   "metadata": {},
   "outputs": [
    {
     "name": "stdout",
     "output_type": "stream",
     "text": [
      "<class 'float'>\n"
     ]
    }
   ],
   "source": [
    "print(type(money))"
   ]
  },
  {
   "cell_type": "code",
   "execution_count": 26,
   "id": "global-module",
   "metadata": {},
   "outputs": [
    {
     "name": "stdout",
     "output_type": "stream",
     "text": [
      "None\n"
     ]
    }
   ],
   "source": [
    "print(money)"
   ]
  },
  {
   "cell_type": "code",
   "execution_count": 27,
   "id": "concerned-gentleman",
   "metadata": {},
   "outputs": [
    {
     "ename": "TypeError",
     "evalue": "unsupported operand type(s) for +: 'NoneType' and 'NoneType'",
     "output_type": "error",
     "traceback": [
      "\u001b[1;31m---------------------------------------------------------------------------\u001b[0m",
      "\u001b[1;31mTypeError\u001b[0m                                 Traceback (most recent call last)",
      "\u001b[1;32m<ipython-input-27-51efd31cb3f3>\u001b[0m in \u001b[0;36m<module>\u001b[1;34m\u001b[0m\n\u001b[0;32m      1\u001b[0m \u001b[0mnumber\u001b[0m \u001b[1;33m=\u001b[0m \u001b[1;32mNone\u001b[0m\u001b[1;33m\u001b[0m\u001b[1;33m\u001b[0m\u001b[0m\n\u001b[0;32m      2\u001b[0m \u001b[0mnull\u001b[0m \u001b[1;33m=\u001b[0m \u001b[1;32mNone\u001b[0m\u001b[1;33m\u001b[0m\u001b[1;33m\u001b[0m\u001b[0m\n\u001b[1;32m----> 3\u001b[1;33m \u001b[0mprint\u001b[0m\u001b[1;33m(\u001b[0m\u001b[0mnumber\u001b[0m \u001b[1;33m+\u001b[0m \u001b[0mnull\u001b[0m\u001b[1;33m)\u001b[0m\u001b[1;33m\u001b[0m\u001b[1;33m\u001b[0m\u001b[0m\n\u001b[0m",
      "\u001b[1;31mTypeError\u001b[0m: unsupported operand type(s) for +: 'NoneType' and 'NoneType'"
     ]
    }
   ],
   "source": [
    "number = None\n",
    "null = None\n",
    "print(number + null)"
   ]
  },
  {
   "cell_type": "code",
   "execution_count": 28,
   "id": "political-draft",
   "metadata": {},
   "outputs": [
    {
     "name": "stdout",
     "output_type": "stream",
     "text": [
      "24\n"
     ]
    }
   ],
   "source": [
    "sentence = \"University of Washington\"\n",
    "print(len(sentence))"
   ]
  },
  {
   "cell_type": "code",
   "execution_count": 29,
   "id": "legislative-respect",
   "metadata": {},
   "outputs": [
    {
     "name": "stdout",
     "output_type": "stream",
     "text": [
      "University of WashingtonUniversity of WashingtonUniversity of Washington\n"
     ]
    }
   ],
   "source": [
    "print(sentence * 3)"
   ]
  },
  {
   "cell_type": "code",
   "execution_count": 33,
   "id": "beneficial-questionnaire",
   "metadata": {},
   "outputs": [
    {
     "name": "stdout",
     "output_type": "stream",
     "text": [
      "house5\n"
     ]
    }
   ],
   "source": [
    "building = 'house'\n",
    "print(building + str(5))"
   ]
  },
  {
   "cell_type": "code",
   "execution_count": 34,
   "id": "universal-market",
   "metadata": {},
   "outputs": [
    {
     "name": "stdout",
     "output_type": "stream",
     "text": [
      "5\n",
      "<class 'int'>\n"
     ]
    }
   ],
   "source": [
    "number = 5\n",
    "print(str(number))\n",
    "print(type(number))"
   ]
  },
  {
   "cell_type": "code",
   "execution_count": 35,
   "id": "sudden-arnold",
   "metadata": {},
   "outputs": [
    {
     "name": "stdout",
     "output_type": "stream",
     "text": [
      "NewYork\n"
     ]
    }
   ],
   "source": [
    "print(\"New\" + \"York\")"
   ]
  },
  {
   "cell_type": "code",
   "execution_count": 36,
   "id": "collective-horror",
   "metadata": {},
   "outputs": [
    {
     "name": "stdout",
     "output_type": "stream",
     "text": [
      "New York\n"
     ]
    }
   ],
   "source": [
    "print(\"New \" + \"York\")"
   ]
  },
  {
   "cell_type": "code",
   "execution_count": 37,
   "id": "recognized-tulsa",
   "metadata": {},
   "outputs": [
    {
     "name": "stdout",
     "output_type": "stream",
     "text": [
      "I went to New York\n"
     ]
    }
   ],
   "source": [
    "place = \"New York\"\n",
    "visit = \"I went to \"\n",
    "print(visit + place)"
   ]
  },
  {
   "cell_type": "code",
   "execution_count": 38,
   "id": "aggregate-nashville",
   "metadata": {},
   "outputs": [
    {
     "name": "stdout",
     "output_type": "stream",
     "text": [
      "I went to New York\n"
     ]
    }
   ],
   "source": [
    "visit = \"I went to {}\"\n",
    "print(visit.format(place))"
   ]
  },
  {
   "cell_type": "code",
   "execution_count": 41,
   "id": "shared-progress",
   "metadata": {},
   "outputs": [
    {
     "name": "stdout",
     "output_type": "stream",
     "text": [
      "john, paul, ringo, and other guy\n"
     ]
    }
   ],
   "source": [
    "beatles = \"{}, {}, {}, and {}\"\n",
    "print(beatles.format('john', 'paul', 'ringo', 'other guy'))"
   ]
  },
  {
   "cell_type": "code",
   "execution_count": 45,
   "id": "charitable-switzerland",
   "metadata": {},
   "outputs": [
    {
     "name": "stdout",
     "output_type": "stream",
     "text": [
      "U\n",
      "Un\n",
      "ersity of Washington\n"
     ]
    }
   ],
   "source": [
    "location = \"University of Washington\"\n",
    "print(location [0])\n",
    "print(location [0 : 2])\n",
    "print(location [4 : ] )"
   ]
  },
  {
   "cell_type": "code",
   "execution_count": null,
   "id": "closed-navigation",
   "metadata": {},
   "outputs": [],
   "source": []
  }
 ],
 "metadata": {
  "kernelspec": {
   "display_name": "Python 3",
   "language": "python",
   "name": "python3"
  },
  "language_info": {
   "codemirror_mode": {
    "name": "ipython",
    "version": 3
   },
   "file_extension": ".py",
   "mimetype": "text/x-python",
   "name": "python",
   "nbconvert_exporter": "python",
   "pygments_lexer": "ipython3",
   "version": "3.9.1"
  }
 },
 "nbformat": 4,
 "nbformat_minor": 5
}
