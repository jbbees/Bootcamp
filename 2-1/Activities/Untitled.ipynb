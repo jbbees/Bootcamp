{
 "cells": [
  {
   "cell_type": "code",
   "execution_count": 16,
   "id": "interested-airfare",
   "metadata": {},
   "outputs": [
    {
     "name": "stdout",
     "output_type": "stream",
     "text": [
      "What's today's closing price?\n"
     ]
    },
    {
     "name": "stdin",
     "output_type": "stream",
     "text": [
      " 300\n"
     ]
    },
    {
     "name": "stdout",
     "output_type": "stream",
     "text": [
      "What was yesterday's closing price?\n"
     ]
    },
    {
     "name": "stdin",
     "output_type": "stream",
     "text": [
      " 230\n"
     ]
    },
    {
     "name": "stdout",
     "output_type": "stream",
     "text": [
      "<class 'int'>\n",
      "<class 'int'>\n",
      "30\n",
      "<class 'float'>\n",
      "The price of Netflix increased by $70.\n",
      "That is a percent gain of 30.434782608695656%\n",
      "Time to sell for profit!\n"
     ]
    }
   ],
   "source": [
    "print(\"What's today's closing price?\")\n",
    "current_price = eval(input())                  #using the input() function makes value enteted a string-value even if it's a number\n",
    "                                               #wrap your inputs with an eval() to make it a number-type\n",
    "print(\"What was yesterday's closing price?\")\n",
    "original_price = eval(input())                  \n",
    "\n",
    "print(type(current_price))\n",
    "print(type(original_price))\n",
    "\n",
    "increase = current_price - original_price\n",
    "percent_increase = increase / original_price * 100\n",
    "\n",
    "threshold_to_buy \n",
    "threshold_to_sell\n",
    "recommendation = ' '\n",
    "\n",
    "if percent_increase >= 20.0:\n",
    "    print(f\"The price of Netflix increased by ${increase}.\")\n",
    "    print(f\"That is a percent gain of {percent_increase}%\")\n",
    "    print(\"Time to sell for profit!\")\n",
    "else:\n",
    "    print(f\"That's a percent change of {percent_increase}&\")\n",
    "    print(\"Time to sell. Not gaining enough money.\")"
   ]
  },
  {
   "cell_type": "code",
   "execution_count": 23,
   "id": "absent-wednesday",
   "metadata": {},
   "outputs": [
    {
     "name": "stdin",
     "output_type": "stream",
     "text": [
      "> 38\n"
     ]
    },
    {
     "name": "stdout",
     "output_type": "stream",
     "text": [
      "<class 'str'>\n",
      ">\n",
      "<class 'float'>\n",
      "38.0\n",
      "48.0\n"
     ]
    }
   ],
   "source": [
    "prompt = '>'\n",
    "age = float(input(prompt))\n",
    "print(type(prompt))\n",
    "print(prompt)\n",
    "print(type(age))\n",
    "print(age)\n",
    "future_age = age + 10\n",
    "print(future_age)"
   ]
  },
  {
   "cell_type": "code",
   "execution_count": 24,
   "id": "scheduled-pressing",
   "metadata": {},
   "outputs": [
    {
     "ename": "SyntaxError",
     "evalue": "cannot assign to function call (<ipython-input-24-3d3dd9e27c39>, line 1)",
     "output_type": "error",
     "traceback": [
      "\u001b[1;36m  File \u001b[1;32m\"<ipython-input-24-3d3dd9e27c39>\"\u001b[1;36m, line \u001b[1;32m1\u001b[0m\n\u001b[1;33m    john() = x\u001b[0m\n\u001b[1;37m    ^\u001b[0m\n\u001b[1;31mSyntaxError\u001b[0m\u001b[1;31m:\u001b[0m cannot assign to function call\n"
     ]
    }
   ],
   "source": [
    "john() = x"
   ]
  },
  {
   "cell_type": "code",
   "execution_count": null,
   "id": "alert-steam",
   "metadata": {},
   "outputs": [],
   "source": []
  }
 ],
 "metadata": {
  "kernelspec": {
   "display_name": "Python 3",
   "language": "python",
   "name": "python3"
  },
  "language_info": {
   "codemirror_mode": {
    "name": "ipython",
    "version": 3
   },
   "file_extension": ".py",
   "mimetype": "text/x-python",
   "name": "python",
   "nbconvert_exporter": "python",
   "pygments_lexer": "ipython3",
   "version": "3.9.1"
  }
 },
 "nbformat": 4,
 "nbformat_minor": 5
}
