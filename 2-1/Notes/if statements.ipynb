{
 "cells": [
  {
   "cell_type": "code",
   "execution_count": 1,
   "id": "soviet-universe",
   "metadata": {},
   "outputs": [
    {
     "name": "stdout",
     "output_type": "stream",
     "text": [
      "Activating auto-pilot.\n",
      "Everything is safe.\n",
      "Code executed.\n"
     ]
    }
   ],
   "source": [
    "# the driver has fallen asleep. Execute code. \n",
    "driverless_car = True\n",
    "\n",
    "if driverless_car == True:\n",
    "    print(\"Activating auto-pilot.\")\n",
    "    print(\"Everything is safe.\")\n",
    "else:\n",
    "    print(\"Panic-mode!\")\n",
    "    print(\"Sound the horn!\")\n",
    "    \n",
    "print(\"Code executed.\") "
   ]
  },
  {
   "cell_type": "code",
   "execution_count": null,
   "id": "seasonal-diana",
   "metadata": {},
   "outputs": [],
   "source": []
  }
 ],
 "metadata": {
  "kernelspec": {
   "display_name": "Python 3",
   "language": "python",
   "name": "python3"
  },
  "language_info": {
   "codemirror_mode": {
    "name": "ipython",
    "version": 3
   },
   "file_extension": ".py",
   "mimetype": "text/x-python",
   "name": "python",
   "nbconvert_exporter": "python",
   "pygments_lexer": "ipython3",
   "version": "3.9.1"
  }
 },
 "nbformat": 4,
 "nbformat_minor": 5
}
