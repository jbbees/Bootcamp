{
 "cells": [
  {
   "cell_type": "code",
   "execution_count": 1,
   "id": "contrary-wallet",
   "metadata": {},
   "outputs": [],
   "source": [
    "title = \"Frankfurter\"\n",
    "years = 23\n",
    "hourly_wage = 65.40\n",
    "expert_status = True "
   ]
  },
  {
   "cell_type": "code",
   "execution_count": 2,
   "id": "sustainable-quarterly",
   "metadata": {},
   "outputs": [
    {
     "name": "stdout",
     "output_type": "stream",
     "text": [
      "Frankfurter\n",
      "23\n",
      "65.4\n",
      "True\n"
     ]
    }
   ],
   "source": [
    "print(title)\n",
    "print(years)\n",
    "print(hourly_wage)\n",
    "print(expert_status)"
   ]
  },
  {
   "cell_type": "code",
   "execution_count": 4,
   "id": "opposed-interest",
   "metadata": {},
   "outputs": [
    {
     "name": "stdout",
     "output_type": "stream",
     "text": [
      "<class 'str'>\n",
      "<class 'int'>\n",
      "<class 'float'>\n",
      "<class 'bool'>\n"
     ]
    }
   ],
   "source": [
    "print(type(title))\n",
    "print(type(years))\n",
    "print(type(hourly_wage))\n",
    "print(type(expert_status))"
   ]
  },
  {
   "cell_type": "code",
   "execution_count": 5,
   "id": "satisfied-tournament",
   "metadata": {},
   "outputs": [
    {
     "name": "stdout",
     "output_type": "stream",
     "text": [
      "3128736.0\n"
     ]
    }
   ],
   "source": [
    "print(hourly_wage * 40 * 52 * years)"
   ]
  },
  {
   "cell_type": "code",
   "execution_count": 7,
   "id": "sensitive-harvey",
   "metadata": {},
   "outputs": [
    {
     "name": "stdout",
     "output_type": "stream",
     "text": [
      "Frankfurter is a city.\n"
     ]
    }
   ],
   "source": [
    "print(title, \"is a city.\")"
   ]
  },
  {
   "cell_type": "code",
   "execution_count": 8,
   "id": "italian-kennedy",
   "metadata": {},
   "outputs": [
    {
     "name": "stdout",
     "output_type": "stream",
     "text": [
      "Frankfurteris a city.\n"
     ]
    }
   ],
   "source": [
    "print(title + \"is a city.\")"
   ]
  },
  {
   "cell_type": "code",
   "execution_count": 9,
   "id": "universal-rebate",
   "metadata": {},
   "outputs": [
    {
     "name": "stdout",
     "output_type": "stream",
     "text": [
      "Frankfurter is a city.\n"
     ]
    }
   ],
   "source": [
    "print(title + \" is a city.\")"
   ]
  },
  {
   "cell_type": "code",
   "execution_count": 10,
   "id": "defined-bacon",
   "metadata": {},
   "outputs": [
    {
     "name": "stdout",
     "output_type": "stream",
     "text": [
      "88.4\n"
     ]
    }
   ],
   "source": [
    "print(hourly_wage + years)"
   ]
  },
  {
   "cell_type": "code",
   "execution_count": 11,
   "id": "acute-explanation",
   "metadata": {},
   "outputs": [
    {
     "name": "stdout",
     "output_type": "stream",
     "text": [
      "Frankfurter is a city.\n"
     ]
    }
   ],
   "source": [
    "print(f\"{title} is a city.\")"
   ]
  },
  {
   "cell_type": "code",
   "execution_count": 13,
   "id": "personalized-japanese",
   "metadata": {},
   "outputs": [
    {
     "name": "stdout",
     "output_type": "stream",
     "text": [
      "I have ${money} dollars.\n"
     ]
    }
   ],
   "source": [
    "money = 25.00\n",
    "print(\"I have ${money} dollars.\")"
   ]
  },
  {
   "cell_type": "code",
   "execution_count": 30,
   "id": "classical-graph",
   "metadata": {},
   "outputs": [
    {
     "name": "stdout",
     "output_type": "stream",
     "text": [
      "I have $25.0 dollars.\n"
     ]
    }
   ],
   "source": [
    "money = 25.00  \n",
    "print(f\"I have ${money} dollars.\")"
   ]
  },
  {
   "cell_type": "code",
   "execution_count": 31,
   "id": "brown-master",
   "metadata": {},
   "outputs": [
    {
     "name": "stdout",
     "output_type": "stream",
     "text": [
      "<class 'float'>\n"
     ]
    }
   ],
   "source": [
    "print(type(money))"
   ]
  },
  {
   "cell_type": "code",
   "execution_count": 26,
   "id": "faced-housing",
   "metadata": {},
   "outputs": [
    {
     "name": "stdout",
     "output_type": "stream",
     "text": [
      "None\n"
     ]
    }
   ],
   "source": [
    "print(money)"
   ]
  },
  {
   "cell_type": "code",
   "execution_count": 27,
   "id": "touched-blair",
   "metadata": {},
   "outputs": [
    {
     "ename": "TypeError",
     "evalue": "unsupported operand type(s) for +: 'NoneType' and 'NoneType'",
     "output_type": "error",
     "traceback": [
      "\u001b[1;31m---------------------------------------------------------------------------\u001b[0m",
      "\u001b[1;31mTypeError\u001b[0m                                 Traceback (most recent call last)",
      "\u001b[1;32m<ipython-input-27-51efd31cb3f3>\u001b[0m in \u001b[0;36m<module>\u001b[1;34m\u001b[0m\n\u001b[0;32m      1\u001b[0m \u001b[0mnumber\u001b[0m \u001b[1;33m=\u001b[0m \u001b[1;32mNone\u001b[0m\u001b[1;33m\u001b[0m\u001b[1;33m\u001b[0m\u001b[0m\n\u001b[0;32m      2\u001b[0m \u001b[0mnull\u001b[0m \u001b[1;33m=\u001b[0m \u001b[1;32mNone\u001b[0m\u001b[1;33m\u001b[0m\u001b[1;33m\u001b[0m\u001b[0m\n\u001b[1;32m----> 3\u001b[1;33m \u001b[0mprint\u001b[0m\u001b[1;33m(\u001b[0m\u001b[0mnumber\u001b[0m \u001b[1;33m+\u001b[0m \u001b[0mnull\u001b[0m\u001b[1;33m)\u001b[0m\u001b[1;33m\u001b[0m\u001b[1;33m\u001b[0m\u001b[0m\n\u001b[0m",
      "\u001b[1;31mTypeError\u001b[0m: unsupported operand type(s) for +: 'NoneType' and 'NoneType'"
     ]
    }
   ],
   "source": [
    "number = None\n",
    "null = None\n",
    "print(number + null)"
   ]
  },
  {
   "cell_type": "code",
   "execution_count": 28,
   "id": "powered-davis",
   "metadata": {},
   "outputs": [
    {
     "name": "stdout",
     "output_type": "stream",
     "text": [
      "24\n"
     ]
    }
   ],
   "source": [
    "sentence = \"University of Washington\"\n",
    "print(len(sentence))"
   ]
  },
  {
   "cell_type": "code",
   "execution_count": 29,
   "id": "superb-borough",
   "metadata": {},
   "outputs": [
    {
     "name": "stdout",
     "output_type": "stream",
     "text": [
      "University of WashingtonUniversity of WashingtonUniversity of Washington\n"
     ]
    }
   ],
   "source": [
    "print(sentence * 3)"
   ]
  },
  {
   "cell_type": "code",
   "execution_count": 33,
   "id": "missing-testing",
   "metadata": {},
   "outputs": [
    {
     "name": "stdout",
     "output_type": "stream",
     "text": [
      "house5\n"
     ]
    }
   ],
   "source": [
    "building = 'house'\n",
    "print(building + str(5))"
   ]
  },
  {
   "cell_type": "code",
   "execution_count": 34,
   "id": "unable-conference",
   "metadata": {},
   "outputs": [
    {
     "name": "stdout",
     "output_type": "stream",
     "text": [
      "5\n",
      "<class 'int'>\n"
     ]
    }
   ],
   "source": [
    "number = 5\n",
    "print(str(number))\n",
    "print(type(number))"
   ]
  },
  {
   "cell_type": "code",
   "execution_count": 35,
   "id": "still-humanity",
   "metadata": {},
   "outputs": [
    {
     "name": "stdout",
     "output_type": "stream",
     "text": [
      "NewYork\n"
     ]
    }
   ],
   "source": [
    "print(\"New\" + \"York\")"
   ]
  },
  {
   "cell_type": "code",
   "execution_count": 36,
   "id": "liked-detroit",
   "metadata": {},
   "outputs": [
    {
     "name": "stdout",
     "output_type": "stream",
     "text": [
      "New York\n"
     ]
    }
   ],
   "source": [
    "print(\"New \" + \"York\")"
   ]
  },
  {
   "cell_type": "code",
   "execution_count": 37,
   "id": "noted-liberty",
   "metadata": {},
   "outputs": [
    {
     "name": "stdout",
     "output_type": "stream",
     "text": [
      "I went to New York\n"
     ]
    }
   ],
   "source": [
    "place = \"New York\"\n",
    "visit = \"I went to \"\n",
    "print(visit + place)"
   ]
  },
  {
   "cell_type": "code",
   "execution_count": 38,
   "id": "demanding-favorite",
   "metadata": {},
   "outputs": [
    {
     "name": "stdout",
     "output_type": "stream",
     "text": [
      "I went to New York\n"
     ]
    }
   ],
   "source": [
    "visit = \"I went to {}\"\n",
    "print(visit.format(place))"
   ]
  },
  {
   "cell_type": "code",
   "execution_count": 41,
   "id": "uniform-guest",
   "metadata": {},
   "outputs": [
    {
     "name": "stdout",
     "output_type": "stream",
     "text": [
      "john, paul, ringo, and other guy\n"
     ]
    }
   ],
   "source": [
    "beatles = \"{}, {}, {}, and {}\"\n",
    "print(beatles.format('john', 'paul', 'ringo', 'other guy'))"
   ]
  },
  {
   "cell_type": "code",
   "execution_count": 45,
   "id": "demographic-words",
   "metadata": {},
   "outputs": [
    {
     "name": "stdout",
     "output_type": "stream",
     "text": [
      "U\n",
      "Un\n",
      "ersity of Washington\n"
     ]
    }
   ],
   "source": [
    "location = \"University of Washington\"\n",
    "print(location [0])\n",
    "print(location [0 : 2])\n",
    "print(location [4 : ] )"
   ]
  },
  {
   "cell_type": "code",
   "execution_count": 4,
   "id": "mobile-reporter",
   "metadata": {},
   "outputs": [
    {
     "name": "stdout",
     "output_type": "stream",
     "text": [
      "1\t2\n",
      "3\n"
     ]
    }
   ],
   "source": [
    "text = \"1\\t2\\n3\"\n",
    "print(text)"
   ]
  },
  {
   "cell_type": "code",
   "execution_count": 6,
   "id": "measured-contents",
   "metadata": {},
   "outputs": [
    {
     "name": "stdout",
     "output_type": "stream",
     "text": [
      "I \t am a great coder.\n"
     ]
    }
   ],
   "source": [
    "text = \"I \\t am a great coder.\"\n",
    "print(text)"
   ]
  },
  {
   "cell_type": "code",
   "execution_count": 7,
   "id": "cosmetic-institute",
   "metadata": {},
   "outputs": [
    {
     "ename": "SyntaxError",
     "evalue": "invalid syntax (<ipython-input-7-b76cb5b1123b>, line 1)",
     "output_type": "error",
     "traceback": [
      "\u001b[1;36m  File \u001b[1;32m\"<ipython-input-7-b76cb5b1123b>\"\u001b[1;36m, line \u001b[1;32m1\u001b[0m\n\u001b[1;33m    quote = \"The woman said \"Hello\"\"\u001b[0m\n\u001b[1;37m                             ^\u001b[0m\n\u001b[1;31mSyntaxError\u001b[0m\u001b[1;31m:\u001b[0m invalid syntax\n"
     ]
    }
   ],
   "source": [
    "quote = \"The woman said \"Hello\"\"   #you cannot have quotes within quotes. \"The woman said \" Hello \"\" Hello is not in the string. \n",
    "print(quote)"
   ]
  },
  {
   "cell_type": "code",
   "execution_count": 8,
   "id": "fourth-default",
   "metadata": {},
   "outputs": [
    {
     "name": "stdout",
     "output_type": "stream",
     "text": [
      "The woman said \"Hello\"\n"
     ]
    }
   ],
   "source": [
    "quote = \"The woman said \\\"Hello\\\"\"      # \\\"   \\\" is used to have quotes within quotes without ending the string. \n",
    "print(quote)"
   ]
  },
  {
   "cell_type": "code",
   "execution_count": 9,
   "id": "vocational-alabama",
   "metadata": {},
   "outputs": [
    {
     "name": "stdout",
     "output_type": "stream",
     "text": [
      "The woman said 'Hello'\n"
     ]
    }
   ],
   "source": [
    "quote = \"The woman said 'Hello'\"   # python defines string block based on single ' '  and double \" \" - putting hello in single '' didn't break it.\n",
    "print(quote)"
   ]
  },
  {
   "cell_type": "code",
   "execution_count": 10,
   "id": "adapted-architecture",
   "metadata": {},
   "outputs": [
    {
     "name": "stdout",
     "output_type": "stream",
     "text": [
      "I have a backslash \\ it is not escaping the string.\n"
     ]
    }
   ],
   "source": [
    "# you want to have a backslash \\ in your string put 2 \\\\\n",
    "\n",
    "text = \"I have a backslash \\\\ it is not escaping the string.\"\n",
    "print(text)"
   ]
  },
  {
   "cell_type": "code",
   "execution_count": 11,
   "id": "blessed-kingdom",
   "metadata": {},
   "outputs": [
    {
     "ename": "SyntaxError",
     "evalue": "invalid syntax (<ipython-input-11-97bdb7775081>, line 3)",
     "output_type": "error",
     "traceback": [
      "\u001b[1;36m  File \u001b[1;32m\"<ipython-input-11-97bdb7775081>\"\u001b[1;36m, line \u001b[1;32m3\u001b[0m\n\u001b[1;33m    height = \"I am 6'2\" tall\"\u001b[0m\n\u001b[1;37m                        ^\u001b[0m\n\u001b[1;31mSyntaxError\u001b[0m\u001b[1;31m:\u001b[0m invalid syntax\n"
     ]
    }
   ],
   "source": [
    "# height. code fails because the middle \" breaks the string\n",
    "# I am 6'2\"  tall is outside the string,  and then thinks a\n",
    "\n",
    "height = \"I am 6'2\" tall\"  \n",
    "print(height)"
   ]
  },
  {
   "cell_type": "code",
   "execution_count": 12,
   "id": "intelligent-shanghai",
   "metadata": {},
   "outputs": [
    {
     "name": "stdout",
     "output_type": "stream",
     "text": [
      "I am 6'2\" inches tall.\n"
     ]
    }
   ],
   "source": [
    "# fixed height\n",
    "\n",
    "height = \"I am 6'2\\\" inches tall.\"\n",
    "print(height)"
   ]
  },
  {
   "cell_type": "code",
   "execution_count": 14,
   "id": "promotional-snapshot",
   "metadata": {},
   "outputs": [
    {
     "name": "stdout",
     "output_type": "stream",
     "text": [
      "U n i v e r s i t y   o f   W a s h i n g t o n "
     ]
    }
   ],
   "source": [
    "text = \"University of Washington\"\n",
    "for letter in text:\n",
    "    print(letter, end= ' ')    # the =end ' ' at the end of a print statement has all output on same line. useful for for-loops. "
   ]
  },
  {
   "cell_type": "code",
   "execution_count": null,
   "id": "detected-determination",
   "metadata": {},
   "outputs": [],
   "source": []
  }
 ],
 "metadata": {
  "kernelspec": {
   "display_name": "Python 3",
   "language": "python",
   "name": "python3"
  },
  "language_info": {
   "codemirror_mode": {
    "name": "ipython",
    "version": 3
   },
   "file_extension": ".py",
   "mimetype": "text/x-python",
   "name": "python",
   "nbconvert_exporter": "python",
   "pygments_lexer": "ipython3",
   "version": "3.9.1"
  }
 },
 "nbformat": 4,
 "nbformat_minor": 5
}
