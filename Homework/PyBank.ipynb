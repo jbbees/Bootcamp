{
 "cells": [
  {
   "cell_type": "markdown",
   "metadata": {},
   "source": [
    "# Homework 02 solution and notes"
   ]
  },
  {
   "cell_type": "code",
   "execution_count": 4,
   "metadata": {},
   "outputs": [],
   "source": [
    "# note .ipynb files are not optimal for this assignment\n",
    "# will only return correct result when each cell is ran once\n",
    "import csv\n",
    "from pathlib import Path"
   ]
  },
  {
   "cell_type": "code",
   "execution_count": 2,
   "metadata": {},
   "outputs": [],
   "source": [
    "load_path = Path('Resources/budget_data.csv')\n",
    "output_path = Path('analysis/budget_analysis.txt') # create the file before"
   ]
  },
  {
   "cell_type": "code",
   "execution_count": 3,
   "metadata": {},
   "outputs": [],
   "source": [
    "# initialize financial params\n",
    "total_months = 0 # int\n",
    "month_of_change = [] # list\n",
    "net_change_list = [] \n",
    "greatest_increase = ['', 0] \n",
    "greatest_decrease = ['', 9999999999999999]\n",
    "total_net = 0"
   ]
  },
  {
   "cell_type": "code",
   "execution_count": 4,
   "metadata": {},
   "outputs": [],
   "source": [
    "# read in csv\n",
    "\"\"\"\n",
    "the with keyword is starndard when dealing with file objects. Advantage: file properly \n",
    "closed after its suite finishes. Equivalent try-finally blocks (see below).\n",
    "\n",
    "try:\n",
    "    file = open(load_path,'r')\n",
    "    try:\n",
    "        line = file.readline()\n",
    "    finally:\n",
    "        file.close()\n",
    "except IOError:\n",
    "    <whatever>\n",
    "\"\"\"\n",
    "\n",
    "with open(load_path) as financial_data:\n",
    "    reader = csv.reader(financial_data)\n",
    "    header = next(reader) # skip the label row\n",
    "    # skipping first row, we want to avoid appending this to our net change calcs\n",
    "    # but we still need to increment the total_months\n",
    "    # we also have to add this to the total_net (i.e. sum of total profits (or losses) for the 86 periods)\n",
    "    # we also have to initalize a prev_net variable so we can accuratley calculate the net_change...\n",
    "    first_row = next(reader) \n",
    "    total_months += 1\n",
    "    #total_months = total_months + 1\n",
    "    total_net += int(first_row[1])\n",
    "    prev_net = int(first_row[1]) \n",
    "    \n",
    "    \"\"\"\n",
    "    Loops through each row in the financial_data (i.e. budget_data.csv)\n",
    "    for each row in the csv our program calculates and stores a few different params\n",
    "    then uses conditional logic to calculate the months that experiences the greatest...\n",
    "    increase and decrease in profits\n",
    "    \"\"\"\n",
    "    \n",
    "    for row in reader:\n",
    "        total_months += 1\n",
    "        total_net += int(row[1]) # adding each instance to the tracked param\n",
    "        \n",
    "        # the net change is accessing the stored prev_net (below)\n",
    "        net_change = int(row[1]) - prev_net\n",
    "        # now we are storing row instance as previous net change\n",
    "        prev_net = int(row[1]) \n",
    "        net_change_list += [net_change]\n",
    "        month_of_change += [row[0]] #[0] repss. the 1st column. Also remember we are trying to access and store inside of a list\n",
    "        \n",
    "        # calc the greatest increase\n",
    "        if net_change > greatest_increase[1]:\n",
    "            greatest_increase[0] = row[0] # assigning a the date value\n",
    "            greatest_increase[1] = net_change # assigning the smaller number to net_change variable\n",
    "        \n",
    "        # calc the greatest decrease\n",
    "        if net_change < greatest_decrease[1]:\n",
    "            greatest_decrease[0] = row[0]\n",
    "            greatest_decrease[1] = net_change "
   ]
  },
  {
   "cell_type": "code",
   "execution_count": 5,
   "metadata": {},
   "outputs": [
    {
     "name": "stdout",
     "output_type": "stream",
     "text": [
      "-2315.1176470588234\n"
     ]
    }
   ],
   "source": [
    "# calc of avg. monthly change for the 86 periods\n",
    "net_monthly_avg = sum(net_change_list)/len(net_change_list)\n",
    "print(net_monthly_avg)"
   ]
  },
  {
   "cell_type": "code",
   "execution_count": 6,
   "metadata": {},
   "outputs": [],
   "source": [
    "# write all of our information to a new text file\n",
    "# create file first\n",
    "with open(output_path, 'w') as txt_file:\n",
    "    txt_file.write(f'Financial Analysis\\n') # \\n == line break\n",
    "    txt_file.write(f'---------------------------\\n') \n",
    "    txt_file.write(f'Total Months: {total_months}\\n')\n",
    "    txt_file.write(f'The Month of Change: {month_of_change}\\n')\n",
    "    txt_file.write(f'The Net Change List: {net_change_list}\\n')\n",
    "    txt_file.write(f'The Greatest Increase: {greatest_increase}\\n')\n",
    "    txt_file.write(f'The Greatest Decrease: {greatest_decrease}\\n')\n",
    "    txt_file.write(f'The Total Profit: {total_net}\\n')\n",
    "    txt_file.write(f'The Average Monthly Change: {net_monthly_avg}\\n')"
   ]
  },
  {
   "cell_type": "markdown",
   "metadata": {},
   "source": [
    "## Taking a closer look"
   ]
  },
  {
   "cell_type": "code",
   "execution_count": 7,
   "metadata": {},
   "outputs": [
    {
     "name": "stdout",
     "output_type": "stream",
     "text": [
      "['Date', 'Profit/Losses']\n",
      "['Jan-2010', '867884']\n",
      "867884\n",
      "86\n",
      "38382578\n",
      "671099\n",
      "[532869]\n",
      "['Feb-2010', 'Mar-2010', 'Apr-2010', 'May-2010', 'Jun-2010', 'Jul-2010', 'Aug-2010', 'Sep-2010', 'Oct-2010', 'Nov-2010', 'Dec-2010', 'Jan-2011', 'Feb-2011', 'Mar-2011', 'Apr-2011', 'May-2011', 'Jun-2011', 'Jul-2011', 'Aug-2011', 'Sep-2011', 'Oct-2011', 'Nov-2011', 'Dec-2011', 'Jan-2012', 'Feb-2012', 'Mar-2012', 'Apr-2012', 'May-2012', 'Jun-2012', 'Jul-2012', 'Aug-2012', 'Sep-2012', 'Oct-2012', 'Nov-2012', 'Dec-2012', 'Jan-2013', 'Feb-2013', 'Mar-2013', 'Apr-2013', 'May-2013', 'Jun-2013', 'Jul-2013', 'Aug-2013', 'Sep-2013', 'Oct-2013', 'Nov-2013', 'Dec-2013', 'Jan-2014', 'Feb-2014', 'Mar-2014', 'Apr-2014', 'May-2014', 'Jun-2014', 'Jul-2014', 'Aug-2014', 'Sep-2014', 'Oct-2014', 'Nov-2014', 'Dec-2014', 'Jan-2015', 'Feb-2015', 'Mar-2015', 'Apr-2015', 'May-2015', 'Jun-2015', 'Jul-2015', 'Aug-2015', 'Sep-2015', 'Oct-2015', 'Nov-2015', 'Dec-2015', 'Jan-2016', 'Feb-2016', 'Mar-2016', 'Apr-2016', 'May-2016', 'Jun-2016', 'Jul-2016', 'Aug-2016', 'Sep-2016', 'Oct-2016', 'Nov-2016', 'Dec-2016', 'Jan-2017', 'Feb-2017']\n",
      "['Feb-2017']\n"
     ]
    }
   ],
   "source": [
    "print(header)\n",
    "print(first_row)\n",
    "print(first_row[1])\n",
    "print(total_months)\n",
    "print(total_net)\n",
    "print(prev_net)\n",
    "print([net_change])\n",
    "print(month_of_change)\n",
    "print([row[0]]) "
   ]
  },
  {
   "cell_type": "code",
   "execution_count": 7,
   "metadata": {},
   "outputs": [
    {
     "name": "stdout",
     "output_type": "stream",
     "text": [
      "[116771, -662642, -391430, 379920, 212354, 510239, -428211, -821271, 693918, 416278, -974163, 860159, -1115009, 1033048, 95318, -308093, 99052, -521393, 605450, 231727, -65187, -702716, 177975, -1065544, 1926159, -917805, 898730, -334262, -246499, -64055, -1529236, 1497596, 304914, -635801, 398319, -183161, -37864, -253689, 403655, 94168, 306877, -83000, 210462, -2196167, 1465222, -956983, 1838447, -468003, -64602, 206242, -242155, -449079, 315198, 241099, 111540, 365942, -219310, -368665, 409837, 151210, -110244, -341938, -1212159, 683246, -70825, 335594, 417334, -272194, -236462, 657432, -211262, -128237, -1750387, 925441, 932089, -311434, 267252, -1876758, 1733696, 198551, -665765, 693229, -734926, 77242, 532869]\n"
     ]
    }
   ],
   "source": [
    "print(net_change_list)"
   ]
  },
  {
   "cell_type": "code",
   "execution_count": 12,
   "metadata": {},
   "outputs": [
    {
     "data": {
      "text/plain": [
       "False"
      ]
     },
     "execution_count": 12,
     "metadata": {},
     "output_type": "execute_result"
    }
   ],
   "source": [
    "# we have to use the list\n",
    "net_change == sum(net_change_list)"
   ]
  },
  {
   "cell_type": "code",
   "execution_count": 8,
   "metadata": {},
   "outputs": [
    {
     "name": "stdout",
     "output_type": "stream",
     "text": [
      "<class 'int'>\n",
      "532869\n",
      "---------\n",
      "<class 'list'>\n",
      "85\n"
     ]
    }
   ],
   "source": [
    "print(type(net_change))\n",
    "print(net_change)\n",
    "print('---------')\n",
    "print(type(net_change_list))\n",
    "print(len(net_change_list))"
   ]
  },
  {
   "cell_type": "markdown",
   "metadata": {},
   "source": [
    "# Concepts needed to understand homework 02"
   ]
  },
  {
   "cell_type": "markdown",
   "metadata": {},
   "source": [
    "# Lists"
   ]
  },
  {
   "cell_type": "code",
   "execution_count": 2,
   "metadata": {},
   "outputs": [
    {
     "name": "stdout",
     "output_type": "stream",
     "text": [
      "['sammy is awesome', 1, 1, 3, 4, 5]\n"
     ]
    }
   ],
   "source": [
    "myList = []\n",
    "myList.append(1) # goes to index 0...and so on\n",
    "myList.append(1)\n",
    "myList.append(3)\n",
    "myList.append(4)\n",
    "myList.append(5)\n",
    "myList.insert(0, 'sammy is awesome')\n",
    "print(myList)"
   ]
  },
  {
   "cell_type": "code",
   "execution_count": 3,
   "metadata": {},
   "outputs": [
    {
     "ename": "TypeError",
     "evalue": "'>' not supported between instances of 'str' and 'int'",
     "output_type": "error",
     "traceback": [
      "\u001b[1;31m---------------------------------------------------------------------------\u001b[0m",
      "\u001b[1;31mTypeError\u001b[0m                                 Traceback (most recent call last)",
      "\u001b[1;32m<ipython-input-3-72076d37cc3d>\u001b[0m in \u001b[0;36m<module>\u001b[1;34m\u001b[0m\n\u001b[0;32m      2\u001b[0m \u001b[0msmaller_than_two\u001b[0m \u001b[1;33m=\u001b[0m \u001b[1;33m[\u001b[0m\u001b[1;33m]\u001b[0m\u001b[1;33m\u001b[0m\u001b[1;33m\u001b[0m\u001b[0m\n\u001b[0;32m      3\u001b[0m \u001b[1;32mfor\u001b[0m \u001b[0mi\u001b[0m \u001b[1;32min\u001b[0m \u001b[0mmyList\u001b[0m\u001b[1;33m:\u001b[0m                                   \u001b[1;31m#myList is not defined.\u001b[0m\u001b[1;33m\u001b[0m\u001b[1;33m\u001b[0m\u001b[0m\n\u001b[1;32m----> 4\u001b[1;33m     \u001b[1;32mif\u001b[0m \u001b[0mi\u001b[0m \u001b[1;33m>\u001b[0m \u001b[1;36m2\u001b[0m\u001b[1;33m:\u001b[0m\u001b[1;33m\u001b[0m\u001b[1;33m\u001b[0m\u001b[0m\n\u001b[0m\u001b[0;32m      5\u001b[0m         \u001b[0mlarger_than_two\u001b[0m\u001b[1;33m.\u001b[0m\u001b[0mappend\u001b[0m\u001b[1;33m(\u001b[0m\u001b[0mi\u001b[0m\u001b[1;33m)\u001b[0m\u001b[1;33m\u001b[0m\u001b[1;33m\u001b[0m\u001b[0m\n\u001b[0;32m      6\u001b[0m     \u001b[1;32melif\u001b[0m \u001b[0mi\u001b[0m \u001b[1;33m<\u001b[0m \u001b[1;36m2\u001b[0m\u001b[1;33m:\u001b[0m\u001b[1;33m\u001b[0m\u001b[1;33m\u001b[0m\u001b[0m\n",
      "\u001b[1;31mTypeError\u001b[0m: '>' not supported between instances of 'str' and 'int'"
     ]
    }
   ],
   "source": [
    "larger_than_two = []\n",
    "smaller_than_two = []\n",
    "for i in myList:                                   #myList is not defined.\n",
    "    if i > 2:\n",
    "        larger_than_two.append(i)\n",
    "    elif i < 2:\n",
    "        smaller_than_two.append(i)\n",
    "    #else:\n",
    "    #    smaller_than_two.append(i)\n",
    "print(myList)\n",
    "print(larger_than_two)\n",
    "print(smaller_than_two)"
   ]
  },
  {
   "cell_type": "code",
   "execution_count": 17,
   "metadata": {},
   "outputs": [
    {
     "name": "stdout",
     "output_type": "stream",
     "text": [
      "siege\n",
      "2\n"
     ]
    }
   ],
   "source": [
    "names = ['sammy','siege','tim','tom','lee']\n",
    "numbers = [1,2,3,4,5]\n",
    "def select_second(i):\n",
    "    return i[1]\n",
    "print(select_second(names))\n",
    "print(select_second(numbers))\n",
    "# variables declared inside of "
   ]
  },
  {
   "cell_type": "markdown",
   "metadata": {},
   "source": [
    "# Conditionals"
   ]
  },
  {
   "cell_type": "code",
   "execution_count": 25,
   "metadata": {},
   "outputs": [
    {
     "name": "stdin",
     "output_type": "stream",
     "text": [
      " s\n"
     ]
    },
    {
     "name": "stdout",
     "output_type": "stream",
     "text": [
      "invalid choice.\n"
     ]
    }
   ],
   "source": [
    "choice = input()\n",
    "if choice == 'a':\n",
    "    print('you chose a.')\n",
    "elif choice == 'b':\n",
    "    print('you chose b.')\n",
    "elif choice == 'c':\n",
    "    print('you chose c.')\n",
    "else:\n",
    "    print('invalid choice.')"
   ]
  },
  {
   "cell_type": "code",
   "execution_count": 26,
   "metadata": {},
   "outputs": [
    {
     "name": "stdin",
     "output_type": "stream",
     "text": [
      "what is your favorite food? spam\n"
     ]
    },
    {
     "name": "stdout",
     "output_type": "stream",
     "text": [
      "yum, i love spam\n"
     ]
    }
   ],
   "source": [
    "food = input(f\"what is your favorite food?\")\n",
    "\n",
    "if food == 'spam':\n",
    "    print('yum, i love spam')\n",
    "elif food == 'Spam':\n",
    "    print('yum, i love spam')\n",
    "else:\n",
    "    print('No, i only want spam')"
   ]
  },
  {
   "cell_type": "markdown",
   "metadata": {},
   "source": [
    "# Loops"
   ]
  },
  {
   "cell_type": "code",
   "execution_count": 22,
   "metadata": {},
   "outputs": [
    {
     "name": "stdout",
     "output_type": "stream",
     "text": [
      "Hi, margot please come to office hours\n",
      "Hi, kate please come to office hours\n",
      "Hi, sammy please come to office hours\n",
      "Hi, allen please come to office hours\n",
      "Hi, matt please come to office hours\n"
     ]
    }
   ],
   "source": [
    "for friend in ['margot', 'kate','sammy','allen','matt']:\n",
    "    invitation = f'Hi, {friend} please come to office hours'\n",
    "    print(invitation)"
   ]
  },
  {
   "cell_type": "code",
   "execution_count": 1,
   "metadata": {},
   "outputs": [
    {
     "name": "stdout",
     "output_type": "stream",
     "text": [
      "i is now 0\n",
      "i is now 1\n",
      "i is now 2\n",
      "i is now 3\n",
      "i is now 4\n",
      "i is now 5\n",
      "i is now 6\n",
      "i is now 7\n",
      "i is now 8\n",
      "i is now 9\n"
     ]
    }
   ],
   "source": [
    "for i in range(10): # index range\n",
    "    print(f'i is now {i}')"
   ]
  },
  {
   "cell_type": "code",
   "execution_count": 2,
   "metadata": {},
   "outputs": [
    {
     "name": "stdin",
     "output_type": "stream",
     "text": [
      "guess a number between 1 and 100:  40\n"
     ]
    },
    {
     "name": "stdout",
     "output_type": "stream",
     "text": [
      "too high, try again\n"
     ]
    },
    {
     "name": "stdin",
     "output_type": "stream",
     "text": [
      "guess again:  20\n"
     ]
    },
    {
     "name": "stdout",
     "output_type": "stream",
     "text": [
      "too low, try again\n"
     ]
    },
    {
     "name": "stdin",
     "output_type": "stream",
     "text": [
      "guess again:  30\n"
     ]
    },
    {
     "name": "stdout",
     "output_type": "stream",
     "text": [
      "you guessed it! the correct number was 30. it took you 2 attempts.\n"
     ]
    }
   ],
   "source": [
    "import random\n",
    "number = random.randrange(1,100)\n",
    "guess_count = 0\n",
    "guess = int(input('guess a number between 1 and 100: '))\n",
    "\n",
    "while guess != number:\n",
    "    guess_count += 1\n",
    "    if guess > number:\n",
    "        print('too high, try again')\n",
    "    elif guess < number:\n",
    "        print('too low, try again')\n",
    "    guess = int(input('guess again: '))\n",
    "\n",
    "print(f'you guessed it! the correct number was {number}. it took you {guess_count} attempts.')"
   ]
  },
  {
   "cell_type": "markdown",
   "metadata": {},
   "source": [
    "# Variable reassignment"
   ]
  },
  {
   "cell_type": "markdown",
   "metadata": {},
   "source": [
    "This is simple, but important to keep in mind "
   ]
  },
  {
   "cell_type": "code",
   "execution_count": 8,
   "metadata": {},
   "outputs": [
    {
     "name": "stdout",
     "output_type": "stream",
     "text": [
      "2\n"
     ]
    }
   ],
   "source": [
    "a = 1\n",
    "a = 2\n",
    "print(a)"
   ]
  },
  {
   "cell_type": "markdown",
   "metadata": {},
   "source": [
    "# Reading in csv's"
   ]
  },
  {
   "cell_type": "markdown",
   "metadata": {},
   "source": [
    "The csv module has the following functions:\n",
    "* csv.reader(csvfile, dialect='excel')\n",
    "This returns a reader object which will iterate over lines in the given csv file. Returns strings.\n",
    "~~~ python\n",
    "import csv\n",
    "with open('budget_data.csv', newline = '') as csvFile:\n",
    "    reader = csv.reader(csvFile)\n",
    "    for row in reader:\n",
    "        print(row[1])\n",
    "~~~\n",
    "* csv.writer(csvfile)\n",
    "Returns a writer object that is responsible for converting the users data into delimited strings on the given file-like object (i.e. in HMWRK 2 we are writing to a .txt file).\n",
    "\n",
    "~~~ python\n",
    "import csv\n",
    "with open(\"txt_analysis.txt\", 'w') as txtFile:\n",
    "    txtFile.write(f\"this is Sammy!\\n\")\n",
    "    txtFile.write(f\" I like to hike and drink matcha lattes\\n\")\n",
    "~~~"
   ]
  },
  {
   "cell_type": "markdown",
   "metadata": {},
   "source": [
    "# Other use cases"
   ]
  },
  {
   "cell_type": "markdown",
   "metadata": {},
   "source": [
    "## Here we will be using the same principles learned in homework 2. The differences are:\n",
    "* we will be doing more calculations\n",
    "* we will download data from Yahoo Finance API\n",
    "* import a few different software packages to get the job done\n",
    "* exporting our dataframe to a csv"
   ]
  },
  {
   "cell_type": "code",
   "execution_count": 1,
   "metadata": {},
   "outputs": [],
   "source": [
    "import yfinance as yf\n",
    "import pandas as pd\n",
    "import statistics\n",
    "import csv\n",
    "from pathlib import Path\n",
    "import math"
   ]
  },
  {
   "cell_type": "code",
   "execution_count": 2,
   "metadata": {},
   "outputs": [
    {
     "name": "stdout",
     "output_type": "stream",
     "text": [
      "[*********************100%***********************]  1 of 1 completed\n"
     ]
    }
   ],
   "source": [
    "data = yf.download('SPY', start = '2018-01-01', end = '2020-01-01')"
   ]
  },
  {
   "cell_type": "code",
   "execution_count": 3,
   "metadata": {},
   "outputs": [
    {
     "data": {
      "text/html": [
       "<div>\n",
       "<style scoped>\n",
       "    .dataframe tbody tr th:only-of-type {\n",
       "        vertical-align: middle;\n",
       "    }\n",
       "\n",
       "    .dataframe tbody tr th {\n",
       "        vertical-align: top;\n",
       "    }\n",
       "\n",
       "    .dataframe thead th {\n",
       "        text-align: right;\n",
       "    }\n",
       "</style>\n",
       "<table border=\"1\" class=\"dataframe\">\n",
       "  <thead>\n",
       "    <tr style=\"text-align: right;\">\n",
       "      <th></th>\n",
       "      <th>Open</th>\n",
       "      <th>High</th>\n",
       "      <th>Low</th>\n",
       "      <th>Close</th>\n",
       "      <th>Adj Close</th>\n",
       "      <th>Volume</th>\n",
       "    </tr>\n",
       "  </thead>\n",
       "  <tbody>\n",
       "    <tr>\n",
       "      <th>count</th>\n",
       "      <td>503.000000</td>\n",
       "      <td>503.000000</td>\n",
       "      <td>503.000000</td>\n",
       "      <td>503.000000</td>\n",
       "      <td>503.000000</td>\n",
       "      <td>5.030000e+02</td>\n",
       "    </tr>\n",
       "    <tr>\n",
       "      <th>mean</th>\n",
       "      <td>282.710696</td>\n",
       "      <td>284.051749</td>\n",
       "      <td>281.141689</td>\n",
       "      <td>282.684174</td>\n",
       "      <td>271.896558</td>\n",
       "      <td>8.357652e+07</td>\n",
       "    </tr>\n",
       "    <tr>\n",
       "      <th>std</th>\n",
       "      <td>15.257929</td>\n",
       "      <td>14.829830</td>\n",
       "      <td>15.713496</td>\n",
       "      <td>15.303106</td>\n",
       "      <td>16.987307</td>\n",
       "      <td>4.191982e+07</td>\n",
       "    </tr>\n",
       "    <tr>\n",
       "      <th>min</th>\n",
       "      <td>235.970001</td>\n",
       "      <td>240.839996</td>\n",
       "      <td>233.759995</td>\n",
       "      <td>234.339996</td>\n",
       "      <td>225.768829</td>\n",
       "      <td>2.027000e+07</td>\n",
       "    </tr>\n",
       "    <tr>\n",
       "      <th>25%</th>\n",
       "      <td>272.149994</td>\n",
       "      <td>273.490005</td>\n",
       "      <td>270.420013</td>\n",
       "      <td>272.104996</td>\n",
       "      <td>258.965271</td>\n",
       "      <td>5.620910e+07</td>\n",
       "    </tr>\n",
       "    <tr>\n",
       "      <th>50%</th>\n",
       "      <td>281.510010</td>\n",
       "      <td>282.579987</td>\n",
       "      <td>280.160004</td>\n",
       "      <td>281.329987</td>\n",
       "      <td>269.272980</td>\n",
       "      <td>7.227020e+07</td>\n",
       "    </tr>\n",
       "    <tr>\n",
       "      <th>75%</th>\n",
       "      <td>291.699997</td>\n",
       "      <td>293.150009</td>\n",
       "      <td>290.685013</td>\n",
       "      <td>291.899994</td>\n",
       "      <td>282.863861</td>\n",
       "      <td>9.872710e+07</td>\n",
       "    </tr>\n",
       "    <tr>\n",
       "      <th>max</th>\n",
       "      <td>323.739990</td>\n",
       "      <td>323.799988</td>\n",
       "      <td>322.279999</td>\n",
       "      <td>322.940002</td>\n",
       "      <td>317.019714</td>\n",
       "      <td>3.550268e+08</td>\n",
       "    </tr>\n",
       "  </tbody>\n",
       "</table>\n",
       "</div>"
      ],
      "text/plain": [
       "             Open        High         Low       Close   Adj Close  \\\n",
       "count  503.000000  503.000000  503.000000  503.000000  503.000000   \n",
       "mean   282.710696  284.051749  281.141689  282.684174  271.896558   \n",
       "std     15.257929   14.829830   15.713496   15.303106   16.987307   \n",
       "min    235.970001  240.839996  233.759995  234.339996  225.768829   \n",
       "25%    272.149994  273.490005  270.420013  272.104996  258.965271   \n",
       "50%    281.510010  282.579987  280.160004  281.329987  269.272980   \n",
       "75%    291.699997  293.150009  290.685013  291.899994  282.863861   \n",
       "max    323.739990  323.799988  322.279999  322.940002  317.019714   \n",
       "\n",
       "             Volume  \n",
       "count  5.030000e+02  \n",
       "mean   8.357652e+07  \n",
       "std    4.191982e+07  \n",
       "min    2.027000e+07  \n",
       "25%    5.620910e+07  \n",
       "50%    7.227020e+07  \n",
       "75%    9.872710e+07  \n",
       "max    3.550268e+08  "
      ]
     },
     "execution_count": 3,
     "metadata": {},
     "output_type": "execute_result"
    }
   ],
   "source": [
    "df = pd.DataFrame(data)\n",
    "df.describe()"
   ]
  },
  {
   "cell_type": "code",
   "execution_count": 4,
   "metadata": {},
   "outputs": [
    {
     "data": {
      "text/html": [
       "<div>\n",
       "<style scoped>\n",
       "    .dataframe tbody tr th:only-of-type {\n",
       "        vertical-align: middle;\n",
       "    }\n",
       "\n",
       "    .dataframe tbody tr th {\n",
       "        vertical-align: top;\n",
       "    }\n",
       "\n",
       "    .dataframe thead th {\n",
       "        text-align: right;\n",
       "    }\n",
       "</style>\n",
       "<table border=\"1\" class=\"dataframe\">\n",
       "  <thead>\n",
       "    <tr style=\"text-align: right;\">\n",
       "      <th></th>\n",
       "      <th>Open</th>\n",
       "      <th>High</th>\n",
       "      <th>Low</th>\n",
       "      <th>Close</th>\n",
       "      <th>Adj Close</th>\n",
       "      <th>Volume</th>\n",
       "    </tr>\n",
       "    <tr>\n",
       "      <th>Date</th>\n",
       "      <th></th>\n",
       "      <th></th>\n",
       "      <th></th>\n",
       "      <th></th>\n",
       "      <th></th>\n",
       "      <th></th>\n",
       "    </tr>\n",
       "  </thead>\n",
       "  <tbody>\n",
       "    <tr>\n",
       "      <th>2018-01-02</th>\n",
       "      <td>267.839996</td>\n",
       "      <td>268.809998</td>\n",
       "      <td>267.399994</td>\n",
       "      <td>268.769989</td>\n",
       "      <td>254.112717</td>\n",
       "      <td>86655700</td>\n",
       "    </tr>\n",
       "    <tr>\n",
       "      <th>2018-01-03</th>\n",
       "      <td>268.959991</td>\n",
       "      <td>270.640015</td>\n",
       "      <td>268.959991</td>\n",
       "      <td>270.470001</td>\n",
       "      <td>255.719986</td>\n",
       "      <td>90070400</td>\n",
       "    </tr>\n",
       "    <tr>\n",
       "      <th>2018-01-04</th>\n",
       "      <td>271.200012</td>\n",
       "      <td>272.160004</td>\n",
       "      <td>270.540009</td>\n",
       "      <td>271.609985</td>\n",
       "      <td>256.797821</td>\n",
       "      <td>80636400</td>\n",
       "    </tr>\n",
       "    <tr>\n",
       "      <th>2018-01-05</th>\n",
       "      <td>272.510010</td>\n",
       "      <td>273.559998</td>\n",
       "      <td>271.950012</td>\n",
       "      <td>273.420013</td>\n",
       "      <td>258.509186</td>\n",
       "      <td>83524000</td>\n",
       "    </tr>\n",
       "    <tr>\n",
       "      <th>2018-01-08</th>\n",
       "      <td>273.309998</td>\n",
       "      <td>274.100006</td>\n",
       "      <td>272.980011</td>\n",
       "      <td>273.920013</td>\n",
       "      <td>258.981873</td>\n",
       "      <td>57319200</td>\n",
       "    </tr>\n",
       "    <tr>\n",
       "      <th>...</th>\n",
       "      <td>...</td>\n",
       "      <td>...</td>\n",
       "      <td>...</td>\n",
       "      <td>...</td>\n",
       "      <td>...</td>\n",
       "      <td>...</td>\n",
       "    </tr>\n",
       "    <tr>\n",
       "      <th>2019-12-24</th>\n",
       "      <td>321.470001</td>\n",
       "      <td>321.519989</td>\n",
       "      <td>320.899994</td>\n",
       "      <td>321.230011</td>\n",
       "      <td>315.341095</td>\n",
       "      <td>20270000</td>\n",
       "    </tr>\n",
       "    <tr>\n",
       "      <th>2019-12-26</th>\n",
       "      <td>321.649994</td>\n",
       "      <td>322.950012</td>\n",
       "      <td>321.640015</td>\n",
       "      <td>322.940002</td>\n",
       "      <td>317.019714</td>\n",
       "      <td>30911200</td>\n",
       "    </tr>\n",
       "    <tr>\n",
       "      <th>2019-12-27</th>\n",
       "      <td>323.739990</td>\n",
       "      <td>323.799988</td>\n",
       "      <td>322.279999</td>\n",
       "      <td>322.859985</td>\n",
       "      <td>316.941162</td>\n",
       "      <td>42528800</td>\n",
       "    </tr>\n",
       "    <tr>\n",
       "      <th>2019-12-30</th>\n",
       "      <td>322.950012</td>\n",
       "      <td>323.100006</td>\n",
       "      <td>320.549988</td>\n",
       "      <td>321.079987</td>\n",
       "      <td>315.193817</td>\n",
       "      <td>49729100</td>\n",
       "    </tr>\n",
       "    <tr>\n",
       "      <th>2019-12-31</th>\n",
       "      <td>320.529999</td>\n",
       "      <td>322.130005</td>\n",
       "      <td>320.149994</td>\n",
       "      <td>321.859985</td>\n",
       "      <td>315.959503</td>\n",
       "      <td>57077300</td>\n",
       "    </tr>\n",
       "  </tbody>\n",
       "</table>\n",
       "<p>503 rows × 6 columns</p>\n",
       "</div>"
      ],
      "text/plain": [
       "                  Open        High         Low       Close   Adj Close  \\\n",
       "Date                                                                     \n",
       "2018-01-02  267.839996  268.809998  267.399994  268.769989  254.112717   \n",
       "2018-01-03  268.959991  270.640015  268.959991  270.470001  255.719986   \n",
       "2018-01-04  271.200012  272.160004  270.540009  271.609985  256.797821   \n",
       "2018-01-05  272.510010  273.559998  271.950012  273.420013  258.509186   \n",
       "2018-01-08  273.309998  274.100006  272.980011  273.920013  258.981873   \n",
       "...                ...         ...         ...         ...         ...   \n",
       "2019-12-24  321.470001  321.519989  320.899994  321.230011  315.341095   \n",
       "2019-12-26  321.649994  322.950012  321.640015  322.940002  317.019714   \n",
       "2019-12-27  323.739990  323.799988  322.279999  322.859985  316.941162   \n",
       "2019-12-30  322.950012  323.100006  320.549988  321.079987  315.193817   \n",
       "2019-12-31  320.529999  322.130005  320.149994  321.859985  315.959503   \n",
       "\n",
       "              Volume  \n",
       "Date                  \n",
       "2018-01-02  86655700  \n",
       "2018-01-03  90070400  \n",
       "2018-01-04  80636400  \n",
       "2018-01-05  83524000  \n",
       "2018-01-08  57319200  \n",
       "...              ...  \n",
       "2019-12-24  20270000  \n",
       "2019-12-26  30911200  \n",
       "2019-12-27  42528800  \n",
       "2019-12-30  49729100  \n",
       "2019-12-31  57077300  \n",
       "\n",
       "[503 rows x 6 columns]"
      ]
     },
     "execution_count": 4,
     "metadata": {},
     "output_type": "execute_result"
    }
   ],
   "source": [
    "df"
   ]
  },
  {
   "cell_type": "code",
   "execution_count": 2,
   "metadata": {
    "collapsed": true,
    "jupyter": {
     "outputs_hidden": true
    }
   },
   "outputs": [
    {
     "ename": "NameError",
     "evalue": "name 'df' is not defined",
     "output_type": "error",
     "traceback": [
      "\u001b[0;31m---------------------------------------------------------------------------\u001b[0m",
      "\u001b[0;31mNameError\u001b[0m                                 Traceback (most recent call last)",
      "\u001b[0;32m<ipython-input-2-4a208bc501ec>\u001b[0m in \u001b[0;36m<module>\u001b[0;34m\u001b[0m\n\u001b[1;32m      1\u001b[0m \u001b[0;31m# export as csv\u001b[0m\u001b[0;34m\u001b[0m\u001b[0;34m\u001b[0m\u001b[0;34m\u001b[0m\u001b[0m\n\u001b[0;32m----> 2\u001b[0;31m \u001b[0mcsv\u001b[0m \u001b[0;34m=\u001b[0m \u001b[0mdf\u001b[0m\u001b[0;34m.\u001b[0m\u001b[0mto_csv\u001b[0m\u001b[0;34m(\u001b[0m\u001b[0;34m'SPY.csv'\u001b[0m\u001b[0;34m)\u001b[0m\u001b[0;34m\u001b[0m\u001b[0;34m\u001b[0m\u001b[0m\n\u001b[0m",
      "\u001b[0;31mNameError\u001b[0m: name 'df' is not defined"
     ]
    }
   ],
   "source": [
    "# export as csv\n",
    "csv = df.to_csv('SPY.csv')"
   ]
  },
  {
   "cell_type": "code",
   "execution_count": 5,
   "metadata": {},
   "outputs": [],
   "source": [
    "# load csv in\n",
    "csvPath = Path('Resources/SPY.csv')"
   ]
  },
  {
   "cell_type": "code",
   "execution_count": 6,
   "metadata": {},
   "outputs": [],
   "source": [
    "# calculate the standard deviation (std) for the period (we will need mean, variance, periods)\n",
    "# calculate annualized std (we will need daily returns)\n",
    "# (note we need to use sampling stats)\n",
    "mean = 0\n",
    "stored_xhat = []\n",
    "periods = 0\n",
    "percent_change_list = []\n",
    "variance = 0"
   ]
  },
  {
   "cell_type": "code",
   "execution_count": 7,
   "metadata": {},
   "outputs": [
    {
     "name": "stdout",
     "output_type": "stream",
     "text": [
      "number of periods: 503\n",
      "mean value: 283\n",
      "variance value: 3.08\n",
      "standard deviation: 1.76\n",
      "annualized standard deviation: 0.198\n"
     ]
    }
   ],
   "source": [
    "# create a reader object\n",
    "with open(csvPath) as spy:\n",
    "    reader = csv.reader(spy)\n",
    "    header = next(reader)\n",
    "    \n",
    "    first_row = next(reader)\n",
    "    periods += 1\n",
    "    prev_value = int(first_row[4])\n",
    "    stored_xhat += [prev_value]\n",
    "    \n",
    "    for row in reader:\n",
    "        \n",
    "        row = int(row[4])\n",
    "        \n",
    "        periods += 1\n",
    "        #periods = periods + 1\n",
    "        \n",
    "        percent_change = (row - prev_value) / (row) * 100\n",
    "        percent_change_list += [percent_change]\n",
    "        prev_value = row\n",
    "        \n",
    "        stored_xhat += [row]\n",
    "\n",
    "mean = sum(stored_xhat)/len(stored_xhat)\n",
    "\n",
    "percent_change_mean = sum(percent_change_list)/len(percent_change_list)\n",
    "\n",
    "diff_from_mean = []\n",
    "diff_from_percent_change_mean = []\n",
    "\n",
    "for x in stored_xhat:\n",
    "    diff_from_mean = [(x - mean)**2]\n",
    "    distance = sum(diff_from_mean)\n",
    "    var = distance/(periods - 1)\n",
    "    std = math.sqrt(var)\n",
    "\n",
    "for z in percent_change_list:\n",
    "    diff_from_percent_change_mean = [(z - percent_change_mean)**2]\n",
    "    distance2 = sum(diff_from_percent_change_mean)\n",
    "    var2 = distance2/(periods - 1)\n",
    "    std2 = math.sqrt(var2)\n",
    "    annual_std = std2 * math.sqrt(252)\n",
    "\n",
    "print(f'number of periods: {periods}')\n",
    "print(f'mean value: {round(mean)}')\n",
    "print(f'variance value: {round(var,2)}')\n",
    "print(f'standard deviation: {round(std,2)}')\n",
    "print(f'annualized standard deviation: {round(annual_std,3)}')"
   ]
  },
  {
   "cell_type": "code",
   "execution_count": 10,
   "metadata": {},
   "outputs": [],
   "source": []
  }
 ],
 "metadata": {
  "kernelspec": {
   "display_name": "Python 3",
   "language": "python",
   "name": "python3"
  },
  "language_info": {
   "codemirror_mode": {
    "name": "ipython",
    "version": 3
   },
   "file_extension": ".py",
   "mimetype": "text/x-python",
   "name": "python",
   "nbconvert_exporter": "python",
   "pygments_lexer": "ipython3",
   "version": "3.9.1"
  }
 },
 "nbformat": 4,
 "nbformat_minor": 4
}
