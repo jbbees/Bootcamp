{
 "cells": [
  {
   "cell_type": "code",
   "execution_count": 5,
   "id": "micro-antigua",
   "metadata": {},
   "outputs": [],
   "source": [
    "# Given a list of dicts for customers \n",
    "\n",
    "customers = [\n",
    "    { \"first_name\": \"Tom\", \"last_name\": \"Bell\", \"revenue\": 0 },\n",
    "    { \"first_name\": \"Maggie\", \"last_name\": \"Johnson\", \"revenue\": 1032 },\n",
    "    { \"first_name\": \"John\", \"last_name\": \"Spectre\", \"revenue\": 2543 },\n",
    "    { \"first_name\": \"Susy\", \"last_name\": \"Simmons\", \"revenue\": 5322 }\n",
    "]"
   ]
  },
  {
   "cell_type": "code",
   "execution_count": 8,
   "id": "checked-ancient",
   "metadata": {},
   "outputs": [
    {
     "name": "stdout",
     "output_type": "stream",
     "text": [
      "Tom\n"
     ]
    }
   ],
   "source": [
    "# grab the first item on the list\n",
    "\n",
    "first_name = customers[0]['first_name']    #[0] this grabs the first dict stored in index 0. ['first_name'] does key lookup and stores that item in variable\n",
    "print(first_name)"
   ]
  },
  {
   "cell_type": "code",
   "execution_count": 14,
   "id": "incorrect-africa",
   "metadata": {},
   "outputs": [
    {
     "name": "stdout",
     "output_type": "stream",
     "text": [
      "Your first name is Tom and your last name is Bell and your revenue is 0\n",
      "Your first name is Maggie and your last name is Johnson and your revenue is 1032\n",
      "Your first name is John and your last name is Spectre and your revenue is 2543\n",
      "Your first name is Susy and your last name is Simmons and your revenue is 5322\n"
     ]
    }
   ],
   "source": [
    "# testing how to loop through a list of dicts and return each item in each nested dict\n",
    "\n",
    "for dict in customers:                                                  # the dictionary {} is stored in x the first loop\n",
    "    first_name = dict['first_name']\n",
    "    last_name = dict['last_name']\n",
    "    revenue = dict['revenue']\n",
    "    \n",
    "    print(f\"Your first name is {first_name} and your last name is {last_name} and your revenue is {revenue}\")"
   ]
  },
  {
   "cell_type": "code",
   "execution_count": 6,
   "id": "alpine-capitol",
   "metadata": {},
   "outputs": [],
   "source": [
    "# Create a function called create greeting that accepts 3 arguments (first_name, last_name, and revenue)\n",
    "\n",
    "def create_greeting(first_name, last_name, revenue):\n",
    "    print(\"Function executing\")    "
   ]
  },
  {
   "cell_type": "code",
   "execution_count": 7,
   "id": "charged-lingerie",
   "metadata": {},
   "outputs": [
    {
     "ename": "TypeError",
     "evalue": "create_greeting() missing 2 required positional arguments: 'last_name' and 'revenue'",
     "output_type": "error",
     "traceback": [
      "\u001b[1;31m---------------------------------------------------------------------------\u001b[0m",
      "\u001b[1;31mTypeError\u001b[0m                                 Traceback (most recent call last)",
      "\u001b[1;32m<ipython-input-7-276a7167a2fb>\u001b[0m in \u001b[0;36m<module>\u001b[1;34m\u001b[0m\n\u001b[1;32m----> 1\u001b[1;33m \u001b[0mfullname\u001b[0m \u001b[1;33m=\u001b[0m \u001b[0mcreate_greeting\u001b[0m\u001b[1;33m(\u001b[0m\u001b[0mcustomers\u001b[0m\u001b[1;33m)\u001b[0m\u001b[1;33m\u001b[0m\u001b[1;33m\u001b[0m\u001b[0m\n\u001b[0m",
      "\u001b[1;31mTypeError\u001b[0m: create_greeting() missing 2 required positional arguments: 'last_name' and 'revenue'"
     ]
    }
   ],
   "source": [
    "# try calling the function and pass the list of dicts vatiable to function.\n",
    "\n",
    "# code fails. the function requires 3 arguments be passed. and the customers list of dicts is only 1 variable.\n",
    "\n",
    "fullname = create_greeting(customers) "
   ]
  },
  {
   "cell_type": "code",
   "execution_count": 21,
   "id": "collected-phoenix",
   "metadata": {},
   "outputs": [],
   "source": [
    "# for-loop has to be outside the function \n",
    "\n",
    "def create_greeting(first_name, last_name, revenue):\n",
    "    \"\"\"Creates a greeting based on the revenue value for the customer and returns it/\"\"\"\n",
    "    \n",
    "    if revenue > 3000:\n",
    "        greeting = f\"Hi {first_name} {last_name}: Thank you for your business of ${revenue}! You are a platinum member.\"\n",
    "    elif revenue > 2000 and revenue <= 3000:\n",
    "        greeting = f\"Hi {first_name} {last_name}: Thank you for your business of ${revenue}! You are a gold member.\"\n",
    "    elif revenue > 1000 and revenue <= 2000:\n",
    "        greeting = f\"Hi {first_name} {last_name}: Thank you for your business of ${revenue}! You are a silver member.\"\n",
    "    else:\n",
    "        greeting = f\"Hi {first_name} {last_name}: Thank you for your business of ${revenue}! You're just a lowly bronze member.\"\n",
    "        \n",
    "    return greeting"
   ]
  },
  {
   "cell_type": "code",
   "execution_count": 22,
   "id": "artificial-dispute",
   "metadata": {},
   "outputs": [
    {
     "name": "stdout",
     "output_type": "stream",
     "text": [
      "Hi Tom Bell: Thank you for your business of $0! You're just a lowly bronze member.\n",
      "Hi Maggie Johnson: Thank you for your business of $1032! You are a silver member.\n",
      "Hi John Spectre: Thank you for your business of $2543! You are a gold member.\n",
      "Hi Susy Simmons: Thank you for your business of $5322! You are a platinum member.\n"
     ]
    }
   ],
   "source": [
    "# loop through customers an\n",
    "\n",
    "for customer in customers:\n",
    "    greeting = create_greeting(customer['first_name'], customer['last_name'], customer['revenue'])\n",
    "    print(greeting)\n",
    "    \n",
    "# this loops through customers [list]{dicts}\n",
    "# 1st loop passes {dict} into customer looping variable, so we have a defacto dictionary called customer{}\n",
    "# calls the create_greeting() function.\n",
    "# passes key lookup for in the dict for each three items.\n",
    "# fucntion will unpack all variables, and base the greeting on the revenue amount decision\n",
    "# returns the customer greeting back to call variable greeting\n",
    "# program prints greeting"
   ]
  },
  {
   "cell_type": "code",
   "execution_count": null,
   "id": "roman-boston",
   "metadata": {},
   "outputs": [],
   "source": []
  }
 ],
 "metadata": {
  "kernelspec": {
   "display_name": "Python 3",
   "language": "python",
   "name": "python3"
  },
  "language_info": {
   "codemirror_mode": {
    "name": "ipython",
    "version": 3
   },
   "file_extension": ".py",
   "mimetype": "text/x-python",
   "name": "python",
   "nbconvert_exporter": "python",
   "pygments_lexer": "ipython3",
   "version": "3.9.1"
  }
 },
 "nbformat": 4,
 "nbformat_minor": 5
}
