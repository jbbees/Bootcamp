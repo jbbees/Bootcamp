{
 "cells": [
  {
   "cell_type": "code",
   "execution_count": 3,
   "id": "amateur-access",
   "metadata": {},
   "outputs": [],
   "source": [
    "FV = 15000\n",
    "i = .10\n",
    "n = 365\n",
    "t = 1"
   ]
  },
  {
   "cell_type": "code",
   "execution_count": 15,
   "id": "noble-detector",
   "metadata": {},
   "outputs": [],
   "source": [
    "#def present_value(FV, i, n, t):\n",
    "    \n",
    "    PV = FV / (1 + (i / n)) ** (n * t)\n",
    "    \n",
    "   # return PV"
   ]
  },
  {
   "cell_type": "code",
   "execution_count": 16,
   "id": "closed-block",
   "metadata": {},
   "outputs": [
    {
     "name": "stdout",
     "output_type": "stream",
     "text": [
      "The present value of $15000 is $13572.747163357626\n"
     ]
    }
   ],
   "source": [
    "PV = present_value(FV, i, n, t)\n",
    "print(f\"The present value of ${FV} is ${PV}\")"
   ]
  },
  {
   "cell_type": "code",
   "execution_count": 25,
   "id": "adjustable-allah",
   "metadata": {},
   "outputs": [],
   "source": [
    "# define a function to calculate present value\n",
    "\n",
    "def present_value(future_value, discount_rate, compounding_periods, years):\n",
    "    \n",
    "    bond_value =  round(future_value / (1 + (discount_rate / compounding_periods) ** (compounding_periods * years)),2)\n",
    "    \n",
    "    return bond_value "
   ]
  },
  {
   "cell_type": "code",
   "execution_count": 31,
   "id": "acute-wildlife",
   "metadata": {},
   "outputs": [],
   "source": [
    "# Another way to define the function\n",
    "\n",
    "def present_value(future_value, discount_rate, compounding_periods, years):\n",
    "    factor = (1 + (discount_rate / compounding_periods)) ** (compounding_periods * years)\n",
    "    bond_value = future_value / factor\n",
    "    bond_value_formatted = round(bond_value, 2)\n",
    "    return bond_value_formatted"
   ]
  },
  {
   "cell_type": "code",
   "execution_count": 34,
   "id": "obvious-excerpt",
   "metadata": {},
   "outputs": [],
   "source": [
    "# Initialize parameters \n",
    "# fv is 1000\n",
    "# price is 700\n",
    "# discount rate is .1\n",
    "# compounding period is annually, so 1\n",
    "\n",
    "price = 700\n",
    "\n",
    "future_value = 1000 \n",
    "\n",
    "discount_rate = .1\n",
    "\n",
    "compounding_periods = 1 \n",
    "\n",
    "years = 5\n",
    "\n",
    "bond_value = present_value(future_value, discount_rate, compounding_periods, years)"
   ]
  },
  {
   "cell_type": "code",
   "execution_count": 35,
   "id": "little-patient",
   "metadata": {},
   "outputs": [],
   "source": [
    "# this will determine what kind of investment this bond will be. \n",
    "\n",
    "if bond_value > price:\n",
    "    status = 'discount'\n",
    "elif bond_value < price:\n",
    "    status = 'premium'\n",
    "else:\n",
    "    status = 'break-even'"
   ]
  },
  {
   "cell_type": "code",
   "execution_count": 36,
   "id": "unknown-journal",
   "metadata": {},
   "outputs": [
    {
     "name": "stdout",
     "output_type": "stream",
     "text": [
      "You are paying $700 for a $1000 bond that is worth $620.92 today.\n",
      " This is being bought at a premium.\n",
      " The difference is -79.08000000000004.\n"
     ]
    }
   ],
   "source": [
    "print(f\"You are paying ${price} for a ${future_value} bond that is worth ${bond_value} today.\\n This is being bought at a {status}.\\n The difference is {bond_value - price}.\")"
   ]
  },
  {
   "cell_type": "code",
   "execution_count": null,
   "id": "structured-hunter",
   "metadata": {},
   "outputs": [],
   "source": [
    "if bond_value > price:\n",
    "    discount = round(bond_value - price, 2)\n",
    "    print(f\"The bond carries a discount of ${discount} and is a good investment.\")\n",
    "elif bond_value < price:\n",
    "    print(\"The bond carries a premium of \")"
   ]
  }
 ],
 "metadata": {
  "kernelspec": {
   "display_name": "Python 3",
   "language": "python",
   "name": "python3"
  },
  "language_info": {
   "codemirror_mode": {
    "name": "ipython",
    "version": 3
   },
   "file_extension": ".py",
   "mimetype": "text/x-python",
   "name": "python",
   "nbconvert_exporter": "python",
   "pygments_lexer": "ipython3",
   "version": "3.9.1"
  }
 },
 "nbformat": 4,
 "nbformat_minor": 5
}
