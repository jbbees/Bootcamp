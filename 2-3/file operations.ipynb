{
 "cells": [
  {
   "cell_type": "code",
   "execution_count": 1,
   "id": "handy-economy",
   "metadata": {},
   "outputs": [
    {
     "ename": "ModuleNotFoundError",
     "evalue": "No module named 'functions'",
     "output_type": "error",
     "traceback": [
      "\u001b[1;31m---------------------------------------------------------------------------\u001b[0m",
      "\u001b[1;31mModuleNotFoundError\u001b[0m                       Traceback (most recent call last)",
      "\u001b[1;32m<ipython-input-1-01a49f1064bc>\u001b[0m in \u001b[0;36m<module>\u001b[1;34m\u001b[0m\n\u001b[1;32m----> 1\u001b[1;33m \u001b[1;32mimport\u001b[0m \u001b[0mfunctions\u001b[0m\u001b[1;33m\u001b[0m\u001b[1;33m\u001b[0m\u001b[0m\n\u001b[0m",
      "\u001b[1;31mModuleNotFoundError\u001b[0m: No module named 'functions'"
     ]
    }
   ],
   "source": [
    "import functions"
   ]
  },
  {
   "cell_type": "code",
   "execution_count": 2,
   "id": "dried-tourist",
   "metadata": {},
   "outputs": [],
   "source": [
    "#numpy library\n",
    "import numpy\n",
    "import numpy_financial as npf"
   ]
  },
  {
   "cell_type": "code",
   "execution_count": 4,
   "id": "moving-space",
   "metadata": {},
   "outputs": [
    {
     "name": "stdout",
     "output_type": "stream",
     "text": [
      "267.94617853971704\n"
     ]
    }
   ],
   "source": [
    "interest_rate = .1\n",
    "cash_flows = [-1000, 400, 400, 400, 400]\n",
    "net_present_value = npf.npv(interest_rate, cash_flows)      # with numpy lib there's a net present value function built-in. npv() is function of numpy\n",
    "print(net_present_value)"
   ]
  },
  {
   "cell_type": "code",
   "execution_count": 3,
   "id": "democratic-device",
   "metadata": {},
   "outputs": [],
   "source": [
    "from pathlib import Path "
   ]
  },
  {
   "cell_type": "code",
   "execution_count": 5,
   "id": "developing-minute",
   "metadata": {},
   "outputs": [
    {
     "name": "stdout",
     "output_type": "stream",
     "text": [
      "The current working directory: C:\\Users\\jakel_lv9e09w\\Bootcamp\\2-3\n"
     ]
    }
   ],
   "source": [
    "print(f\"The current working directory: {Path.cwd()}\")"
   ]
  },
  {
   "cell_type": "code",
   "execution_count": 19,
   "id": "altered-munich",
   "metadata": {},
   "outputs": [
    {
     "name": "stdout",
     "output_type": "stream",
     "text": [
      "C:\\Users\\jakel_lv9e09w\\Bootcamp\\2-3\\john.txt\n"
     ]
    }
   ],
   "source": [
    "# store the file we want into a variable called filepath. Store the path to the file using the Path() function we imported from the pathlib library\n",
    "\n",
    "filepath = Path(\"C:/Users/jakel_lv9e09w/Bootcamp/2-3/john.txt\")   # this is an absolute path that only works on your terminal.\n",
    "\n",
    "print(filepath)"
   ]
  },
  {
   "cell_type": "code",
   "execution_count": 20,
   "id": "english-temperature",
   "metadata": {},
   "outputs": [
    {
     "name": "stdout",
     "output_type": "stream",
     "text": [
      "This is my output\n"
     ]
    }
   ],
   "source": [
    "#open the file. \n",
    "\n",
    "with open(filepath, \"r\") as file:               #open the file in the file path, read contents, store as object in file variable                     \n",
    "    text = file.read()                          #read the contents of the file and store in text variable\n",
    "    print(text)                                 #print the contents "
   ]
  },
  {
   "cell_type": "code",
   "execution_count": 21,
   "id": "typical-insulation",
   "metadata": {},
   "outputs": [
    {
     "name": "stdout",
     "output_type": "stream",
     "text": [
      "line 1: line\n"
     ]
    }
   ],
   "source": [
    "# reading a file line-by-line \n",
    "\n",
    "with open(filepath, \"r\") as file:\n",
    "    line_num = 1                                   # set variable to increment by a line.\n",
    "    for line in file:                              # loop through the file\n",
    "        print(f\"line {line_num}: line\") \n",
    "        line_num += 1                              # increases value of line "
   ]
  },
  {
   "cell_type": "code",
   "execution_count": 22,
   "id": "pleased-crest",
   "metadata": {},
   "outputs": [],
   "source": [
    "# wrtie a file\n",
    "\n",
    "with open(\"C:/Users/jakel_lv9e09w/Bootcamp/2-3/john.txt\", \"w\") as file:\n",
    "    file.write(\"This is my output\")                                               # this will overwrite whatever contents are in the file. not add new line."
   ]
  },
  {
   "cell_type": "code",
   "execution_count": null,
   "id": "sharp-ordering",
   "metadata": {},
   "outputs": [],
   "source": []
  }
 ],
 "metadata": {
  "kernelspec": {
   "display_name": "Python 3",
   "language": "python",
   "name": "python3"
  },
  "language_info": {
   "codemirror_mode": {
    "name": "ipython",
    "version": 3
   },
   "file_extension": ".py",
   "mimetype": "text/x-python",
   "name": "python",
   "nbconvert_exporter": "python",
   "pygments_lexer": "ipython3",
   "version": "3.9.1"
  }
 },
 "nbformat": 4,
 "nbformat_minor": 5
}
