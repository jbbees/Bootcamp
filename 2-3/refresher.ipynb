{
 "cells": [
  {
   "cell_type": "code",
   "execution_count": 5,
   "id": "tough-morning",
   "metadata": {},
   "outputs": [
    {
     "name": "stdout",
     "output_type": "stream",
     "text": [
      "500\n"
     ]
    }
   ],
   "source": [
    "profit_list = [500, 300, 200, 1000, 5000, 2300, 1200, 400, -700, -1400, 300, 2000, 9999]"
   ]
  },
  {
   "cell_type": "code",
   "execution_count": 7,
   "id": "twelve-membrane",
   "metadata": {},
   "outputs": [
    {
     "name": "stdout",
     "output_type": "stream",
     "text": [
      "500\n"
     ]
    }
   ],
   "source": [
    "print(profit_list[0])"
   ]
  },
  {
   "cell_type": "code",
   "execution_count": 8,
   "id": "exclusive-sellers",
   "metadata": {},
   "outputs": [
    {
     "data": {
      "text/plain": [
       "500"
      ]
     },
     "execution_count": 8,
     "metadata": {},
     "output_type": "execute_result"
    }
   ],
   "source": [
    "profit_list[0]"
   ]
  },
  {
   "cell_type": "code",
   "execution_count": 9,
   "id": "monthly-taste",
   "metadata": {},
   "outputs": [
    {
     "data": {
      "text/plain": [
       "10900"
      ]
     },
     "execution_count": 9,
     "metadata": {},
     "output_type": "execute_result"
    }
   ],
   "source": [
    "# grab the last value in list\n",
    "profit_list[-1]"
   ]
  },
  {
   "cell_type": "code",
   "execution_count": 10,
   "id": "suited-assurance",
   "metadata": {},
   "outputs": [],
   "source": [
    "profit_list.append(90133)"
   ]
  },
  {
   "cell_type": "code",
   "execution_count": 11,
   "id": "occasional-indication",
   "metadata": {},
   "outputs": [
    {
     "data": {
      "text/plain": [
       "[500,\n",
       " 300,\n",
       " 200,\n",
       " 1000,\n",
       " 5000,\n",
       " 2300,\n",
       " 1200,\n",
       " 400,\n",
       " -700,\n",
       " -1400,\n",
       " 300,\n",
       " 2000,\n",
       " 9999,\n",
       " 10900,\n",
       " 90133]"
      ]
     },
     "execution_count": 11,
     "metadata": {},
     "output_type": "execute_result"
    }
   ],
   "source": [
    "profit_list"
   ]
  },
  {
   "cell_type": "code",
   "execution_count": 12,
   "id": "lesser-rabbit",
   "metadata": {},
   "outputs": [],
   "source": [
    "# change the value in the list.\n",
    "profit_list[1] = 5000"
   ]
  },
  {
   "cell_type": "code",
   "execution_count": 13,
   "id": "executed-thirty",
   "metadata": {},
   "outputs": [
    {
     "data": {
      "text/plain": [
       "[500,\n",
       " 5000,\n",
       " 200,\n",
       " 1000,\n",
       " 5000,\n",
       " 2300,\n",
       " 1200,\n",
       " 400,\n",
       " -700,\n",
       " -1400,\n",
       " 300,\n",
       " 2000,\n",
       " 9999,\n",
       " 10900,\n",
       " 90133]"
      ]
     },
     "execution_count": 13,
     "metadata": {},
     "output_type": "execute_result"
    }
   ],
   "source": [
    "profit_list"
   ]
  },
  {
   "cell_type": "code",
   "execution_count": 14,
   "id": "correct-validation",
   "metadata": {},
   "outputs": [
    {
     "name": "stdout",
     "output_type": "stream",
     "text": [
      "89633\n"
     ]
    }
   ],
   "source": [
    "variable = profit_list[-1] - profit_list[0]\n",
    "print(variable)"
   ]
  },
  {
   "cell_type": "code",
   "execution_count": 21,
   "id": "registered-dietary",
   "metadata": {},
   "outputs": [
    {
     "name": "stdout",
     "output_type": "stream",
     "text": [
      "The first item in the list is 500\n",
      "\t The last item is 90133 and difference between the two is: 89633\n"
     ]
    }
   ],
   "source": [
    "#printing with embedded lists. Calculating with list print-outs \n",
    "print(f\"The first item in the list is {profit_list[0]}\\n\\t The last item is {profit_list[-1]} and difference between the two is: {profit_list[-1] - profit_list[0]}\")"
   ]
  },
  {
   "cell_type": "code",
   "execution_count": 22,
   "id": "popular-carol",
   "metadata": {},
   "outputs": [],
   "source": [
    "# putting a list in a list. \n",
    "people = ['John', 'Molly', 'Erin', 'Selek', 'Jasmine']\n",
    "popular = [people]"
   ]
  },
  {
   "cell_type": "code",
   "execution_count": 23,
   "id": "female-masters",
   "metadata": {},
   "outputs": [
    {
     "data": {
      "text/plain": [
       "[['John', 'Molly', 'Erin', 'Selek', 'Jasmine']]"
      ]
     },
     "execution_count": 23,
     "metadata": {},
     "output_type": "execute_result"
    }
   ],
   "source": [
    "popular"
   ]
  },
  {
   "cell_type": "code",
   "execution_count": 36,
   "id": "single-anderson",
   "metadata": {},
   "outputs": [
    {
     "data": {
      "text/plain": [
       "0"
      ]
     },
     "execution_count": 36,
     "metadata": {},
     "output_type": "execute_result"
    }
   ],
   "source": [
    "# using index() function\n",
    "# you have to put the ITEM in the (),\n",
    "# index returns index position.\n",
    "\n",
    "people.index('John')"
   ]
  },
  {
   "cell_type": "code",
   "execution_count": 37,
   "id": "derived-season",
   "metadata": {},
   "outputs": [
    {
     "data": {
      "text/plain": [
       "'John'"
      ]
     },
     "execution_count": 37,
     "metadata": {},
     "output_type": "execute_result"
    }
   ],
   "source": [
    "# returns the item of the index passed in the []\n",
    "people[0]"
   ]
  },
  {
   "cell_type": "code",
   "execution_count": 39,
   "id": "timely-zoning",
   "metadata": {},
   "outputs": [
    {
     "name": "stdout",
     "output_type": "stream",
     "text": [
      "['John', 'Molly', 'Erin', 'Selek', 'Jasmine']\n"
     ]
    },
    {
     "data": {
      "text/plain": [
       "['Erin', 'Selek']"
      ]
     },
     "execution_count": 39,
     "metadata": {},
     "output_type": "execute_result"
    }
   ],
   "source": [
    "# fun with ranges\n",
    "\n",
    "print(people)\n",
    "\n",
    "# this should return 'Erin' in position 2 and 'Selek' in position 3, exluded 'Jasmine' in position 4\n",
    "people[2:4]"
   ]
  },
  {
   "cell_type": "code",
   "execution_count": 40,
   "id": "supposed-december",
   "metadata": {},
   "outputs": [
    {
     "data": {
      "text/plain": [
       "['John', 'Erin', 'Jasmine']"
      ]
     },
     "execution_count": 40,
     "metadata": {},
     "output_type": "execute_result"
    }
   ],
   "source": [
    "# fun with OFFSETS ::\n",
    "# print every 2 in the list. \n",
    "\n",
    "# this should print 'John', 'Erin', and 'Jasmine'\n",
    "\n",
    "people[0::2]"
   ]
  },
  {
   "cell_type": "code",
   "execution_count": 25,
   "id": "diagnostic-apartment",
   "metadata": {},
   "outputs": [],
   "source": [
    "# list of dicts\n",
    "\n",
    "ceo_nested_dicts = [\n",
    "    { 'name': 'Warrent Buffet',\n",
    "      'age': 88,\n",
    "      'company': 'Berkshire Hathaway'\n",
    "    },\n",
    "    { 'name': 'Elon Musk',\n",
    "       'age': 45,\n",
    "       'company': 'Tesla'\n",
    "    },\n",
    "    {\n",
    "        'name': 'Vlad Tenev',\n",
    "        'age': 31,\n",
    "        'company': 'Robinhood'\n",
    "    }\n",
    "]"
   ]
  },
  {
   "cell_type": "code",
   "execution_count": 26,
   "id": "rising-zealand",
   "metadata": {},
   "outputs": [
    {
     "name": "stdout",
     "output_type": "stream",
     "text": [
      "[{'name': 'Warrent Buffet', 'age': 88, 'company': 'Berkshire Hathaway'}, {'name': 'Elon Musk', 'age': 45, 'company': 'Tesla'}, {'name': 'Vlad Tenev', 'age': 31, 'company': 'Robinhood'}]\n"
     ]
    }
   ],
   "source": [
    "print(ceo_nested_dicts)"
   ]
  },
  {
   "cell_type": "code",
   "execution_count": 28,
   "id": "frozen-alexandria",
   "metadata": {},
   "outputs": [
    {
     "name": "stdout",
     "output_type": "stream",
     "text": [
      "{'name': 'Warrent Buffet', 'age': 88, 'company': 'Berkshire Hathaway'}\n"
     ]
    }
   ],
   "source": [
    "print(ceo_nested_dicts[0])"
   ]
  },
  {
   "cell_type": "code",
   "execution_count": 34,
   "id": "presidential-benchmark",
   "metadata": {},
   "outputs": [
    {
     "ename": "ValueError",
     "evalue": "'Elon Musk' is not in list",
     "output_type": "error",
     "traceback": [
      "\u001b[1;31m---------------------------------------------------------------------------\u001b[0m",
      "\u001b[1;31mValueError\u001b[0m                                Traceback (most recent call last)",
      "\u001b[1;32m<ipython-input-34-9d0c90498c37>\u001b[0m in \u001b[0;36m<module>\u001b[1;34m\u001b[0m\n\u001b[1;32m----> 1\u001b[1;33m \u001b[0mceo_nested_dicts\u001b[0m\u001b[1;33m.\u001b[0m\u001b[0mindex\u001b[0m\u001b[1;33m(\u001b[0m\u001b[1;34m'Elon Musk'\u001b[0m\u001b[1;33m)\u001b[0m\u001b[1;33m\u001b[0m\u001b[1;33m\u001b[0m\u001b[0m\n\u001b[0m",
      "\u001b[1;31mValueError\u001b[0m: 'Elon Musk' is not in list"
     ]
    }
   ],
   "source": [
    "# index function does not work with a list of dicts type.\n",
    "\n",
    "ceo_nested_dicts.index('Elon Musk')"
   ]
  },
  {
   "cell_type": "code",
   "execution_count": 41,
   "id": "federal-wrong",
   "metadata": {},
   "outputs": [],
   "source": [
    "# define a list of dicts called customers and store first name, last name, and revenue\n",
    "\n",
    "\n",
    "customers = [\n",
    "    { \"first_name\": \"Tom\", \"last_name\": \"Bell\", \"revenue\": 0 },\n",
    "    { \"first_name\": \"Maggie\", \"last_name\": \"Johnson\", \"revenue\": 1032 },\n",
    "    { \"first_name\": \"John\", \"last_name\": \"Spectre\", \"revenue\": 2543 },\n",
    "    { \"first_name\": \"Susy\", \"last_name\": \"Simmons\", \"revenue\": 5322 }\n",
    "]"
   ]
  },
  {
   "cell_type": "code",
   "execution_count": 46,
   "id": "starting-zoning",
   "metadata": {},
   "outputs": [
    {
     "data": {
      "text/plain": [
       "[{'first_name': 'Tom', 'last_name': 'Bell', 'revenue': 0},\n",
       " {'first_name': 'Maggie', 'last_name': 'Johnson', 'revenue': 1032},\n",
       " {'first_name': 'John', 'last_name': 'Spectre', 'revenue': 2543},\n",
       " {'first_name': 'Susy', 'last_name': 'Simmons', 'revenue': 5322}]"
      ]
     },
     "execution_count": 46,
     "metadata": {},
     "output_type": "execute_result"
    }
   ],
   "source": [
    "customers[0 : ]"
   ]
  },
  {
   "cell_type": "code",
   "execution_count": 47,
   "id": "renewable-terrain",
   "metadata": {},
   "outputs": [],
   "source": [
    "fullname = customer  # store the list of dicts in variable fullname"
   ]
  },
  {
   "cell_type": "code",
   "execution_count": 48,
   "id": "improving-malta",
   "metadata": {},
   "outputs": [],
   "source": [
    "# define a function that is passed first name, last name, and revenue\n",
    "\n",
    "def customer(first_name, last_name, revenue):\n",
    "    for x in fullname:\n",
    "        print(f\"Hi {first_name} {last_name}, you earned a total of ${revenue}\")"
   ]
  },
  {
   "cell_type": "code",
   "execution_count": 49,
   "id": "apparent-detector",
   "metadata": {},
   "outputs": [
    {
     "ename": "TypeError",
     "evalue": "customer() missing 2 required positional arguments: 'last_name' and 'revenue'",
     "output_type": "error",
     "traceback": [
      "\u001b[1;31m---------------------------------------------------------------------------\u001b[0m",
      "\u001b[1;31mTypeError\u001b[0m                                 Traceback (most recent call last)",
      "\u001b[1;32m<ipython-input-49-af3c2b08d3d6>\u001b[0m in \u001b[0;36m<module>\u001b[1;34m\u001b[0m\n\u001b[1;32m----> 1\u001b[1;33m \u001b[0mx\u001b[0m \u001b[1;33m=\u001b[0m \u001b[0mcustomer\u001b[0m\u001b[1;33m(\u001b[0m\u001b[0mfullname\u001b[0m\u001b[1;33m)\u001b[0m\u001b[1;33m\u001b[0m\u001b[1;33m\u001b[0m\u001b[0m\n\u001b[0m",
      "\u001b[1;31mTypeError\u001b[0m: customer() missing 2 required positional arguments: 'last_name' and 'revenue'"
     ]
    }
   ],
   "source": [
    "x = customer(fullname)"
   ]
  },
  {
   "cell_type": "code",
   "execution_count": null,
   "id": "asian-forty",
   "metadata": {},
   "outputs": [],
   "source": []
  }
 ],
 "metadata": {
  "kernelspec": {
   "display_name": "Python 3",
   "language": "python",
   "name": "python3"
  },
  "language_info": {
   "codemirror_mode": {
    "name": "ipython",
    "version": 3
   },
   "file_extension": ".py",
   "mimetype": "text/x-python",
   "name": "python",
   "nbconvert_exporter": "python",
   "pygments_lexer": "ipython3",
   "version": "3.9.1"
  }
 },
 "nbformat": 4,
 "nbformat_minor": 5
}
