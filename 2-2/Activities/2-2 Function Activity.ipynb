{
 "cells": [
  {
   "cell_type": "code",
   "execution_count": 1,
   "id": "informal-birth",
   "metadata": {},
   "outputs": [],
   "source": [
    "# Declare a variable beginning balance as a float number\n",
    "\n",
    "beginning_balance = 29000.00"
   ]
  },
  {
   "cell_type": "code",
   "execution_count": 2,
   "id": "moral-census",
   "metadata": {},
   "outputs": [],
   "source": [
    "# Declare a variable ending balance as a float\n",
    "\n",
    "ending_balance = 45000.00"
   ]
  },
  {
   "cell_type": "code",
   "execution_count": 3,
   "id": "handy-cattle",
   "metadata": {},
   "outputs": [],
   "source": [
    "# Declare a variable called years\n",
    "\n",
    "years = 1.0"
   ]
  },
  {
   "cell_type": "code",
   "execution_count": 11,
   "id": "written-diving",
   "metadata": {},
   "outputs": [],
   "source": [
    "# define a function called calculate compound growth rate that accepts these 3 variables\n",
    "\n",
    "def calculate_compound_growth_rate(beginning_balance, ending_balance, years):\n",
    "    \n",
    "    growth_rate = round(((ending_balance / beginning_balance)**(1 /years) - 1) * 100 , 2)\n",
    "    \n",
    "    return growth_rate"
   ]
  },
  {
   "cell_type": "code",
   "execution_count": 12,
   "id": "vocal-edwards",
   "metadata": {},
   "outputs": [],
   "source": [
    "# Define the calling line as year_one_growth\n",
    "\n",
    "year_one_growth = calculate_compound_growth_rate(beginning_balance, ending_balance, years)"
   ]
  },
  {
   "cell_type": "code",
   "execution_count": 13,
   "id": "attached-september",
   "metadata": {},
   "outputs": [
    {
     "name": "stdout",
     "output_type": "stream",
     "text": [
      "The compound growth rate for the first year is: 55.17\n"
     ]
    }
   ],
   "source": [
    "print(f\"The compound growth rate for the first year is: {year_one_growth}\")"
   ]
  },
  {
   "cell_type": "code",
   "execution_count": 15,
   "id": "protected-bulletin",
   "metadata": {},
   "outputs": [],
   "source": [
    "# create a list variable to store our values every time with run the function. this is outside the function. it's global \n",
    "\n",
    "growth_rates = []"
   ]
  },
  {
   "cell_type": "code",
   "execution_count": 16,
   "id": "naughty-operator",
   "metadata": {},
   "outputs": [],
   "source": [
    "# every time we call the function it will run a calculation and return value. and also update our list.\n",
    "\n",
    "def calculate_compound_growth_rate(beginning_balance, ending_balance, years):\n",
    "    \n",
    "    growth_rate = round(((ending_balance / beginning_balance)**(1 /years) - 1) * 100 , 2)\n",
    "    \n",
    "    # add to our global list. functions can change values to variables that are not passed to it. \n",
    "    growth_rates.append(growth_rate)    \n",
    "    \n",
    "    return growth_rate"
   ]
  },
  {
   "cell_type": "code",
   "execution_count": 17,
   "id": "educational-rouge",
   "metadata": {},
   "outputs": [],
   "source": [
    "year_one_growth = calculate_compound_growth_rate(beginning_balance, ending_balance, years)"
   ]
  },
  {
   "cell_type": "code",
   "execution_count": 18,
   "id": "bored-presentation",
   "metadata": {},
   "outputs": [
    {
     "name": "stdout",
     "output_type": "stream",
     "text": [
      "[55.17]\n"
     ]
    }
   ],
   "source": [
    "print(growth_rates)"
   ]
  },
  {
   "cell_type": "code",
   "execution_count": null,
   "id": "italic-while",
   "metadata": {},
   "outputs": [],
   "source": []
  }
 ],
 "metadata": {
  "kernelspec": {
   "display_name": "Python 3",
   "language": "python",
   "name": "python3"
  },
  "language_info": {
   "codemirror_mode": {
    "name": "ipython",
    "version": 3
   },
   "file_extension": ".py",
   "mimetype": "text/x-python",
   "name": "python",
   "nbconvert_exporter": "python",
   "pygments_lexer": "ipython3",
   "version": "3.9.1"
  }
 },
 "nbformat": 4,
 "nbformat_minor": 5
}
