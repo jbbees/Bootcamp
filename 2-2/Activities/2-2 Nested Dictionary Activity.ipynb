{
 "cells": [
  {
   "cell_type": "code",
   "execution_count": 10,
   "id": "finnish-indiana",
   "metadata": {},
   "outputs": [],
   "source": [
    "# our portfolio of historical stock data that we need to update\n",
    "# this is a dict of list of lists.\n",
    "\n",
    "# dictionary that has keys that are stock tickers. The value pair with the key is a list containing lists.\n",
    "\n",
    "historical_stock_data = {\n",
    "    \"AAPL\": [\n",
    "        [\"04-17-2019\", 199.54, 203.38, 198.61, 203.13],\n",
    "        [\"04-18-2019\", 199.46, 201.37, 198.56, 199.25],\n",
    "        [\"04-19-2019\", 198.58, 199.85, 198.01, 199.23],\n",
    "        [\"04-20-2019\", 199.20, 200.14, 196.21, 198.87],\n",
    "\n",
    "    ],\n",
    "    \"MU\": [\n",
    "        [\"04-17-2019\", 43.20, 43.53, 42.79, 43.40],\n",
    "        [\"04-18-2019\", 43.36, 44.05, 42.76, 43.15],\n",
    "        [\"04-19-2019\", 42.26, 42.93, 42.08, 42.76],\n",
    "        [\"04-20-2019\", 42.17, 42.23, 41.20, 41.82],\n",
    "\n",
    "    ],\n",
    "    \"AMD\": [\n",
    "        [\"04-17-2019\", 27.60, 27.88, 27.34, 27.68],\n",
    "        [\"04-18-2019\", 28.21, 28.27, 27.22, 27.49],\n",
    "        [\"04-19-2019\", 27.72, 28.18, 27.49, 27.93],\n",
    "        [\"04-20-2019\", 27.80, 27.84, 26.96, 27.33],\n",
    "\n",
    "    ],\n",
    "    \"TWTR\": [\n",
    "        [\"04-17-2019\", 34.67, 34.86, 34.32, 34.40],\n",
    "        [\"04-18-2019\", 34.73, 34.90, 34.20, 34.48],\n",
    "        [\"04-19-2019\", 34.84, 34.99, 34.23, 34.46],\n",
    "        [\"04-20-2019\", 34.38, 35.03, 34.34, 34.71],\n",
    "\n",
    "    ]\n",
    "}"
   ]
  },
  {
   "cell_type": "code",
   "execution_count": 4,
   "id": "suburban-broadcast",
   "metadata": {},
   "outputs": [],
   "source": [
    "# given new records to insert into our historical data dict. \n",
    "# new records is a dict of dicts \n",
    "\n",
    "new_records = {\n",
    "    \"AAPL\": {\n",
    "        \"date\": \"04-21-2019\",\n",
    "        \"open\": 200.85,\n",
    "        \"high\": 201.00,\n",
    "        \"low\": 198.44,\n",
    "        \"close\": 198.95\n",
    "    },\n",
    "    \"MU\": {\n",
    "        \"date\": \"04-21-2019\",\n",
    "        \"open\": 42.85,\n",
    "        \"high\": 43.20,\n",
    "        \"low\": 41.81,\n",
    "        \"close\": 42.01\n",
    "    },\n",
    "    \"AMD\": {\n",
    "        \"date\": \"04-21-2019\",\n",
    "        \"open\": 28.21,\n",
    "        \"high\": 28.38,\n",
    "        \"low\": 27.66,\n",
    "        \"close\": 27.85\n",
    "    },\n",
    "    \"TWTR\": {\n",
    "        \"date\": \"04-21-2019\",\n",
    "        \"open\": 34.67,\n",
    "        \"high\": 34.83,\n",
    "        \"low\": 34.11,\n",
    "        \"close\": 34.37\n",
    "    }\n",
    "}"
   ]
  },
  {
   "cell_type": "code",
   "execution_count": 18,
   "id": "mounted-divide",
   "metadata": {},
   "outputs": [
    {
     "data": {
      "text/plain": [
       "'04-21-2019'"
      ]
     },
     "execution_count": 18,
     "metadata": {},
     "output_type": "execute_result"
    }
   ],
   "source": [
    "new_records['AAPL']['date']"
   ]
  },
  {
   "cell_type": "code",
   "execution_count": 8,
   "id": "obvious-reverse",
   "metadata": {},
   "outputs": [
    {
     "name": "stdout",
     "output_type": "stream",
     "text": [
      "['04-21-2019', 200.85, 201.0, 198.95]\n",
      "['04-21-2019', 42.85, 43.2, 42.01]\n",
      "['04-21-2019', 28.21, 28.38, 27.85]\n",
      "['04-21-2019', 34.37, 34.83, 34.37]\n"
     ]
    }
   ],
   "source": [
    "# Set each ticker's new record: date, open, high, low, and close\n",
    "# Note this is a tedious way of doing this, you'd want to loop and append to historical stock dictionary in one shot,\n",
    "\n",
    "# set assigning a list, each element in the list is a key lookup on a dictionary that performs an internal key lookup on a dict stored in it.\n",
    "\n",
    "# Setting new values for APPL stock this week. Store in new_appl_record. \n",
    "# Assigning a big list. Each element is an indivial dict key lookup based on stock ticker key.\n",
    "# Then that key lookup leads to a second key lookup and retrieves the value and stores as the value of the list elememtn.\n",
    "# first element is calling the new_records[APPL] key\n",
    "# APPL key leads to the stoted dict. And does a keylookup on the internal_dict[date] key\n",
    "# stors that internal value pair\n",
    "# if do a new_appl_record[0] this should return '04-21-2019'\n",
    "\n",
    "new_appl_record = [new_records['AAPL']['date'], new_records['AAPL']['open'], new_records['AAPL']['high'], new_records['AAPL']['close']]\n",
    "print(new_appl_record)\n",
    "\n",
    "# at the end new_appl_record should be a list containing ['04-21-2019', 200.85, 201.00, 198.44, 198.95]\n",
    "\n",
    "new_mu_record = [new_records['MU']['date'], new_records['MU']['open'], new_records['MU']['high'], new_records['MU']['close']]\n",
    "print(new_mu_record)\n",
    "\n",
    "new_amd_record = [new_records['AMD']['date'], new_records['AMD']['open'], new_records['AMD']['high'], new_records['AMD']['close']]\n",
    "print(new_amd_record)\n",
    "\n",
    "new_twtr_record = [new_records['TWTR']['date'], new_records['TWTR']['close'], new_records['TWTR']['high'], new_records['TWTR']['close']]\n",
    "print(new_twtr_record)"
   ]
  },
  {
   "cell_type": "code",
   "execution_count": 11,
   "id": "equipped-mounting",
   "metadata": {},
   "outputs": [],
   "source": [
    "# update the historical stock data dict with our new records dict\n",
    "\n",
    "# THIS IS DICT OF LIST OF LISTS. use .append() to add to list.\n",
    "# list_variable.append(value containing list)\n",
    "\n",
    "historical_stock_data['AAPL'].append(new_appl_record)\n",
    "historical_stock_data['MU'].append(new_mu_record)\n",
    "historical_stock_data['AMD'].append(new_amd_record)\n",
    "historical_stock_data['TWTR'].append(new_twtr_record)"
   ]
  },
  {
   "cell_type": "code",
   "execution_count": 15,
   "id": "disturbed-relations",
   "metadata": {},
   "outputs": [],
   "source": [
    "# use a loop to add the values.\n",
    "\n",
    "for ticker, ticker_data in new_records.items():\n",
    "    record_to_add = [ticker_data['date'], ticker_data['open'], ticker_data['high'], ticker_data['low'], ticker_data['close']]\n",
    "    historical_stock_data[ticker].append(record_to_add)"
   ]
  },
  {
   "cell_type": "code",
   "execution_count": 16,
   "id": "middle-narrative",
   "metadata": {},
   "outputs": [
    {
     "name": "stdout",
     "output_type": "stream",
     "text": [
      "{'AAPL': [['04-17-2019', 199.54, 203.38, 198.61, 203.13], ['04-18-2019', 199.46, 201.37, 198.56, 199.25], ['04-19-2019', 198.58, 199.85, 198.01, 199.23], ['04-20-2019', 199.2, 200.14, 196.21, 198.87], ['04-21-2019', 200.85, 201.0, 198.95], ['04-21-2019', 200.85, 201.0, 198.44, 198.95]], 'MU': [['04-17-2019', 43.2, 43.53, 42.79, 43.4], ['04-18-2019', 43.36, 44.05, 42.76, 43.15], ['04-19-2019', 42.26, 42.93, 42.08, 42.76], ['04-20-2019', 42.17, 42.23, 41.2, 41.82], ['04-21-2019', 42.85, 43.2, 42.01], ['04-21-2019', 42.85, 43.2, 41.81, 42.01]], 'AMD': [['04-17-2019', 27.6, 27.88, 27.34, 27.68], ['04-18-2019', 28.21, 28.27, 27.22, 27.49], ['04-19-2019', 27.72, 28.18, 27.49, 27.93], ['04-20-2019', 27.8, 27.84, 26.96, 27.33], ['04-21-2019', 28.21, 28.38, 27.85], ['04-21-2019', 28.21, 28.38, 27.66, 27.85]], 'TWTR': [['04-17-2019', 34.67, 34.86, 34.32, 34.4], ['04-18-2019', 34.73, 34.9, 34.2, 34.48], ['04-19-2019', 34.84, 34.99, 34.23, 34.46], ['04-20-2019', 34.38, 35.03, 34.34, 34.71], ['04-21-2019', 34.37, 34.83, 34.37], ['04-21-2019', 34.67, 34.83, 34.11, 34.37]]}\n"
     ]
    }
   ],
   "source": [
    "print(historical_stock_data)"
   ]
  },
  {
   "cell_type": "code",
   "execution_count": 19,
   "id": "hidden-riverside",
   "metadata": {},
   "outputs": [],
   "source": [
    "# CHallenge: calculate the weekly results for each stock change \n",
    "# Create a dict called results\n",
    "\n",
    "results = {}"
   ]
  },
  {
   "cell_type": "code",
   "execution_count": null,
   "id": "flying-style",
   "metadata": {},
   "outputs": [],
   "source": [
    "# Calculate the weekly change for each stock ticker.\n",
    "# Weekly change is the ending close price (Friday) - beginning close price (Monday) / beginning close price  \n",
    "\n",
    "for ticker, ticker_data in historical_stock_data:                       # loop through historical data dict. for key which stocK ticker, grabs value-pair\n",
    "    \n",
    "    # 1st loop - grabs AAPL key, then grabs list value ticker_data that has lists for each element\n",
    "    \n",
    "    # list indexes for each main list element. has 4 items.  0 - date, 4 - closing price.\n",
    "    \n",
    "    # Set closing prices of first and last records of each stock ticker. \n",
    "    \n",
    "    ending_week_close = ticker_data[-1][4]                              # index lookup on Friday \n",
    "    beginning_week_close = ticker_data[0][4]                            # list index lookup of \n",
    "    \n",
    "    # Calculate weekly change per stock ticker\n",
    "    \n",
    "    weekly_change = round((ending_week_close - beginning_week_close) / beginning_week_close * 100 , 2)\n",
    "   \n"
   ]
  }
 ],
 "metadata": {
  "kernelspec": {
   "display_name": "Python 3",
   "language": "python",
   "name": "python3"
  },
  "language_info": {
   "codemirror_mode": {
    "name": "ipython",
    "version": 3
   },
   "file_extension": ".py",
   "mimetype": "text/x-python",
   "name": "python",
   "nbconvert_exporter": "python",
   "pygments_lexer": "ipython3",
   "version": "3.9.1"
  }
 },
 "nbformat": 4,
 "nbformat_minor": 5
}
