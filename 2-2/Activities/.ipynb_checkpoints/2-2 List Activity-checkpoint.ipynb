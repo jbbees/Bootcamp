{
 "cells": [
  {
   "cell_type": "code",
   "execution_count": 1,
   "id": "pressing-covering",
   "metadata": {},
   "outputs": [],
   "source": [
    "#1 create a list of groceries \n",
    "\n",
    "grocery_list = ['water', 'butter', 'eggs', 'apples', 'cinnamon', 'sugar', 'milk']"
   ]
  },
  {
   "cell_type": "code",
   "execution_count": 2,
   "id": "lightweight-olympus",
   "metadata": {},
   "outputs": [
    {
     "name": "stdout",
     "output_type": "stream",
     "text": [
      "7\n"
     ]
    }
   ],
   "source": [
    "print(len(grocery_list))"
   ]
  },
  {
   "cell_type": "code",
   "execution_count": 3,
   "id": "steady-retailer",
   "metadata": {},
   "outputs": [
    {
     "name": "stdout",
     "output_type": "stream",
     "text": [
      "['water', 'butter']\n"
     ]
    }
   ],
   "source": [
    "#2 find the first 2 items in grocery_list\n",
    "\n",
    "print(grocery_list[:2])"
   ]
  },
  {
   "cell_type": "code",
   "execution_count": 4,
   "id": "tribal-climate",
   "metadata": {},
   "outputs": [
    {
     "name": "stdout",
     "output_type": "stream",
     "text": [
      "['eggs', 'apples', 'cinnamon', 'sugar', 'milk']\n"
     ]
    }
   ],
   "source": [
    "#3 find the last 5 items in grocery_list\n",
    "\n",
    "print(grocery_list[2:])"
   ]
  },
  {
   "cell_type": "code",
   "execution_count": null,
   "id": "partial-balance",
   "metadata": {},
   "outputs": [],
   "source": [
    "# alternative way of getting the last 5 items:\n",
    "\n",
    "list_length = len(grocery_list)                # stores 7\n",
    "print(grocery_list[(list_length - 5):])         # gorcery_list[(7-5):], grocery_list[2: ], so how does it display final 5 items? "
   ]
  },
  {
   "cell_type": "code",
   "execution_count": 5,
   "id": "armed-destiny",
   "metadata": {},
   "outputs": [
    {
     "name": "stdout",
     "output_type": "stream",
     "text": [
      "['butter', 'apples', 'sugar']\n"
     ]
    }
   ],
   "source": [
    "#4 find every other item on the grocery list starting with the second item (not 2 index)\n",
    "# passing 2 colons is offsetting.\n",
    "\n",
    "print(grocery_list[1::2])    # starting from index 1, offset 2."
   ]
  },
  {
   "cell_type": "code",
   "execution_count": 6,
   "id": "competent-roots",
   "metadata": {},
   "outputs": [],
   "source": [
    "#5 add 'flour' to grocery_list. it will be added as last item to list. \n",
    "\n",
    "grocery_list.append('flour')"
   ]
  },
  {
   "cell_type": "code",
   "execution_count": 7,
   "id": "tribal-little",
   "metadata": {},
   "outputs": [
    {
     "data": {
      "text/plain": [
       "['water', 'butter', 'eggs', 'apples', 'cinnamon', 'sugar', 'milk', 'flour']"
      ]
     },
     "execution_count": 7,
     "metadata": {},
     "output_type": "execute_result"
    }
   ],
   "source": [
    "grocery_list"
   ]
  },
  {
   "cell_type": "code",
   "execution_count": 9,
   "id": "joined-valley",
   "metadata": {},
   "outputs": [],
   "source": [
    "#6 replace apples to 'gala apples'  \n",
    "\n",
    "# first let's find the index apples is located.\n",
    "\n",
    "grocery_list.index('apples')\n",
    "\n",
    "# change the index \n",
    "\n",
    "grocery_list[3] = 'gala apples'"
   ]
  },
  {
   "cell_type": "code",
   "execution_count": 10,
   "id": "comparative-renaissance",
   "metadata": {},
   "outputs": [
    {
     "data": {
      "text/plain": [
       "'gala apples'"
      ]
     },
     "execution_count": 10,
     "metadata": {},
     "output_type": "execute_result"
    }
   ],
   "source": [
    "# confirm the index reflects new value. \n",
    "\n",
    "grocery_list[3]"
   ]
  },
  {
   "cell_type": "code",
   "execution_count": 23,
   "id": "social-japanese",
   "metadata": {},
   "outputs": [],
   "source": [
    "# alternative replace code. \n",
    "# replace 'butter' with 'low sodium butter' by passing a variable instead of an index numnber.\n",
    "\n",
    "# find the index with low sodium butter. but store it in a variable \n",
    "low_sodium_butter_index = grocery_list.index('butter')\n",
    "\n",
    "# replace by passing the variable instead of a number to assign the new item\n",
    "\n",
    "grocery_list[low_sodium_butter_index] = 'low sodium butter'"
   ]
  },
  {
   "cell_type": "code",
   "execution_count": 25,
   "id": "tamil-flour",
   "metadata": {},
   "outputs": [
    {
     "data": {
      "text/plain": [
       "'low sodium butter'"
      ]
     },
     "execution_count": 25,
     "metadata": {},
     "output_type": "execute_result"
    }
   ],
   "source": [
    "# confirm change \n",
    "\n",
    "grocery_list[low_sodium_butter_index]"
   ]
  },
  {
   "cell_type": "code",
   "execution_count": 26,
   "id": "major-spelling",
   "metadata": {},
   "outputs": [
    {
     "data": {
      "text/plain": [
       "0"
      ]
     },
     "execution_count": 26,
     "metadata": {},
     "output_type": "execute_result"
    }
   ],
   "source": [
    "# determine the index number for low sodium butter\n",
    "\n",
    "grocery_list.index('low sodium butter')"
   ]
  },
  {
   "cell_type": "code",
   "execution_count": 11,
   "id": "unusual-password",
   "metadata": {},
   "outputs": [
    {
     "name": "stdout",
     "output_type": "stream",
     "text": [
      "8\n"
     ]
    }
   ],
   "source": [
    "#7 determine total items in grocery_list\n",
    "\n",
    "print(len(grocery_list))"
   ]
  },
  {
   "cell_type": "code",
   "execution_count": 12,
   "id": "widespread-explanation",
   "metadata": {},
   "outputs": [
    {
     "data": {
      "text/plain": [
       "3"
      ]
     },
     "execution_count": 12,
     "metadata": {},
     "output_type": "execute_result"
    }
   ],
   "source": [
    "#C1 find the index where gala apples is stored\n",
    "\n",
    "grocery_list.index('gala apples')"
   ]
  },
  {
   "cell_type": "code",
   "execution_count": 13,
   "id": "orange-herald",
   "metadata": {},
   "outputs": [
    {
     "data": {
      "text/plain": [
       "5"
      ]
     },
     "execution_count": 13,
     "metadata": {},
     "output_type": "execute_result"
    }
   ],
   "source": [
    "#C2 remove 'sugar' from grocery list, but not using the remove() function and confirm what you deleted. \n",
    "\n",
    "grocery_list.index('sugar')"
   ]
  },
  {
   "cell_type": "code",
   "execution_count": 14,
   "id": "patient-enterprise",
   "metadata": {},
   "outputs": [
    {
     "name": "stdout",
     "output_type": "stream",
     "text": [
      "The item you just deleted was sugar\n"
     ]
    }
   ],
   "source": [
    "confirmed_deleted_item = grocery_list.pop(5)                             # this pops items out of list and stores in varibale. this way we can verify what we deleted.\n",
    "print(f\"The item you just deleted was {confirmed_deleted_item}\")"
   ]
  },
  {
   "cell_type": "code",
   "execution_count": 16,
   "id": "distributed-director",
   "metadata": {},
   "outputs": [
    {
     "name": "stdout",
     "output_type": "stream",
     "text": [
      "The item you just deleted was \"water\"\n"
     ]
    }
   ],
   "source": [
    "# remove water from grocery_list based on index. using pop() function. \n",
    "\n",
    "grocery_list.index('water')\n",
    "confirmed_deleted_item = grocery_list.pop(0)\n",
    "print(f\"The item you just deleted was \\\"{confirmed_deleted_item}\\\"\")"
   ]
  },
  {
   "cell_type": "code",
   "execution_count": 18,
   "id": "designing-brief",
   "metadata": {},
   "outputs": [
    {
     "name": "stdout",
     "output_type": "stream",
     "text": [
      "The last item in your list is \"flour\"\n"
     ]
    }
   ],
   "source": [
    "#C3 remove the last item on the grocery list.\n",
    "\n",
    "grocery_list[-1]\n",
    "print(f\"The last item in your list is \\\"{grocery_list[-1]}\\\"\")"
   ]
  },
  {
   "cell_type": "code",
   "execution_count": 19,
   "id": "electric-diving",
   "metadata": {},
   "outputs": [
    {
     "data": {
      "text/plain": [
       "'flour'"
      ]
     },
     "execution_count": 19,
     "metadata": {},
     "output_type": "execute_result"
    }
   ],
   "source": [
    "grocery_list.pop(-1)      # pop function takes negative numbers. "
   ]
  },
  {
   "cell_type": "code",
   "execution_count": 20,
   "id": "standard-briefing",
   "metadata": {},
   "outputs": [
    {
     "ename": "ValueError",
     "evalue": "'flour' is not in list",
     "output_type": "error",
     "traceback": [
      "\u001b[1;31m---------------------------------------------------------------------------\u001b[0m",
      "\u001b[1;31mValueError\u001b[0m                                Traceback (most recent call last)",
      "\u001b[1;32m<ipython-input-20-deffd548eb07>\u001b[0m in \u001b[0;36m<module>\u001b[1;34m\u001b[0m\n\u001b[0;32m      1\u001b[0m \u001b[1;31m# confirm if flour is removed\u001b[0m\u001b[1;33m\u001b[0m\u001b[1;33m\u001b[0m\u001b[1;33m\u001b[0m\u001b[0m\n\u001b[0;32m      2\u001b[0m \u001b[1;33m\u001b[0m\u001b[0m\n\u001b[1;32m----> 3\u001b[1;33m \u001b[0mgrocery_list\u001b[0m\u001b[1;33m.\u001b[0m\u001b[0mindex\u001b[0m\u001b[1;33m(\u001b[0m\u001b[1;34m'flour'\u001b[0m\u001b[1;33m)\u001b[0m\u001b[1;33m\u001b[0m\u001b[1;33m\u001b[0m\u001b[0m\n\u001b[0m",
      "\u001b[1;31mValueError\u001b[0m: 'flour' is not in list"
     ]
    }
   ],
   "source": [
    "# confirm if flour is removed. code should fail since it's not there.\n",
    "\n",
    "grocery_list.index('flour')"
   ]
  },
  {
   "cell_type": "code",
   "execution_count": null,
   "id": "minimal-departure",
   "metadata": {},
   "outputs": [],
   "source": []
  }
 ],
 "metadata": {
  "kernelspec": {
   "display_name": "Python 3",
   "language": "python",
   "name": "python3"
  },
  "language_info": {
   "codemirror_mode": {
    "name": "ipython",
    "version": 3
   },
   "file_extension": ".py",
   "mimetype": "text/x-python",
   "name": "python",
   "nbconvert_exporter": "python",
   "pygments_lexer": "ipython3",
   "version": "3.9.1"
  }
 },
 "nbformat": 4,
 "nbformat_minor": 5
}
