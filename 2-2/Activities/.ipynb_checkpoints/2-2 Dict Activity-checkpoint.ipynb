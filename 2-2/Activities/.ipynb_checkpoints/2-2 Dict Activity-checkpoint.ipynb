{
 "cells": [
  {
   "cell_type": "code",
   "execution_count": 3,
   "id": "chinese-sensitivity",
   "metadata": {},
   "outputs": [
    {
     "name": "stdout",
     "output_type": "stream",
     "text": [
      "{'JP Morgan Chase': 327, 'Bank of America': 302, 'Citigroup': 170, 'Wells Fargo': 273, 'Goldman Sachs': 87, 'Morgan Stanley': 72, 'U.S. Bankcorp': 83, 'TD Bank': 108, 'PNC Financial Services': 67, 'Capital One': 47, 'FNB Corporation': 4, 'First Hawaiian Bank': 3, 'Ally Financial': 12, 'Republic Bankcorp': 0.97, 'American Express': 33}\n"
     ]
    }
   ],
   "source": [
    "# -*- coding: utf-8 -*-\n",
    "\"\"\"\n",
    "Student Activity: Market Capitalization.\n",
    "\n",
    "This script showcases the use of Python Dicts to determine the\n",
    "bank names associated with the corresponding market cap ranges.\n",
    "\"\"\"\n",
    "\n",
    "# Banks and Market Caps\n",
    "#-----------------------\n",
    "# JP Morgan Chase: 327\n",
    "# Bank of America: 302\n",
    "# Citigroup: 173\n",
    "# Wells Fargo: 273\n",
    "# Goldman Sachs: 87\n",
    "# Morgan Stanley: 72\n",
    "# U.S. Bancorp: 83\n",
    "# TD Bank: 108\n",
    "# PNC Financial Services: 67\n",
    "# Capital One: 47\n",
    "# FNB Corporation: 4\n",
    "# First Hawaiian Bank: 3\n",
    "# Ally Financial: 12\n",
    "# Wachovia: 145\n",
    "# Republic Bancorp: .97\n",
    "\n",
    "# @TODO: Initialize a dictionary of banks and market caps (in billions)\n",
    "\n",
    "banks_and_market_caps = {\n",
    "    'JP Morgan Chase': 327,\n",
    "    'Bank of America': 302,\n",
    "    'Citigroup': 173,\n",
    "    'Wells Fargo': 273,\n",
    "    'Goldman Sachs': 87,\n",
    "    'Morgan Stanley': 72,\n",
    "    'U.S. Bankcorp': 83,\n",
    "    'TD Bank': 108,\n",
    "    'PNC Financial Services': 67,\n",
    "    'Capital One': 47,\n",
    "    'FNB Corporation': 4,\n",
    "    'First Hawaiian Bank': 3,\n",
    "    'Ally Financial': 12,\n",
    "    'Wachovia': 145,\n",
    "    'Republic Bankcorp': .97\n",
    "    }\n",
    "\n",
    "# @TODO: Change the market cap for 'Citigroup'\n",
    "\n",
    "banks_and_market_caps['Citigroup'] = 170\n",
    "\n",
    "# @TODO: Add a new bank and market cap pair\n",
    "\n",
    "banks_and_market_caps['American Express'] = 33\n",
    "\n",
    "# @TODO: Remove a bank from the dictionary\n",
    "\n",
    "del banks_and_market_caps['Wachovia']\n",
    "\n",
    "# @TODO: Print the modified dictionary\n",
    "\n",
    "print(banks_and_market_caps)"
   ]
  },
  {
   "cell_type": "code",
   "execution_count": 4,
   "id": "allied-papua",
   "metadata": {},
   "outputs": [
    {
     "name": "stdout",
     "output_type": "stream",
     "text": [
      "{'JP Morgan Chase': 327, 'Bank of America': 302, 'Citigroup': 170, 'Wells Fargo': 273, 'Goldman Sachs': 87, 'Morgan Stanley': 72, 'U.S. Bankcorp': 83, 'TD Bank': 108, 'PNC Financial Services': 67, 'Capital One': 47, 'FNB Corporation': 4, 'First Hawaiian Bank': 3, 'Ally Financial': 12, 'Republic Bankcorp': 0.97, 'American Express': 33}\n"
     ]
    }
   ],
   "source": [
    "print(banks_and_market_caps)"
   ]
  },
  {
   "cell_type": "code",
   "execution_count": 5,
   "id": "elegant-speed",
   "metadata": {},
   "outputs": [
    {
     "data": {
      "text/plain": [
       "{'JP Morgan Chase': 327,\n",
       " 'Bank of America': 302,\n",
       " 'Citigroup': 170,\n",
       " 'Wells Fargo': 273,\n",
       " 'Goldman Sachs': 87,\n",
       " 'Morgan Stanley': 72,\n",
       " 'U.S. Bankcorp': 83,\n",
       " 'TD Bank': 108,\n",
       " 'PNC Financial Services': 67,\n",
       " 'Capital One': 47,\n",
       " 'FNB Corporation': 4,\n",
       " 'First Hawaiian Bank': 3,\n",
       " 'Ally Financial': 12,\n",
       " 'Republic Bankcorp': 0.97,\n",
       " 'American Express': 33,\n",
       " 'Washington Mutual': 234}"
      ]
     },
     "execution_count": 5,
     "metadata": {},
     "output_type": "execute_result"
    }
   ],
   "source": [
    "# add 'Washington Mutual' to dictionary\n",
    "\n",
    "banks_and_market_caps['Washington Mutual'] = 234\n",
    "banks_and_market_caps"
   ]
  },
  {
   "cell_type": "code",
   "execution_count": 6,
   "id": "median-trauma",
   "metadata": {},
   "outputs": [],
   "source": [
    "# remove 'Washington Mutual'\n",
    "\n",
    "del banks_and_market_caps['Washington Mutual']"
   ]
  },
  {
   "cell_type": "code",
   "execution_count": 3,
   "id": "advised-leather",
   "metadata": {},
   "outputs": [],
   "source": [
    "# Challenge 1: make market cap lists\n",
    "\n",
    "mega_caps = []\n",
    "large_caps = []\n",
    "mid_caps = []\n",
    "small_caps = []"
   ]
  },
  {
   "cell_type": "code",
   "execution_count": 13,
   "id": "balanced-newark",
   "metadata": {},
   "outputs": [],
   "source": [
    "# Challenge 2 define variables.\n",
    "\n",
    "total_market_capitalization = 0\n",
    "total_number_of_banks = 0\n",
    "average_market_capitalization = 0\n",
    "max_key = ' '                     # since we're looping a dict, we need to have a an additional variable for the key.\n",
    "min_key = ' '                     # same as max key.\n",
    "maximum_value = 0                 # largest bank.\n",
    "minimum_value = 0                 # smallest bank. \n",
    "\n",
    "# rememebr \n",
    "\n",
    "#for key in dict:\n",
    "    #print(value)"
   ]
  },
  {
   "cell_type": "code",
   "execution_count": 13,
   "id": "opening-quarter",
   "metadata": {},
   "outputs": [],
   "source": [
    "# Challenge 2 setup the logic.\n",
    "# with dict looping there's 2 looping variables, the key and value.\n",
    "\n",
    "for bank_name, market_cap in banks_and_market_caps.items():          # this code will store the value in market_cap value. \n",
    "    total_market_capitalization += int(market_cap)                   # running total of the market_cap values. adds next market_cap in next loop. \n",
    "    total_number_of_banks += 1                                       # totat_number_of_banks = total_number_of_banks + 1\n",
    "    \n",
    "    average_market_capitalization = round(total_market_capitalization / total_number_of_banks, 2)\n",
    "    \n",
    "    # calculate the minimum\n",
    "    \n",
    "    if minimum_value == 0:                           # this code will not trigger after first loop.\n",
    "        minimum_value = market_cap                   # minimum value is set to 327\n",
    "        min_key = bank_name                          # minimum key is set to 'JP Morgan'\n",
    "    elif market_cap < minimum_value:                 # 327 < 327, doesn't trigger first loop. second loop 302 < 327\n",
    "        minimum_value = market_cap                   # min value set to 302 because that's lower than first inserted value 327\n",
    "        min_key = bank_name                          # \n",
    "        \n",
    "    # calculate the maximum\n",
    "    \n",
    "    if market_cap > maximum_value:\n",
    "        maximum_value = market_cap\n",
    "        max_key = bank_name\n",
    "        \n",
    "    # add the keys for the bank names to their respective lists \n",
    "    \n",
    "    if market_cap >=300:                                         # mega caps greater or equal 300 billion\n",
    "        mega_caps.append(bank_name)\n",
    "    \n",
    "    elif market_cap >= 10 and market_cap < 300:                 # large caps greater or equal 10 billion, but less than 300 billion\n",
    "        large_caps.append(bank_name)\n",
    "    \n",
    "    elif market_cap >=2 and market_cap < 10:                    # mid caps greater or equal 2 billion, but less than 10 billion\n",
    "        mid_caps.append(bank_name)                              # use and in conditionals that are between a range.\n",
    "    \n",
    "    else:                                                      # less than 2 billion is small.\n",
    "        small_caps.append(bank_name)"
   ]
  },
  {
   "cell_type": "code",
   "execution_count": 14,
   "id": "confused-gasoline",
   "metadata": {},
   "outputs": [
    {
     "name": "stdout",
     "output_type": "stream",
     "text": [
      "Total Market Capitalization: 1588\n",
      "Total Number of Banks: 15\n",
      "Average Market Capitalization: 105.87\n",
      "Largest Bank: 327\n",
      "Smallest Bank: 0.97\n"
     ]
    }
   ],
   "source": [
    "print(f\"Total Market Capitalization: {total_market_capitalization}\")\n",
    "print(f\"Total Number of Banks: {total_number_of_banks}\")\n",
    "print(f\"Average Market Capitalization: {average_market_capitalization}\")\n",
    "print(f\"Largest Bank: {maximum_value}\")\n",
    "print(f\"Smallest Bank: {minimum_value}\")"
   ]
  },
  {
   "cell_type": "code",
   "execution_count": 17,
   "id": "scientific-killing",
   "metadata": {},
   "outputs": [
    {
     "name": "stdout",
     "output_type": "stream",
     "text": [
      "Mega Caps: ['JP Morgan Chase', 'Bank of America']\n",
      "Large Caps: ['Citigroup', 'Wells Fargo', 'Goldman Sachs', 'Morgan Stanley', 'U.S. Bankcorp', 'TD Bank', 'PNC Financial Services', 'Capital One', 'Ally Financial', 'American Express']\n",
      "Mid-Caps: ['FNB Corporation', 'First Hawaiian Bank']\n",
      "Small-Caps: ['Republic Bankcorp']\n"
     ]
    }
   ],
   "source": [
    "print(f\"Mega Caps: {mega_caps}\")\n",
    "print(f\"Large Caps: {large_caps}\")\n",
    "print(f\"Mid-Caps: {mid_caps}\")\n",
    "print(f\"Small-Caps: {small_caps}\")"
   ]
  },
  {
   "cell_type": "code",
   "execution_count": 21,
   "id": "tutorial-penguin",
   "metadata": {},
   "outputs": [
    {
     "name": "stdout",
     "output_type": "stream",
     "text": [
      "Largest bank: JP Morgan Chase @ 327\n",
      "Smallest bank: Republic Bankcorp @ 0.97\n"
     ]
    }
   ],
   "source": [
    "print(f\"Largest bank: {max_key} @ {maximum_value}\")             \n",
    "print(f\"Smallest bank: {min_key} @ {minimum_value}\")"
   ]
  },
  {
   "cell_type": "code",
   "execution_count": null,
   "id": "homeless-reliance",
   "metadata": {},
   "outputs": [],
   "source": []
  }
 ],
 "metadata": {
  "kernelspec": {
   "display_name": "Python 3",
   "language": "python",
   "name": "python3"
  },
  "language_info": {
   "codemirror_mode": {
    "name": "ipython",
    "version": 3
   },
   "file_extension": ".py",
   "mimetype": "text/x-python",
   "name": "python",
   "nbconvert_exporter": "python",
   "pygments_lexer": "ipython3",
   "version": "3.9.1"
  }
 },
 "nbformat": 4,
 "nbformat_minor": 5
}
