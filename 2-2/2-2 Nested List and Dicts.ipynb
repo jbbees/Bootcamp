{
 "cells": [
  {
   "cell_type": "code",
   "execution_count": null,
   "id": "quality-chancellor",
   "metadata": {},
   "outputs": [],
   "source": [
    "# list of lists\n",
    "# list of dicts\n",
    "# dict of lists\n",
    "# dict of dicts"
   ]
  },
  {
   "cell_type": "code",
   "execution_count": 1,
   "id": "returning-lemon",
   "metadata": {},
   "outputs": [],
   "source": [
    "ceo_list = ['Warren', 'Jack', 'Harry']"
   ]
  },
  {
   "cell_type": "code",
   "execution_count": 3,
   "id": "bored-surge",
   "metadata": {},
   "outputs": [],
   "source": [
    "# list of lists\n",
    "# a big list where each element in the list, is a list itself.\n",
    "\n",
    "ceo_nested_list = [\n",
    "    ['Warren Buffet', 88, 'Berkshire Hathaway'],\n",
    "    ['Jack Dorsey', 44, 'Twitter'],\n",
    "    ['Vlad Tenev', 33, 'Robinhood']\n",
    "]"
   ]
  },
  {
   "cell_type": "code",
   "execution_count": 4,
   "id": "billion-concern",
   "metadata": {},
   "outputs": [
    {
     "data": {
      "text/plain": [
       "['Warren Buffet', 88, 'Berkshire Hathaway']"
      ]
     },
     "execution_count": 4,
     "metadata": {},
     "output_type": "execute_result"
    }
   ],
   "source": [
    "# retrieve first entry of ceo_nested_list\n",
    "# similar to doing a list index lookup   list[0] and it displays the value in that index.\n",
    "# here the value is a list itself\n",
    "\n",
    "ceo_nested_list[0]"
   ]
  },
  {
   "cell_type": "code",
   "execution_count": 5,
   "id": "stuck-sharing",
   "metadata": {},
   "outputs": [],
   "source": [
    "first_entry = ceo_nested_list[0]"
   ]
  },
  {
   "cell_type": "code",
   "execution_count": 6,
   "id": "august-maldives",
   "metadata": {},
   "outputs": [
    {
     "data": {
      "text/plain": [
       "'Warren Buffet'"
      ]
     },
     "execution_count": 6,
     "metadata": {},
     "output_type": "execute_result"
    }
   ],
   "source": [
    "# access the first item in the first list stored in index 0 of our nested list.\n",
    "# retieve the name of the first list element\n",
    "# find the zero index of the list \n",
    "# index lookup within an index lookup. \n",
    "\n",
    "ceo_nested_list[0][0]              # outer_list[0] brings that first list value, then does a second inner_list[0]"
   ]
  },
  {
   "cell_type": "code",
   "execution_count": 9,
   "id": "challenging-notice",
   "metadata": {},
   "outputs": [],
   "source": [
    "# store in a value\n",
    "\n",
    "ceo_name = ceo_nested_list[0][0]"
   ]
  },
  {
   "cell_type": "code",
   "execution_count": 7,
   "id": "identified-pharmaceutical",
   "metadata": {},
   "outputs": [
    {
     "data": {
      "text/plain": [
       "88"
      ]
     },
     "execution_count": 7,
     "metadata": {},
     "output_type": "execute_result"
    }
   ],
   "source": [
    "ceo_nested_list[0][1]"
   ]
  },
  {
   "cell_type": "code",
   "execution_count": 10,
   "id": "expected-jacket",
   "metadata": {},
   "outputs": [],
   "source": [
    "age = ceo_nested_list[0][1]"
   ]
  },
  {
   "cell_type": "code",
   "execution_count": 8,
   "id": "labeled-output",
   "metadata": {},
   "outputs": [
    {
     "data": {
      "text/plain": [
       "'Berkshire Hathaway'"
      ]
     },
     "execution_count": 8,
     "metadata": {},
     "output_type": "execute_result"
    }
   ],
   "source": [
    "ceo_nested_list[0][2]"
   ]
  },
  {
   "cell_type": "code",
   "execution_count": 11,
   "id": "appointed-basket",
   "metadata": {},
   "outputs": [],
   "source": [
    "company = ceo_nested_list[0][2]"
   ]
  },
  {
   "cell_type": "code",
   "execution_count": 13,
   "id": "possible-delicious",
   "metadata": {},
   "outputs": [
    {
     "name": "stdout",
     "output_type": "stream",
     "text": [
      "The first CEO in our nested list is Warren Buffet who is 88 years old, and runs Berkshire Hathaway\n"
     ]
    }
   ],
   "source": [
    "print(f\"The first CEO in our nested list is {ceo_name} who is {age} years old, and runs {company}\")"
   ]
  },
  {
   "cell_type": "code",
   "execution_count": 14,
   "id": "parliamentary-integer",
   "metadata": {},
   "outputs": [],
   "source": [
    "# dictionary of lists\n",
    "# this is a dictionary that has a key and a list as the value for the key.\n",
    "\n",
    "nested_stock_list = {\n",
    "    'APPL': ['Apple', 101.32, 'NASDAQ', 937.7],\n",
    "    'MU': ['Micron Technology', 32.12, 'NASDAQ', 48.03],\n",
    "    'AMD': ['Advanced Micro Devices', 23.12, 'NASDAQ', 29.94],\n",
    "    'TWTR': ['Twitter', 34.40, 'NASDAQ', 26.42]\n",
    "}"
   ]
  },
  {
   "cell_type": "code",
   "execution_count": 15,
   "id": "editorial-access",
   "metadata": {},
   "outputs": [
    {
     "data": {
      "text/plain": [
       "['Apple', 101.32, 'NASDAQ', 937.7]"
      ]
     },
     "execution_count": 15,
     "metadata": {},
     "output_type": "execute_result"
    }
   ],
   "source": [
    "# key lookup on the dict, or in this case dict of list\n",
    "# Look up APPL\n",
    "\n",
    "nested_stock_list['APPL']"
   ]
  },
  {
   "cell_type": "code",
   "execution_count": 20,
   "id": "alleged-expression",
   "metadata": {},
   "outputs": [
    {
     "name": "stdout",
     "output_type": "stream",
     "text": [
      "The company we looked up is Apple, with current price at 101.32 which is traded on NASDAQ\n",
      "The ticker number for this stock is APPL\n"
     ]
    },
    {
     "name": "stderr",
     "output_type": "stream",
     "text": [
      "<>:13: SyntaxWarning: \"is\" with a literal. Did you mean \"==\"?\n",
      "<>:13: SyntaxWarning: \"is\" with a literal. Did you mean \"==\"?\n",
      "<ipython-input-20-9f860673cf0b>:13: SyntaxWarning: \"is\" with a literal. Did you mean \"==\"?\n",
      "  if key is 'APPL':\n"
     ]
    }
   ],
   "source": [
    "# do a key lookup, and then retireve the stored list items within the list related that key.\n",
    "# key lookup on APPL, and then get the list elements for name, stock, price, and exchange\n",
    "\n",
    "\n",
    "company_name = nested_stock_list['APPL'][0] \n",
    "stock_price = nested_stock_list['APPL'][1]\n",
    "exchange_traded = nested_stock_list['APPL'][2]\n",
    "\n",
    "print(f\"The company we looked up is {company_name}, with current price at {stock_price} which is traded on {exchange_traded}\")\n",
    "\n",
    "# I want to also display the ticker, but that's a key. \n",
    "# with lists we returned the index with list.index(value) = 0 or 1 or whatever it was in the list. \n",
    "# with regular dict, we returned the key in a loop. but here the values themselves are whole lists. \n",
    "\n",
    "for key in nested_stock_list:            #\n",
    "    ticker_name = key\n",
    "    if key is 'APPL':\n",
    "        break\n",
    "\n",
    "print(f\"The ticker number for this stock is {ticker_name}\")"
   ]
  },
  {
   "cell_type": "code",
   "execution_count": 23,
   "id": "italian-reproduction",
   "metadata": {},
   "outputs": [],
   "source": [
    "# dict of dict\n",
    "# syntax for a dictionary is dict_name = { 'key': 'value', 'key': 'value', 'key'}\n",
    "# outer dict is for stock ticker numbers. \n",
    "# 'APPL'\n",
    "\n",
    "stocks_nested_dict = {\n",
    "    'APPL': {\n",
    "        'Name': 'Apple',\n",
    "        'Price': 101.32,\n",
    "        'Exchange': 'NASDAQ',\n",
    "        'Market Cap': 937.7\n",
    "    },\n",
    "    'MU': {\n",
    "        'Name': 'Micron Techology',\n",
    "        'Price': 32.12,\n",
    "        'Exchange': 'NASDAQ',\n",
    "        'Market Cap': 48.03\n",
    "    },\n",
    "    'AMD': {\n",
    "        'Name': 'Advanced Micro Devices',\n",
    "        'Price': 23.12,\n",
    "        'Exchange': 'NASDAQ',\n",
    "        'Market Cap': 29.94\n",
    "    },\n",
    "    'TWTR' : {\n",
    "        'Name': 'Twitter',\n",
    "        'Price': 34.40,\n",
    "        'Exchange': 'NASDAQ',\n",
    "        'Market Cap': 26.42\n",
    "    }\n",
    "}"
   ]
  },
  {
   "cell_type": "code",
   "execution_count": 24,
   "id": "choice-scott",
   "metadata": {},
   "outputs": [
    {
     "data": {
      "text/plain": [
       "{'Name': 'Apple', 'Price': 101.32, 'Exchange': 'NASDAQ', 'Market Cap': 937.7}"
      ]
     },
     "execution_count": 24,
     "metadata": {},
     "output_type": "execute_result"
    }
   ],
   "source": [
    "# key lookup on the dict of dict\n",
    "# it makes the output more \n",
    "# each dict is pointing to smaller items we can look up. \n",
    "# dict of lists printed out lists without descriptions. \n",
    "\n",
    "stocks_nested_dict['APPL']               "
   ]
  },
  {
   "cell_type": "code",
   "execution_count": 25,
   "id": "covered-shower",
   "metadata": {},
   "outputs": [
    {
     "data": {
      "text/plain": [
       "'Apple'"
      ]
     },
     "execution_count": 25,
     "metadata": {},
     "output_type": "execute_result"
    }
   ],
   "source": [
    "# retrieving items from a dict stored in a dict\n",
    "\n",
    "stocks_nested_dict['APPL']['Name']    # this looks up main key passed. then looks into the dictionary for that key, and does a key lookup on Name key."
   ]
  },
  {
   "cell_type": "code",
   "execution_count": null,
   "id": "original-insulin",
   "metadata": {},
   "outputs": [],
   "source": []
  }
 ],
 "metadata": {
  "kernelspec": {
   "display_name": "Python 3",
   "language": "python",
   "name": "python3"
  },
  "language_info": {
   "codemirror_mode": {
    "name": "ipython",
    "version": 3
   },
   "file_extension": ".py",
   "mimetype": "text/x-python",
   "name": "python",
   "nbconvert_exporter": "python",
   "pygments_lexer": "ipython3",
   "version": "3.9.1"
  }
 },
 "nbformat": 4,
 "nbformat_minor": 5
}
