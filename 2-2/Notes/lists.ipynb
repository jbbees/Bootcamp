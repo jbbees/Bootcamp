{
 "cells": [
  {
   "cell_type": "code",
   "execution_count": 2,
   "id": "automotive-deficit",
   "metadata": {},
   "outputs": [
    {
     "name": "stdout",
     "output_type": "stream",
     "text": [
      "U\n",
      "n\n",
      "i\n",
      "v\n",
      "e\n",
      "r\n",
      "s\n",
      "i\n",
      "t\n",
      "y\n",
      " \n",
      "o\n",
      "f\n",
      " \n",
      "W\n",
      "a\n",
      "s\n",
      "h\n",
      "i\n",
      "n\n",
      "g\n",
      "t\n",
      "o\n",
      "n\n"
     ]
    }
   ],
   "source": [
    "my_string = \"University of Washington\"\n",
    "for i in my_string:\n",
    "    print(i)"
   ]
  },
  {
   "cell_type": "code",
   "execution_count": 3,
   "id": "fifty-blast",
   "metadata": {},
   "outputs": [
    {
     "ename": "NameError",
     "evalue": "name 'x' is not defined",
     "output_type": "error",
     "traceback": [
      "\u001b[1;31m---------------------------------------------------------------------------\u001b[0m",
      "\u001b[1;31mNameError\u001b[0m                                 Traceback (most recent call last)",
      "\u001b[1;32m<ipython-input-3-c3c485d297b6>\u001b[0m in \u001b[0;36m<module>\u001b[1;34m\u001b[0m\n\u001b[0;32m      7\u001b[0m         \u001b[1;32mif\u001b[0m \u001b[0mletter\u001b[0m \u001b[1;33m==\u001b[0m \u001b[1;34m' '\u001b[0m\u001b[1;33m:\u001b[0m                             \u001b[1;31m# if the position in the cheer is a space, let's skip and continue the loop.\u001b[0m\u001b[1;33m\u001b[0m\u001b[1;33m\u001b[0m\u001b[0m\n\u001b[0;32m      8\u001b[0m             \u001b[1;32mcontinue\u001b[0m\u001b[1;33m\u001b[0m\u001b[1;33m\u001b[0m\u001b[0m\n\u001b[1;32m----> 9\u001b[1;33m         \u001b[0mprint\u001b[0m\u001b[1;33m(\u001b[0m\u001b[1;34mf\"Give me a {x}\"\u001b[0m\u001b[1;33m)\u001b[0m\u001b[1;33m\u001b[0m\u001b[1;33m\u001b[0m\u001b[0m\n\u001b[0m\u001b[0;32m     10\u001b[0m     \u001b[0mprint\u001b[0m\u001b[1;33m(\u001b[0m\u001b[1;34m\"What's that spell?\"\u001b[0m\u001b[1;33m)\u001b[0m\u001b[1;33m\u001b[0m\u001b[1;33m\u001b[0m\u001b[0m\n\u001b[0;32m     11\u001b[0m     \u001b[0mprint\u001b[0m\u001b[1;33m(\u001b[0m\u001b[1;34mf\"{cheer}\"\u001b[0m\u001b[1;33m)\u001b[0m\u001b[1;33m\u001b[0m\u001b[1;33m\u001b[0m\u001b[0m\n",
      "\u001b[1;31mNameError\u001b[0m: name 'x' is not defined"
     ]
    }
   ],
   "source": [
    "# make a list\n",
    "\n",
    "cheers = ['University of Washington', 'Python', 'Seahawks']\n",
    "\n",
    "for cheer in cheers:                             #loop through the list variable cheers, store each iteration in cheer. this loops through 3 cheers. \n",
    "    for letter in cheer:                              # x is each letter in the grabbed cheer from the list. \n",
    "        if letter == ' ':                             # if the position in the cheer is a space, let's skip and continue the loop.\n",
    "            continue\n",
    "        print(f\"Give me a {x}\")\n",
    "    print(\"What's that spell?\")\n",
    "    print(f\"{cheer}\")"
   ]
  },
  {
   "cell_type": "code",
   "execution_count": 4,
   "id": "geological-photography",
   "metadata": {},
   "outputs": [
    {
     "name": "stdout",
     "output_type": "stream",
     "text": [
      "red\n"
     ]
    }
   ],
   "source": [
    "# print out the position of lists. \n",
    "\n",
    "color_of_hats = ['green', 'blue', 'red', 'purple']     # 0 - green, 1 - blue, 2 - red, 3 - purple\n",
    "\n",
    "print(color_of_hats[2])  # prints red"
   ]
  },
  {
   "cell_type": "code",
   "execution_count": 5,
   "id": "romantic-conference",
   "metadata": {},
   "outputs": [
    {
     "ename": "IndexError",
     "evalue": "list index out of range",
     "output_type": "error",
     "traceback": [
      "\u001b[1;31m---------------------------------------------------------------------------\u001b[0m",
      "\u001b[1;31mIndexError\u001b[0m                                Traceback (most recent call last)",
      "\u001b[1;32m<ipython-input-5-44dda56d984f>\u001b[0m in \u001b[0;36m<module>\u001b[1;34m\u001b[0m\n\u001b[0;32m      3\u001b[0m \u001b[0mcolor_of_hats\u001b[0m \u001b[1;33m=\u001b[0m \u001b[1;33m[\u001b[0m\u001b[1;34m'green'\u001b[0m\u001b[1;33m,\u001b[0m \u001b[1;34m'blue'\u001b[0m\u001b[1;33m,\u001b[0m \u001b[1;34m'red'\u001b[0m\u001b[1;33m,\u001b[0m \u001b[1;34m'purple'\u001b[0m\u001b[1;33m]\u001b[0m     \u001b[1;31m# 0 - green, 1 - blue, 2 - red, 3 - purple\u001b[0m\u001b[1;33m\u001b[0m\u001b[1;33m\u001b[0m\u001b[0m\n\u001b[0;32m      4\u001b[0m \u001b[1;33m\u001b[0m\u001b[0m\n\u001b[1;32m----> 5\u001b[1;33m \u001b[0mprint\u001b[0m\u001b[1;33m(\u001b[0m\u001b[0mcolor_of_hats\u001b[0m\u001b[1;33m[\u001b[0m\u001b[1;36m5\u001b[0m\u001b[1;33m]\u001b[0m\u001b[1;33m)\u001b[0m  \u001b[1;31m# code fails. no position 5\u001b[0m\u001b[1;33m\u001b[0m\u001b[1;33m\u001b[0m\u001b[0m\n\u001b[0m",
      "\u001b[1;31mIndexError\u001b[0m: list index out of range"
     ]
    }
   ],
   "source": [
    "# print out a position that doesn't exist.\n",
    "\n",
    "color_of_hats = ['green', 'blue', 'red', 'purple']     # 0 - green, 1 - blue, 2 - red, 3 - purple\n",
    "\n",
    "print(color_of_hats[5])  # code fails. no position 5"
   ]
  },
  {
   "cell_type": "code",
   "execution_count": 9,
   "id": "strange-plane",
   "metadata": {},
   "outputs": [
    {
     "name": "stdout",
     "output_type": "stream",
     "text": [
      "purple\n"
     ]
    }
   ],
   "source": [
    "# print out the last element of list\n",
    "\n",
    "color_of_hats = ['green', 'blue', 'red', 'purple']     # 0 - green, 1 - blue, 2 - red, 3 - purple\n",
    "\n",
    "#print(color_of_hats[4])  # code fails. no position 4. list starts at 0.\n",
    "\n",
    "print(color_hats[-1]) #this will give you last thing in list. purple."
   ]
  },
  {
   "cell_type": "code",
   "execution_count": 10,
   "id": "broke-knowing",
   "metadata": {},
   "outputs": [
    {
     "name": "stdout",
     "output_type": "stream",
     "text": [
      "4\n"
     ]
    }
   ],
   "source": [
    "# print out length list using len() function \n",
    "\n",
    "color_of_hats = ['green', 'blue', 'red', 'purple']     # 0 - green, 1 - blue, 2 - red, 3 - purple\n",
    "\n",
    "print(len(color_of_hats))"
   ]
  },
  {
   "cell_type": "code",
   "execution_count": 11,
   "id": "signed-satisfaction",
   "metadata": {},
   "outputs": [
    {
     "name": "stdout",
     "output_type": "stream",
     "text": [
      "range(0, 4)\n"
     ]
    }
   ],
   "source": [
    "# list indexes using range() function \n",
    "\n",
    "color_of_hats = ['green', 'blue', 'red', 'purple']     # 0 - green, 1 - blue, 2 - red, 3 - purple\n",
    "\n",
    "number_of_hats = len(color_of_hats)    # since list length is 4. stores value 4 for number_of_hats\n",
    "\n",
    "list_indexes = range(number_of_hats)   # since value is 4, range is (0, 4) tuple - 0 1 2 3 \n",
    "\n",
    "print(list_indexes)\n",
    "\n",
    "#print(color_of_hats(number_of_hats))   # this fails. because no position 4. basically print(list[4])\n",
    "\n"
   ]
  },
  {
   "cell_type": "code",
   "execution_count": 13,
   "id": "monthly-visiting",
   "metadata": {},
   "outputs": [
    {
     "name": "stdout",
     "output_type": "stream",
     "text": [
      "0\n",
      "green\n",
      "1\n",
      "blue\n",
      "2\n",
      "red\n",
      "3\n",
      "purple\n"
     ]
    }
   ],
   "source": [
    "# use a for-loop\n",
    "# the range function() is useful for accessing your lists. \n",
    "\n",
    "for index in list_indexes:\n",
    "    print(index)\n",
    "    print(color_of_hats[index])  #print a lookup on index value with each loop. "
   ]
  },
  {
   "cell_type": "code",
   "execution_count": 6,
   "id": "gothic-match",
   "metadata": {},
   "outputs": [
    {
     "name": "stdout",
     "output_type": "stream",
     "text": [
      "chocolate\n",
      "vanilla\n",
      "10\n",
      "tacos\n",
      "mountains\n",
      "10\n",
      "All of you\n",
      "tax refunds\n"
     ]
    }
   ],
   "source": [
    "a_few_of_my_favorite_things = ['chocolate', 'vanilla', 10, 'tacos', 'mountains', '10', 'All of you', 'tax refunds']  # heterogeneous list\n",
    "\n",
    "# loop to print the referenced code contained in a position in the list with each loop through the list.\n",
    "\n",
    "for index in range(len(a_few_of_my_favorite_things)):    # for index in range(0, 4)\n",
    "    print(a_few_of_my_favorite_things[index])            # print(list[index])"
   ]
  },
  {
   "cell_type": "code",
   "execution_count": 7,
   "id": "removed-chassis",
   "metadata": {},
   "outputs": [
    {
     "name": "stdout",
     "output_type": "stream",
     "text": [
      "['chocolate', 'vanilla', 10, 'tacos', 'mountains', '10', 'All of you', 'tax refunds']\n"
     ]
    }
   ],
   "source": [
    "# print the whole list\n",
    "\n",
    "print(a_few_of_my_favorite_things)"
   ]
  },
  {
   "cell_type": "code",
   "execution_count": 8,
   "id": "quantitative-quick",
   "metadata": {},
   "outputs": [
    {
     "data": {
      "text/plain": [
       "['mountains']"
      ]
     },
     "execution_count": 8,
     "metadata": {},
     "output_type": "execute_result"
    }
   ],
   "source": [
    "# print references in a list\n",
    "\n",
    "a_few_of_my_favorite_things[4:5]   # prints 4th position, not the 4th item. stops and omits 5th item."
   ]
  },
  {
   "cell_type": "code",
   "execution_count": 20,
   "id": "coral-template",
   "metadata": {},
   "outputs": [
    {
     "ename": "IndexError",
     "evalue": "string index out of range",
     "output_type": "error",
     "traceback": [
      "\u001b[1;31m---------------------------------------------------------------------------\u001b[0m",
      "\u001b[1;31mIndexError\u001b[0m                                Traceback (most recent call last)",
      "\u001b[1;32m<ipython-input-20-b8ef55cecb29>\u001b[0m in \u001b[0;36m<module>\u001b[1;34m\u001b[0m\n\u001b[0;32m      1\u001b[0m \u001b[0mtext\u001b[0m \u001b[1;33m=\u001b[0m \u001b[1;34m\"Academics\"\u001b[0m\u001b[1;33m\u001b[0m\u001b[1;33m\u001b[0m\u001b[0m\n\u001b[1;32m----> 2\u001b[1;33m \u001b[0mprint\u001b[0m\u001b[1;33m(\u001b[0m\u001b[0mtext\u001b[0m\u001b[1;33m[\u001b[0m\u001b[1;36m10\u001b[0m\u001b[1;33m]\u001b[0m\u001b[1;33m)\u001b[0m\u001b[1;33m\u001b[0m\u001b[1;33m\u001b[0m\u001b[0m\n\u001b[0m",
      "\u001b[1;31mIndexError\u001b[0m: string index out of range"
     ]
    }
   ],
   "source": [
    "text = \"Academics\"\n",
    "print(text[10])"
   ]
  },
  {
   "cell_type": "code",
   "execution_count": 23,
   "id": "colored-secretariat",
   "metadata": {},
   "outputs": [
    {
     "name": "stdout",
     "output_type": "stream",
     "text": [
      "['chocolate', 'vanilla', 10, 'tacos', 'mountains', '10', 'All of you']\n"
     ]
    }
   ],
   "source": [
    "print(a_few_of_my_favorite_things[ : 7])   # gives me everything in list up to element 7"
   ]
  },
  {
   "cell_type": "code",
   "execution_count": 24,
   "id": "unsigned-treasure",
   "metadata": {},
   "outputs": [],
   "source": [
    "# .append() function for adding to lists\n",
    "\n",
    "a_few_of_my_favorite_things.append('lamp')"
   ]
  },
  {
   "cell_type": "code",
   "execution_count": 25,
   "id": "specified-former",
   "metadata": {},
   "outputs": [],
   "source": [
    "# create a new list and store another list value within it.\n",
    "\n",
    "new_list = [a_few_of_my_favorite_things[0:5], \"Ned Flanders\", a_few_of_my_favorite_things[7]]  # this only adds parts of list 0-5]"
   ]
  },
  {
   "cell_type": "code",
   "execution_count": 26,
   "id": "oriented-trance",
   "metadata": {},
   "outputs": [
    {
     "data": {
      "text/plain": [
       "[['chocolate', 'vanilla', 10, 'tacos', 'mountains'],\n",
       " 'Ned Flanders',\n",
       " 'tax refunds']"
      ]
     },
     "execution_count": 26,
     "metadata": {},
     "output_type": "execute_result"
    }
   ],
   "source": [
    "new_list"
   ]
  },
  {
   "cell_type": "code",
   "execution_count": 27,
   "id": "reverse-toilet",
   "metadata": {},
   "outputs": [
    {
     "data": {
      "text/plain": [
       "['chocolate',\n",
       " 'vanilla',\n",
       " 10,\n",
       " 'tacos',\n",
       " 'mountains',\n",
       " '10',\n",
       " 'All of you',\n",
       " 'tax refunds',\n",
       " 'lamp']"
      ]
     },
     "execution_count": 27,
     "metadata": {},
     "output_type": "execute_result"
    }
   ],
   "source": [
    "a_few_of_my_favorite_things"
   ]
  },
  {
   "cell_type": "code",
   "execution_count": 54,
   "id": "quiet-alcohol",
   "metadata": {},
   "outputs": [
    {
     "data": {
      "text/plain": [
       "3"
      ]
     },
     "execution_count": 54,
     "metadata": {},
     "output_type": "execute_result"
    }
   ],
   "source": [
    "# index() function on lists\n",
    "\n",
    "a_few_of_my_favorite_things.index('tacos')  # this will tell us what indexed position tacos is in list. "
   ]
  },
  {
   "cell_type": "code",
   "execution_count": 30,
   "id": "bigger-australia",
   "metadata": {},
   "outputs": [
    {
     "data": {
      "text/plain": [
       "3"
      ]
     },
     "execution_count": 30,
     "metadata": {},
     "output_type": "execute_result"
    }
   ],
   "source": [
    "# lists allow duplicates. if 2 elements the same. what does index() return?\n",
    "\n",
    "a_few_of_my_favorite_things.append('tacos')\n",
    "a_few_of_my_favorite_things.index('tacos')   # index returns 3. the first tacos element. index() will grab only the first available from left-to-right"
   ]
  },
  {
   "cell_type": "code",
   "execution_count": 31,
   "id": "equal-verse",
   "metadata": {},
   "outputs": [],
   "source": [
    "# .remove() function.\n",
    "\n",
    "a_few_of_my_favorite_things.remove('tacos')"
   ]
  },
  {
   "cell_type": "code",
   "execution_count": 30,
   "id": "driving-injury",
   "metadata": {},
   "outputs": [
    {
     "data": {
      "text/plain": [
       "3"
      ]
     },
     "execution_count": 30,
     "metadata": {},
     "output_type": "execute_result"
    }
   ],
   "source": [
    "# pop() function. pops the index out of the list. \n",
    "\n",
    "a_few_of_my_favorite_things.pop(9)"
   ]
  },
  {
   "cell_type": "code",
   "execution_count": 32,
   "id": "going-stress",
   "metadata": {},
   "outputs": [
    {
     "data": {
      "text/plain": [
       "['chocolate',\n",
       " 'vanilla',\n",
       " 10,\n",
       " 'mountains',\n",
       " '10',\n",
       " 'All of you',\n",
       " 'tax refunds',\n",
       " 'lamp',\n",
       " 'tacos',\n",
       " 'tacos']"
      ]
     },
     "execution_count": 32,
     "metadata": {},
     "output_type": "execute_result"
    }
   ],
   "source": [
    "a_few_of_my_favorite_things"
   ]
  },
  {
   "cell_type": "code",
   "execution_count": 33,
   "id": "imported-aerospace",
   "metadata": {},
   "outputs": [
    {
     "ename": "NameError",
     "evalue": "name 'vanilla' is not defined",
     "output_type": "error",
     "traceback": [
      "\u001b[1;31m---------------------------------------------------------------------------\u001b[0m",
      "\u001b[1;31mNameError\u001b[0m                                 Traceback (most recent call last)",
      "\u001b[1;32m<ipython-input-33-d3eac574e436>\u001b[0m in \u001b[0;36m<module>\u001b[1;34m\u001b[0m\n\u001b[1;32m----> 1\u001b[1;33m \u001b[0ma_few_of_my_favorite_things\u001b[0m\u001b[1;33m(\u001b[0m\u001b[0mvanilla\u001b[0m\u001b[1;33m)\u001b[0m\u001b[1;33m\u001b[0m\u001b[1;33m\u001b[0m\u001b[0m\n\u001b[0m",
      "\u001b[1;31mNameError\u001b[0m: name 'vanilla' is not defined"
     ]
    }
   ],
   "source": [
    "a_few_of_my_favorite_things('vanilla')"
   ]
  },
  {
   "cell_type": "code",
   "execution_count": 35,
   "id": "separate-highland",
   "metadata": {},
   "outputs": [
    {
     "data": {
      "text/plain": [
       "['austin', 'kelly', 'john', 'ausitn', 'kelly']"
      ]
     },
     "execution_count": 35,
     "metadata": {},
     "output_type": "execute_result"
    }
   ],
   "source": [
    "list = ['john', 'austin', 'kelly', 'john', 'ausitn', 'kelly']\n",
    "list.remove('john')\n",
    "list"
   ]
  },
  {
   "cell_type": "code",
   "execution_count": 1,
   "id": "refined-burns",
   "metadata": {},
   "outputs": [
    {
     "ename": "NameError",
     "evalue": "name 'a_few_of_my_favorite_things' is not defined",
     "output_type": "error",
     "traceback": [
      "\u001b[1;31m---------------------------------------------------------------------------\u001b[0m",
      "\u001b[1;31mNameError\u001b[0m                                 Traceback (most recent call last)",
      "\u001b[1;32m<ipython-input-1-02c7c03c25e3>\u001b[0m in \u001b[0;36m<module>\u001b[1;34m\u001b[0m\n\u001b[1;32m----> 1\u001b[1;33m \u001b[0mprint\u001b[0m\u001b[1;33m(\u001b[0m\u001b[0ma_few_of_my_favorite_things\u001b[0m\u001b[1;33m[\u001b[0m\u001b[1;36m0\u001b[0m\u001b[1;33m]\u001b[0m\u001b[1;33m)\u001b[0m\u001b[1;33m\u001b[0m\u001b[1;33m\u001b[0m\u001b[0m\n\u001b[0m",
      "\u001b[1;31mNameError\u001b[0m: name 'a_few_of_my_favorite_things' is not defined"
     ]
    }
   ],
   "source": [
    "print(a_few_of_my_favorite_things[0])"
   ]
  },
  {
   "cell_type": "code",
   "execution_count": 14,
   "id": "fantastic-sector",
   "metadata": {},
   "outputs": [
    {
     "name": "stdout",
     "output_type": "stream",
     "text": [
      "['water', 'butter', 'eggs', 'apples', 'cinnamon', 'sugar', 'milk']\n"
     ]
    }
   ],
   "source": [
    "grocery_list = ['water', 'butter', 'eggs', 'apples', 'cinnamon', 'sugar', 'milk'] \n",
    "print(grocery_list)"
   ]
  },
  {
   "cell_type": "code",
   "execution_count": 15,
   "id": "complex-partition",
   "metadata": {},
   "outputs": [
    {
     "data": {
      "text/plain": [
       "['water', 'butter', 'eggs', 'apples', 'cinnamon', 'sugar', 'milk']"
      ]
     },
     "execution_count": 15,
     "metadata": {},
     "output_type": "execute_result"
    }
   ],
   "source": [
    "# display list without a print() statement\n",
    "\n",
    "grocery_list"
   ]
  },
  {
   "cell_type": "code",
   "execution_count": 22,
   "id": "sharp-perth",
   "metadata": {},
   "outputs": [
    {
     "data": {
      "text/plain": [
       "['water',\n",
       " 'butter',\n",
       " 'eggs',\n",
       " 'apples',\n",
       " 'cinnamon',\n",
       " 'sugar',\n",
       " 'milk',\n",
       " 'almond flour',\n",
       " 'almond flour']"
      ]
     },
     "execution_count": 22,
     "metadata": {},
     "output_type": "execute_result"
    }
   ],
   "source": [
    "grocery_list.append('almond flour')\n",
    "grocery_list"
   ]
  },
  {
   "cell_type": "code",
   "execution_count": 23,
   "id": "funded-reynolds",
   "metadata": {},
   "outputs": [
    {
     "data": {
      "text/plain": [
       "['water', 'butter', 'eggs', 'apples', 'cinnamon', 'sugar', 'milk']"
      ]
     },
     "execution_count": 23,
     "metadata": {},
     "output_type": "execute_result"
    }
   ],
   "source": [
    "grocery_list.remove('almond flour')\n",
    "gorcery_list"
   ]
  },
  {
   "cell_type": "code",
   "execution_count": 24,
   "id": "second-knight",
   "metadata": {},
   "outputs": [
    {
     "data": {
      "text/plain": [
       "['water',\n",
       " 'butter',\n",
       " 'eggs',\n",
       " 'apples',\n",
       " 'cinnamon',\n",
       " 'sugar',\n",
       " 'milk',\n",
       " 'almond flour',\n",
       " 'almond flour']"
      ]
     },
     "execution_count": 24,
     "metadata": {},
     "output_type": "execute_result"
    }
   ],
   "source": [
    "grocery_list.append('almond flour')\n",
    "grocery_list"
   ]
  },
  {
   "cell_type": "code",
   "execution_count": 25,
   "id": "heated-warren",
   "metadata": {},
   "outputs": [
    {
     "name": "stdout",
     "output_type": "stream",
     "text": [
      "['water', 'butter', 'eggs', 'apples', 'cinnamon', 'sugar', 'milk', 'almond flour', 'almond flour']\n"
     ]
    }
   ],
   "source": [
    "print(grocery_list)"
   ]
  },
  {
   "cell_type": "code",
   "execution_count": 26,
   "id": "robust-dominican",
   "metadata": {},
   "outputs": [],
   "source": [
    "grocery_list.remove('almond flour')"
   ]
  },
  {
   "cell_type": "code",
   "execution_count": 27,
   "id": "broadband-vegetarian",
   "metadata": {},
   "outputs": [
    {
     "data": {
      "text/plain": [
       "['water',\n",
       " 'butter',\n",
       " 'eggs',\n",
       " 'apples',\n",
       " 'cinnamon',\n",
       " 'sugar',\n",
       " 'milk',\n",
       " 'almond flour']"
      ]
     },
     "execution_count": 27,
     "metadata": {},
     "output_type": "execute_result"
    }
   ],
   "source": [
    "grocery_list"
   ]
  },
  {
   "cell_type": "code",
   "execution_count": 33,
   "id": "victorian-applicant",
   "metadata": {},
   "outputs": [
    {
     "data": {
      "text/plain": [
       "['water', 'butter', 'eggs', 'apples', 'cinnamon', 'sugar', 'milk', 'pecans']"
      ]
     },
     "execution_count": 33,
     "metadata": {},
     "output_type": "execute_result"
    }
   ],
   "source": [
    "# replace an item in the list with something else without added to the list \n",
    "# let's replace almond flour with pecans.\n",
    "\n",
    "# let's find the index of the item to change with the .index() function.\n",
    "\n",
    "grocery_list\n",
    "\n",
    "almond_flour_index = grocery_list.index('almond flour')\n",
    "print(almond_flour_index)   # prints 7. index 7 has value almond flour\n",
    "\n",
    "grocery_list[almond_flour_index] = 'pecans'    # assign a new value for index 7. replacing 'almond flour'\n",
    "print(gorcery_list[almond_flour_index])        # new value pecans"
   ]
  },
  {
   "cell_type": "code",
   "execution_count": 35,
   "id": "neither-shelf",
   "metadata": {},
   "outputs": [
    {
     "name": "stdout",
     "output_type": "stream",
     "text": [
      "4\n"
     ]
    }
   ],
   "source": [
    "# print(grocery_list['cinnamon'])\n",
    "print(grocery_list.index('cinnamon'))"
   ]
  },
  {
   "cell_type": "code",
   "execution_count": 36,
   "id": "sweet-anxiety",
   "metadata": {},
   "outputs": [
    {
     "name": "stdout",
     "output_type": "stream",
     "text": [
      "6\n"
     ]
    }
   ],
   "source": [
    "# find index of list element \n",
    "\n",
    "print(grocery_list.index('milk'))"
   ]
  },
  {
   "cell_type": "code",
   "execution_count": 40,
   "id": "descending-record",
   "metadata": {},
   "outputs": [
    {
     "name": "stdout",
     "output_type": "stream",
     "text": [
      "15\n",
      "['water', 'butter', 'eggs', 'apples', 'cinnamon', 'sugar', 'milk', 'pecans']\n",
      "['y', 'u', 'm', 'm', 'y', ' ', 'f', 'o', 'o', 'd', 'f', 'o', 'o', 'd', 'f', 'o', 'o', 'd', 'milk']\n"
     ]
    }
   ],
   "source": [
    "#replace multiple items in a list.\n",
    "\n",
    "print(len(gorcery_list))\n",
    "\n",
    "grocery_list[0:6] = 'yummy food'\n",
    "\n",
    "print(grocery_list)"
   ]
  },
  {
   "cell_type": "code",
   "execution_count": 41,
   "id": "strong-malawi",
   "metadata": {},
   "outputs": [
    {
     "name": "stdout",
     "output_type": "stream",
     "text": [
      "9 10\n"
     ]
    }
   ],
   "source": [
    "x, y = 9, 10\n",
    "print(x,y)"
   ]
  },
  {
   "cell_type": "code",
   "execution_count": 42,
   "id": "cultural-receptor",
   "metadata": {},
   "outputs": [],
   "source": [
    "grocery_list = ['food1', 'food2', 'food3', 'food4', 'food5', 'food6', 'food7']"
   ]
  },
  {
   "cell_type": "code",
   "execution_count": 43,
   "id": "awful-linux",
   "metadata": {},
   "outputs": [
    {
     "name": "stdout",
     "output_type": "stream",
     "text": [
      "['food1', 'food2', 'food3', 'food4', 'food5', 'food6', 'food7']\n"
     ]
    }
   ],
   "source": [
    "print(grocery_list)"
   ]
  },
  {
   "cell_type": "code",
   "execution_count": 44,
   "id": "widespread-dividend",
   "metadata": {},
   "outputs": [
    {
     "data": {
      "text/plain": [
       "'milk'"
      ]
     },
     "execution_count": 44,
     "metadata": {},
     "output_type": "execute_result"
    }
   ],
   "source": [
    "gorcery_list.pop(-1)"
   ]
  },
  {
   "cell_type": "code",
   "execution_count": 46,
   "id": "straight-celebrity",
   "metadata": {},
   "outputs": [
    {
     "data": {
      "text/plain": [
       "['food1', 'food2', 'food3', 'food4', 'food5', 'food6', 'food7']"
      ]
     },
     "execution_count": 46,
     "metadata": {},
     "output_type": "execute_result"
    }
   ],
   "source": [
    "grocery_list"
   ]
  },
  {
   "cell_type": "code",
   "execution_count": 47,
   "id": "bearing-serial",
   "metadata": {},
   "outputs": [
    {
     "data": {
      "text/plain": [
       "['y',\n",
       " 'u',\n",
       " 'm',\n",
       " 'm',\n",
       " 'y',\n",
       " ' ',\n",
       " 'f',\n",
       " 'o',\n",
       " 'o',\n",
       " 'd',\n",
       " 'f',\n",
       " 'o',\n",
       " 'o',\n",
       " 'd',\n",
       " 'f',\n",
       " 'o',\n",
       " 'o',\n",
       " 'd']"
      ]
     },
     "execution_count": 47,
     "metadata": {},
     "output_type": "execute_result"
    }
   ],
   "source": [
    "gorcery_list"
   ]
  },
  {
   "cell_type": "code",
   "execution_count": 48,
   "id": "threaded-debut",
   "metadata": {},
   "outputs": [
    {
     "name": "stdout",
     "output_type": "stream",
     "text": [
      "22\n",
      "10\n",
      "30\n",
      "45\n",
      "54\n",
      "60\n",
      "56\n"
     ]
    }
   ],
   "source": [
    "# brista at Starbucks gets tips in 1 week.\n",
    "\n",
    "cash_tips = [22, 10, 30, 45, 54, 60, 56]\n",
    "\n",
    "for tip in cash_tips:\n",
    "    print(tip)"
   ]
  },
  {
   "cell_type": "code",
   "execution_count": 49,
   "id": "exceptional-frame",
   "metadata": {},
   "outputs": [],
   "source": [
    "# we want to find out data about our weekly tips.\n",
    "\n",
    "count = 0               # how many tips did we get?\n",
    "total = 0               # the total amount of tips?\n",
    "average = 0             # what's the average tip amount?\n",
    "minimum = 0             # what's the biggest tip?\n",
    "maximum = 0             # what's the smallest? "
   ]
  },
  {
   "cell_type": "code",
   "execution_count": 51,
   "id": "christian-surname",
   "metadata": {},
   "outputs": [],
   "source": [
    "for tip in cash_tips:\n",
    "    count += 1                     # same as count = count + 1, incrementing by 1. \n",
    "    total += tip                   # total = 0 + 22 = 22, total = 22 + 10\n",
    "    \n",
    "    # calculate the max tip amount\n",
    "    if tip > maximum:             # maximum was = 0, when the loop starts tip = 22. \n",
    "        maximum = tip             # 22 > 0, so maxium is set to 22. in the second time loop tip is set to 10. 10 is not greater than 22 \n",
    "    \n",
    "    # calculate the minimum tip (this code is not triggered dur to logical error)\n",
    "    #if tip < minimum:            #minimum begins at 0. first loop tip = 22. 22 is not less than zero. so if-doesn't trigger\n",
    "        #minimum = tip          \n",
    "    if minimum == 0:             # minimum begins with 0. this code triggers. tip = 22 \n",
    "        minimum = tip            # sets minimum = 22.\n",
    "    elif tip < minimum:          # 22 < 22. not true. doesn't execute in first loop. \n",
    "        minimum = tip\n",
    "                                 # tip = 10, minimum = 22\n",
    "                                 # if minimum ==0, doesn't execute \n",
    "                                 # 10 < 22, minimum = 10, and this continues for each loop. \n",
    "    \n",
    "    # calculate average\n",
    "    average = round(total / count, 2)"
   ]
  },
  {
   "cell_type": "code",
   "execution_count": 53,
   "id": "mysterious-berlin",
   "metadata": {},
   "outputs": [
    {
     "name": "stdout",
     "output_type": "stream",
     "text": [
      "----------Summary Statistics----------\n",
      "Number of tips paid: 7\n",
      "Total Tips: 277\n",
      "Daily Average: 39.57\n",
      "Least Amount of Tips: 10\n",
      "Highest Tip Paid: 60\n"
     ]
    }
   ],
   "source": [
    "print(\"----------Summary Statistics----------\")\n",
    "print(f\"Number of tips paid: {count}\")\n",
    "print(f\"Total Tips: {total}\")\n",
    "print(f\"Daily Average: {average}\")\n",
    "print(f\"Least Amount of Tips: {minimum}\")\n",
    "print(f\"Highest Tip Paid: {maximum}\")"
   ]
  },
  {
   "cell_type": "code",
   "execution_count": null,
   "id": "athletic-damages",
   "metadata": {},
   "outputs": [],
   "source": []
  }
 ],
 "metadata": {
  "kernelspec": {
   "display_name": "Python 3",
   "language": "python",
   "name": "python3"
  },
  "language_info": {
   "codemirror_mode": {
    "name": "ipython",
    "version": 3
   },
   "file_extension": ".py",
   "mimetype": "text/x-python",
   "name": "python",
   "nbconvert_exporter": "python",
   "pygments_lexer": "ipython3",
   "version": "3.9.1"
  }
 },
 "nbformat": 4,
 "nbformat_minor": 5
}
