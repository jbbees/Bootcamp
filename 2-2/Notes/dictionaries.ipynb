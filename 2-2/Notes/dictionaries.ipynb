{
 "cells": [
  {
   "cell_type": "code",
   "execution_count": 3,
   "id": "clean-linux",
   "metadata": {},
   "outputs": [],
   "source": [
    "top_traders = {\n",
    "    'january': 'Karen',\n",
    "    'february': 'Harold',\n",
    "    'march': 'Sam',\n",
    "}"
   ]
  },
  {
   "cell_type": "code",
   "execution_count": 4,
   "id": "historic-assumption",
   "metadata": {},
   "outputs": [
    {
     "name": "stdout",
     "output_type": "stream",
     "text": [
      "{'january': 'Karen', 'february': 'Harold', 'march': 'Sam'}\n"
     ]
    }
   ],
   "source": [
    "print(top_traders)"
   ]
  },
  {
   "cell_type": "code",
   "execution_count": 5,
   "id": "saved-polymer",
   "metadata": {},
   "outputs": [],
   "source": [
    "trading_pnl = {\n",
    "    \"title\": \"Trading Log\",\n",
    "    \"03-18-2019\": -224,\n",
    "    \"03-19-2019\": 352,\n",
    "    \"03-20-2019\": 252,\n",
    "    \"03-21-2019\": 354,\n",
    "    \"03-22-2019\": -544,\n",
    "    \"03-23-2019\": -650,\n",
    "    \"03-24-2019\": 56,\n",
    "    \"03-25-2019\": 123,\n",
    "    \"03-26-2019\": -43,\n",
    "    \"03-27-2019\": 254,\n",
    "    \"03-28-2019\": 325,\n",
    "    \"03-29-2019\": -123,\n",
    "    \"03-30-2019\": 47,\n",
    "    \"03-31-2019\": 321,\n",
    "    \"04-01-2019\": 123,\n",
    "    \"04-02-2019\": 133,\n",
    "    \"04-03-2019\": -151,\n",
    "    \"04-04-2019\": 613,\n",
    "    \"04-05-2019\": 232,\n",
    "    \"04-06-2019\": -311\n",
    "}"
   ]
  },
  {
   "cell_type": "code",
   "execution_count": 6,
   "id": "clinical-quantum",
   "metadata": {},
   "outputs": [
    {
     "name": "stdout",
     "output_type": "stream",
     "text": [
      "{'title': 'Trading Log', '03-18-2019': -224, '03-19-2019': 352, '03-20-2019': 252, '03-21-2019': 354, '03-22-2019': -544, '03-23-2019': -650, '03-24-2019': 56, '03-25-2019': 123, '03-26-2019': -43, '03-27-2019': 254, '03-28-2019': 325, '03-29-2019': -123, '03-30-2019': 47, '03-31-2019': 321, '04-01-2019': 123, '04-02-2019': 133, '04-03-2019': -151, '04-04-2019': 613, '04-05-2019': 232, '04-06-2019': -311}\n"
     ]
    }
   ],
   "source": [
    "print(trading_pnl)"
   ]
  },
  {
   "cell_type": "code",
   "execution_count": 7,
   "id": "baking-annotation",
   "metadata": {},
   "outputs": [
    {
     "name": "stdout",
     "output_type": "stream",
     "text": [
      "252\n"
     ]
    }
   ],
   "source": [
    "print(trading_pnl['03-20-2019'])"
   ]
  },
  {
   "cell_type": "code",
   "execution_count": 8,
   "id": "incredible-gather",
   "metadata": {},
   "outputs": [
    {
     "name": "stdout",
     "output_type": "stream",
     "text": [
      "Trading volume on March 20th: 252\n"
     ]
    }
   ],
   "source": [
    "print(f\"Trading volume on March 20th: {trading_pnl['03-20-2019']}\")"
   ]
  },
  {
   "cell_type": "code",
   "execution_count": 9,
   "id": "brown-adrian",
   "metadata": {},
   "outputs": [
    {
     "data": {
      "text/plain": [
       "{'title': 'Trading Log',\n",
       " '03-18-2019': -224,\n",
       " '03-19-2019': 352,\n",
       " '03-20-2019': 252,\n",
       " '03-21-2019': 354,\n",
       " '03-22-2019': -544,\n",
       " '03-23-2019': -650,\n",
       " '03-24-2019': 56,\n",
       " '03-25-2019': 123,\n",
       " '03-26-2019': -43,\n",
       " '03-27-2019': 254,\n",
       " '03-28-2019': 325,\n",
       " '03-29-2019': -123,\n",
       " '03-30-2019': 47,\n",
       " '03-31-2019': 321,\n",
       " '04-01-2019': 123,\n",
       " '04-02-2019': 133,\n",
       " '04-03-2019': -151,\n",
       " '04-04-2019': 613,\n",
       " '04-05-2019': 232}"
      ]
     },
     "execution_count": 9,
     "metadata": {},
     "output_type": "execute_result"
    }
   ],
   "source": [
    "# delete items in dictionary. use del command\n",
    "\n",
    "del trading_pnl['04-06-2019']\n",
    "trading_pnl"
   ]
  },
  {
   "cell_type": "code",
   "execution_count": 11,
   "id": "interstate-demographic",
   "metadata": {},
   "outputs": [],
   "source": [
    "# add new items to dicitonary\n",
    "# you put the key in the [] and = value.\n",
    "\n",
    "trading_pnl['04-06-2019'] = 300 "
   ]
  },
  {
   "cell_type": "code",
   "execution_count": 12,
   "id": "prepared-lloyd",
   "metadata": {},
   "outputs": [],
   "source": [
    "# update an item in the dictionary. \n",
    "\n",
    "trading_pnl['04-06-2019'] = 211                   #same as adding new items but it won't add a duplicate 4-6-2019"
   ]
  },
  {
   "cell_type": "code",
   "execution_count": 13,
   "id": "alive-commander",
   "metadata": {},
   "outputs": [
    {
     "name": "stdout",
     "output_type": "stream",
     "text": [
      "title\n",
      "03-18-2019\n",
      "03-19-2019\n",
      "03-20-2019\n",
      "03-21-2019\n",
      "03-22-2019\n",
      "03-23-2019\n",
      "03-24-2019\n",
      "03-25-2019\n",
      "03-26-2019\n",
      "03-27-2019\n",
      "03-28-2019\n",
      "03-29-2019\n",
      "03-30-2019\n",
      "03-31-2019\n",
      "04-01-2019\n",
      "04-02-2019\n",
      "04-03-2019\n",
      "04-04-2019\n",
      "04-05-2019\n",
      "04-06-2019\n"
     ]
    }
   ],
   "source": [
    "#looping through dictionary.\n",
    "# looping only gives you the key. \n",
    "\n",
    "for key in trading_pnl:\n",
    "    print(key)"
   ]
  },
  {
   "cell_type": "code",
   "execution_count": 13,
   "id": "pleasant-aruba",
   "metadata": {},
   "outputs": [
    {
     "name": "stdout",
     "output_type": "stream",
     "text": [
      "title\n",
      "03-18-2019\n",
      "03-19-2019\n",
      "03-20-2019\n",
      "03-21-2019\n",
      "03-22-2019\n",
      "03-23-2019\n",
      "03-24-2019\n",
      "03-25-2019\n",
      "03-26-2019\n",
      "03-27-2019\n",
      "03-28-2019\n",
      "03-29-2019\n",
      "03-30-2019\n",
      "03-31-2019\n",
      "04-01-2019\n",
      "04-02-2019\n",
      "04-03-2019\n",
      "04-04-2019\n",
      "04-05-2019\n",
      "04-06-2019\n"
     ]
    }
   ],
   "source": [
    "#looping through dictionary.\n",
    "\n",
    "for key in trading_pnl:\n",
    "    print(trading_pnl[key])   # you need to do  a look-up on the key that is being passed with each loop."
   ]
  },
  {
   "cell_type": "code",
   "execution_count": 14,
   "id": "informal-remedy",
   "metadata": {},
   "outputs": [
    {
     "ename": "ValueError",
     "evalue": "too many values to unpack (expected 1)",
     "output_type": "error",
     "traceback": [
      "\u001b[1;31m---------------------------------------------------------------------------\u001b[0m",
      "\u001b[1;31mValueError\u001b[0m                                Traceback (most recent call last)",
      "\u001b[1;32m<ipython-input-14-51896832e97e>\u001b[0m in \u001b[0;36m<module>\u001b[1;34m\u001b[0m\n\u001b[1;32m----> 1\u001b[1;33m \u001b[1;32mfor\u001b[0m \u001b[0mkey\u001b[0m\u001b[1;33m,\u001b[0m \u001b[1;32min\u001b[0m \u001b[0mtrading_pnl\u001b[0m\u001b[1;33m.\u001b[0m\u001b[0mitems\u001b[0m\u001b[1;33m(\u001b[0m\u001b[1;33m)\u001b[0m\u001b[1;33m:\u001b[0m\u001b[1;33m\u001b[0m\u001b[1;33m\u001b[0m\u001b[0m\n\u001b[0m\u001b[0;32m      2\u001b[0m     \u001b[0mprint\u001b[0m\u001b[1;33m(\u001b[0m\u001b[1;34mf\"Key is {key}, item value is {value}\"\u001b[0m\u001b[1;33m)\u001b[0m\u001b[1;33m\u001b[0m\u001b[1;33m\u001b[0m\u001b[0m\n",
      "\u001b[1;31mValueError\u001b[0m: too many values to unpack (expected 1)"
     ]
    }
   ],
   "source": [
    "# .items() function to lookup values stored in dictionary. \n",
    "# grocery_list.index(7) or print(grocery_list[7]) to get the value stored in an index on a list. \n",
    "\n",
    "for key, in trading_pnl.items(): \n",
    "    print(f\"Key is {key}, item value is {value}\")"
   ]
  },
  {
   "cell_type": "code",
   "execution_count": 15,
   "id": "engaged-campus",
   "metadata": {},
   "outputs": [
    {
     "name": "stdout",
     "output_type": "stream",
     "text": [
      "This exists.\n"
     ]
    }
   ],
   "source": [
    "# check if a key exists in your dictionary using in() function.\n",
    "\n",
    "if \"04-03-2019\" in trading_pnl:          #is this string a key in the dictionary \n",
    "    print(\"This exists.\")"
   ]
  },
  {
   "cell_type": "code",
   "execution_count": 16,
   "id": "legal-chapel",
   "metadata": {},
   "outputs": [
    {
     "name": "stdout",
     "output_type": "stream",
     "text": [
      "{'JP Morgan Chase': 327, 'Bank of America': 302, 'Citigroup': 244, 'Wells Fargo': 273, 'Goldman Sachs': 87, 'Morgan Stanley': 72, 'U.S. Bankcorp': 83, 'TD Bank': 108, 'PNC Financial Services': 67, 'Capital One': 47, 'First Hawaiian Bank': 3, 'Ally Financial': 12, 'Wachovia': 145, 'Republic Bankcorp': 0.97, 'Police and Fire Federal Credit Union': 0.31}\n"
     ]
    }
   ],
   "source": [
    "# -*- coding: utf-8 -*-\n",
    "\"\"\"\n",
    "Student Activity: Market Capitalization.\n",
    "\n",
    "This script showcases the use of Python Dicts to determine the\n",
    "bank names associated with the corresponding market cap ranges.\n",
    "\"\"\"\n",
    "\n",
    "# Banks and Market Caps\n",
    "#-----------------------\n",
    "# JP Morgan Chase: 327\n",
    "# Bank of America: 302\n",
    "# Citigroup: 173\n",
    "# Wells Fargo: 273\n",
    "# Goldman Sachs: 87\n",
    "# Morgan Stanley: 72\n",
    "# U.S. Bancorp: 83\n",
    "# TD Bank: 108\n",
    "# PNC Financial Services: 67\n",
    "# Capital One: 47\n",
    "# FNB Corporation: 4\n",
    "# First Hawaiian Bank: 3\n",
    "# Ally Financial: 12\n",
    "# Wachovia: 145\n",
    "# Republic Bancorp: .97\n",
    "\n",
    "# @TODO: Initialize a dictionary of banks and market caps (in billions)\n",
    "\n",
    "banks_and_market_caps = {\n",
    "    'JP Morgan Chase': 327,\n",
    "    'Bank of America': 302,\n",
    "    'Citigroup': 173,\n",
    "    'Wells Fargo': 273,\n",
    "    'Goldman Sachs': 87,\n",
    "    'Morgan Stanley': 72,\n",
    "    'U.S. Bankcorp': 83,\n",
    "    'TD Bank': 108,\n",
    "    'PNC Financial Services': 67,\n",
    "    'Capital One': 47,\n",
    "    'FNB Corporation': 4,\n",
    "    'First Hawaiian Bank': 3,\n",
    "    'Ally Financial': 12,\n",
    "    'Wachovia': 145,\n",
    "    'Republic Bankcorp': .97\n",
    "    }\n",
    "\n",
    "# @TODO: Change the market cap for 'Citigroup'\n",
    "\n",
    "banks_and_market_caps['Citigroup'] = 244\n",
    "\n",
    "# @TODO: Add a new bank and market cap pair\n",
    "\n",
    "banks_and_market_caps['Police and Fire Federal Credit Union'] = .31\n",
    "\n",
    "# @TODO: Remove a bank from the dictionary\n",
    "\n",
    "del banks_and_market_caps['FNB Corporation']\n",
    "\n",
    "# @TODO: Print the modified dictionary\n",
    "\n",
    "print(banks_and_market_caps)"
   ]
  },
  {
   "cell_type": "code",
   "execution_count": null,
   "id": "artificial-lawyer",
   "metadata": {},
   "outputs": [],
   "source": []
  }
 ],
 "metadata": {
  "kernelspec": {
   "display_name": "Python 3",
   "language": "python",
   "name": "python3"
  },
  "language_info": {
   "codemirror_mode": {
    "name": "ipython",
    "version": 3
   },
   "file_extension": ".py",
   "mimetype": "text/x-python",
   "name": "python",
   "nbconvert_exporter": "python",
   "pygments_lexer": "ipython3",
   "version": "3.9.1"
  }
 },
 "nbformat": 4,
 "nbformat_minor": 5
}
