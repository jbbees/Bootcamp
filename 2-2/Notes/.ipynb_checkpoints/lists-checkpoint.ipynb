{
 "cells": [
  {
   "cell_type": "code",
   "execution_count": 2,
   "id": "personalized-classroom",
   "metadata": {},
   "outputs": [
    {
     "name": "stdout",
     "output_type": "stream",
     "text": [
      "U\n",
      "n\n",
      "i\n",
      "v\n",
      "e\n",
      "r\n",
      "s\n",
      "i\n",
      "t\n",
      "y\n",
      " \n",
      "o\n",
      "f\n",
      " \n",
      "W\n",
      "a\n",
      "s\n",
      "h\n",
      "i\n",
      "n\n",
      "g\n",
      "t\n",
      "o\n",
      "n\n"
     ]
    }
   ],
   "source": [
    "my_string = \"University of Washington\"\n",
    "for i in my_string:\n",
    "    print(i)"
   ]
  },
  {
   "cell_type": "code",
   "execution_count": 3,
   "id": "fitting-lobby",
   "metadata": {},
   "outputs": [
    {
     "ename": "NameError",
     "evalue": "name 'x' is not defined",
     "output_type": "error",
     "traceback": [
      "\u001b[1;31m---------------------------------------------------------------------------\u001b[0m",
      "\u001b[1;31mNameError\u001b[0m                                 Traceback (most recent call last)",
      "\u001b[1;32m<ipython-input-3-c3c485d297b6>\u001b[0m in \u001b[0;36m<module>\u001b[1;34m\u001b[0m\n\u001b[0;32m      7\u001b[0m         \u001b[1;32mif\u001b[0m \u001b[0mletter\u001b[0m \u001b[1;33m==\u001b[0m \u001b[1;34m' '\u001b[0m\u001b[1;33m:\u001b[0m                             \u001b[1;31m# if the position in the cheer is a space, let's skip and continue the loop.\u001b[0m\u001b[1;33m\u001b[0m\u001b[1;33m\u001b[0m\u001b[0m\n\u001b[0;32m      8\u001b[0m             \u001b[1;32mcontinue\u001b[0m\u001b[1;33m\u001b[0m\u001b[1;33m\u001b[0m\u001b[0m\n\u001b[1;32m----> 9\u001b[1;33m         \u001b[0mprint\u001b[0m\u001b[1;33m(\u001b[0m\u001b[1;34mf\"Give me a {x}\"\u001b[0m\u001b[1;33m)\u001b[0m\u001b[1;33m\u001b[0m\u001b[1;33m\u001b[0m\u001b[0m\n\u001b[0m\u001b[0;32m     10\u001b[0m     \u001b[0mprint\u001b[0m\u001b[1;33m(\u001b[0m\u001b[1;34m\"What's that spell?\"\u001b[0m\u001b[1;33m)\u001b[0m\u001b[1;33m\u001b[0m\u001b[1;33m\u001b[0m\u001b[0m\n\u001b[0;32m     11\u001b[0m     \u001b[0mprint\u001b[0m\u001b[1;33m(\u001b[0m\u001b[1;34mf\"{cheer}\"\u001b[0m\u001b[1;33m)\u001b[0m\u001b[1;33m\u001b[0m\u001b[1;33m\u001b[0m\u001b[0m\n",
      "\u001b[1;31mNameError\u001b[0m: name 'x' is not defined"
     ]
    }
   ],
   "source": [
    "# make a list\n",
    "\n",
    "cheers = ['University of Washington', 'Python', 'Seahawks']\n",
    "\n",
    "for cheer in cheers:                             #loop through the list variable cheers, store each iteration in cheer. this loops through 3 cheers. \n",
    "    for letter in cheer:                              # x is each letter in the grabbed cheer from the list. \n",
    "        if letter == ' ':                             # if the position in the cheer is a space, let's skip and continue the loop.\n",
    "            continue\n",
    "        print(f\"Give me a {x}\")\n",
    "    print(\"What's that spell?\")\n",
    "    print(f\"{cheer}\")"
   ]
  },
  {
   "cell_type": "code",
   "execution_count": 4,
   "id": "overhead-calculator",
   "metadata": {},
   "outputs": [
    {
     "name": "stdout",
     "output_type": "stream",
     "text": [
      "red\n"
     ]
    }
   ],
   "source": [
    "# print out the position of lists. \n",
    "\n",
    "color_of_hats = ['green', 'blue', 'red', 'purple']     # 0 - green, 1 - blue, 2 - red, 3 - purple\n",
    "\n",
    "print(color_of_hats[2])  # prints red"
   ]
  },
  {
   "cell_type": "code",
   "execution_count": 5,
   "id": "indonesian-lexington",
   "metadata": {},
   "outputs": [
    {
     "ename": "IndexError",
     "evalue": "list index out of range",
     "output_type": "error",
     "traceback": [
      "\u001b[1;31m---------------------------------------------------------------------------\u001b[0m",
      "\u001b[1;31mIndexError\u001b[0m                                Traceback (most recent call last)",
      "\u001b[1;32m<ipython-input-5-44dda56d984f>\u001b[0m in \u001b[0;36m<module>\u001b[1;34m\u001b[0m\n\u001b[0;32m      3\u001b[0m \u001b[0mcolor_of_hats\u001b[0m \u001b[1;33m=\u001b[0m \u001b[1;33m[\u001b[0m\u001b[1;34m'green'\u001b[0m\u001b[1;33m,\u001b[0m \u001b[1;34m'blue'\u001b[0m\u001b[1;33m,\u001b[0m \u001b[1;34m'red'\u001b[0m\u001b[1;33m,\u001b[0m \u001b[1;34m'purple'\u001b[0m\u001b[1;33m]\u001b[0m     \u001b[1;31m# 0 - green, 1 - blue, 2 - red, 3 - purple\u001b[0m\u001b[1;33m\u001b[0m\u001b[1;33m\u001b[0m\u001b[0m\n\u001b[0;32m      4\u001b[0m \u001b[1;33m\u001b[0m\u001b[0m\n\u001b[1;32m----> 5\u001b[1;33m \u001b[0mprint\u001b[0m\u001b[1;33m(\u001b[0m\u001b[0mcolor_of_hats\u001b[0m\u001b[1;33m[\u001b[0m\u001b[1;36m5\u001b[0m\u001b[1;33m]\u001b[0m\u001b[1;33m)\u001b[0m  \u001b[1;31m# code fails. no position 5\u001b[0m\u001b[1;33m\u001b[0m\u001b[1;33m\u001b[0m\u001b[0m\n\u001b[0m",
      "\u001b[1;31mIndexError\u001b[0m: list index out of range"
     ]
    }
   ],
   "source": [
    "# print out a position that doesn't exist.\n",
    "\n",
    "color_of_hats = ['green', 'blue', 'red', 'purple']     # 0 - green, 1 - blue, 2 - red, 3 - purple\n",
    "\n",
    "print(color_of_hats[5])  # code fails. no position 5"
   ]
  },
  {
   "cell_type": "code",
   "execution_count": 9,
   "id": "amateur-license",
   "metadata": {},
   "outputs": [
    {
     "name": "stdout",
     "output_type": "stream",
     "text": [
      "purple\n"
     ]
    }
   ],
   "source": [
    "# print out the last element of list\n",
    "\n",
    "color_of_hats = ['green', 'blue', 'red', 'purple']     # 0 - green, 1 - blue, 2 - red, 3 - purple\n",
    "\n",
    "#print(color_of_hats[4])  # code fails. no position 4. list starts at 0.\n",
    "\n",
    "print(color_hats[-1]) #this will give you last thing in list. purple."
   ]
  },
  {
   "cell_type": "code",
   "execution_count": 10,
   "id": "short-championship",
   "metadata": {},
   "outputs": [
    {
     "name": "stdout",
     "output_type": "stream",
     "text": [
      "4\n"
     ]
    }
   ],
   "source": [
    "# print out length list using len() function \n",
    "\n",
    "color_of_hats = ['green', 'blue', 'red', 'purple']     # 0 - green, 1 - blue, 2 - red, 3 - purple\n",
    "\n",
    "print(len(color_of_hats))"
   ]
  },
  {
   "cell_type": "code",
   "execution_count": 11,
   "id": "accepting-newfoundland",
   "metadata": {},
   "outputs": [
    {
     "name": "stdout",
     "output_type": "stream",
     "text": [
      "range(0, 4)\n"
     ]
    }
   ],
   "source": [
    "# list indexes using range() function \n",
    "\n",
    "color_of_hats = ['green', 'blue', 'red', 'purple']     # 0 - green, 1 - blue, 2 - red, 3 - purple\n",
    "\n",
    "number_of_hats = len(color_of_hats)    # since list length is 4. stores value 4 for number_of_hats\n",
    "\n",
    "list_indexes = range(number_of_hats)   # since value is 4, range is (0, 4) tuple - 0 1 2 3 \n",
    "\n",
    "print(list_indexes)\n",
    "\n",
    "#print(color_of_hats(number_of_hats))   # this fails. because no position 4. basically print(list[4])\n",
    "\n"
   ]
  },
  {
   "cell_type": "code",
   "execution_count": 13,
   "id": "forward-cooler",
   "metadata": {},
   "outputs": [
    {
     "name": "stdout",
     "output_type": "stream",
     "text": [
      "0\n",
      "green\n",
      "1\n",
      "blue\n",
      "2\n",
      "red\n",
      "3\n",
      "purple\n"
     ]
    }
   ],
   "source": [
    "# use a for-loop\n",
    "# the range function() is useful for accessing your lists. \n",
    "\n",
    "for index in list_indexes:\n",
    "    print(index)\n",
    "    print(color_of_hats[index])  #print a lookup on index value with each loop. "
   ]
  },
  {
   "cell_type": "code",
   "execution_count": 6,
   "id": "according-spare",
   "metadata": {},
   "outputs": [
    {
     "name": "stdout",
     "output_type": "stream",
     "text": [
      "chocolate\n",
      "vanilla\n",
      "10\n",
      "tacos\n",
      "mountains\n",
      "10\n",
      "All of you\n",
      "tax refunds\n"
     ]
    }
   ],
   "source": [
    "a_few_of_my_favorite_things = ['chocolate', 'vanilla', 10, 'tacos', 'mountains', '10', 'All of you', 'tax refunds']  # heterogeneous list\n",
    "\n",
    "# loop to print the referenced code contained in a position in the list with each loop through the list.\n",
    "\n",
    "for index in range(len(a_few_of_my_favorite_things)):    # for index in range(0, 4)\n",
    "    print(a_few_of_my_favorite_things[index])            # print(list[index])"
   ]
  },
  {
   "cell_type": "code",
   "execution_count": 7,
   "id": "automated-northwest",
   "metadata": {},
   "outputs": [
    {
     "name": "stdout",
     "output_type": "stream",
     "text": [
      "['chocolate', 'vanilla', 10, 'tacos', 'mountains', '10', 'All of you', 'tax refunds']\n"
     ]
    }
   ],
   "source": [
    "# print the whole list\n",
    "\n",
    "print(a_few_of_my_favorite_things)"
   ]
  },
  {
   "cell_type": "code",
   "execution_count": 8,
   "id": "controlled-behalf",
   "metadata": {},
   "outputs": [
    {
     "data": {
      "text/plain": [
       "['mountains']"
      ]
     },
     "execution_count": 8,
     "metadata": {},
     "output_type": "execute_result"
    }
   ],
   "source": [
    "# print references in a list\n",
    "\n",
    "a_few_of_my_favorite_things[4:5]   # prints 4th position, not the 4th item. stops and omits 5th item."
   ]
  },
  {
   "cell_type": "code",
   "execution_count": 20,
   "id": "earlier-seafood",
   "metadata": {},
   "outputs": [
    {
     "ename": "IndexError",
     "evalue": "string index out of range",
     "output_type": "error",
     "traceback": [
      "\u001b[1;31m---------------------------------------------------------------------------\u001b[0m",
      "\u001b[1;31mIndexError\u001b[0m                                Traceback (most recent call last)",
      "\u001b[1;32m<ipython-input-20-b8ef55cecb29>\u001b[0m in \u001b[0;36m<module>\u001b[1;34m\u001b[0m\n\u001b[0;32m      1\u001b[0m \u001b[0mtext\u001b[0m \u001b[1;33m=\u001b[0m \u001b[1;34m\"Academics\"\u001b[0m\u001b[1;33m\u001b[0m\u001b[1;33m\u001b[0m\u001b[0m\n\u001b[1;32m----> 2\u001b[1;33m \u001b[0mprint\u001b[0m\u001b[1;33m(\u001b[0m\u001b[0mtext\u001b[0m\u001b[1;33m[\u001b[0m\u001b[1;36m10\u001b[0m\u001b[1;33m]\u001b[0m\u001b[1;33m)\u001b[0m\u001b[1;33m\u001b[0m\u001b[1;33m\u001b[0m\u001b[0m\n\u001b[0m",
      "\u001b[1;31mIndexError\u001b[0m: string index out of range"
     ]
    }
   ],
   "source": [
    "text = \"Academics\"\n",
    "print(text[10])"
   ]
  },
  {
   "cell_type": "code",
   "execution_count": 23,
   "id": "several-sewing",
   "metadata": {},
   "outputs": [
    {
     "name": "stdout",
     "output_type": "stream",
     "text": [
      "['chocolate', 'vanilla', 10, 'tacos', 'mountains', '10', 'All of you']\n"
     ]
    }
   ],
   "source": [
    "print(a_few_of_my_favorite_things[ : 7])   # gives me everything in list up to element 7"
   ]
  },
  {
   "cell_type": "code",
   "execution_count": 24,
   "id": "seeing-transmission",
   "metadata": {},
   "outputs": [],
   "source": [
    "# .append() function for adding to lists\n",
    "\n",
    "a_few_of_my_favorite_things.append('lamp')"
   ]
  },
  {
   "cell_type": "code",
   "execution_count": 25,
   "id": "hindu-eagle",
   "metadata": {},
   "outputs": [],
   "source": [
    "# create a new list and store another list value within it.\n",
    "\n",
    "new_list = [a_few_of_my_favorite_things[0:5], \"Ned Flanders\", a_few_of_my_favorite_things[7]]  # this only adds parts of list 0-5]"
   ]
  },
  {
   "cell_type": "code",
   "execution_count": 26,
   "id": "acquired-mandate",
   "metadata": {},
   "outputs": [
    {
     "data": {
      "text/plain": [
       "[['chocolate', 'vanilla', 10, 'tacos', 'mountains'],\n",
       " 'Ned Flanders',\n",
       " 'tax refunds']"
      ]
     },
     "execution_count": 26,
     "metadata": {},
     "output_type": "execute_result"
    }
   ],
   "source": [
    "new_list"
   ]
  },
  {
   "cell_type": "code",
   "execution_count": 27,
   "id": "intended-funds",
   "metadata": {},
   "outputs": [
    {
     "data": {
      "text/plain": [
       "['chocolate',\n",
       " 'vanilla',\n",
       " 10,\n",
       " 'tacos',\n",
       " 'mountains',\n",
       " '10',\n",
       " 'All of you',\n",
       " 'tax refunds',\n",
       " 'lamp']"
      ]
     },
     "execution_count": 27,
     "metadata": {},
     "output_type": "execute_result"
    }
   ],
   "source": [
    "a_few_of_my_favorite_things"
   ]
  },
  {
   "cell_type": "code",
   "execution_count": 28,
   "id": "julian-insulin",
   "metadata": {},
   "outputs": [
    {
     "data": {
      "text/plain": [
       "3"
      ]
     },
     "execution_count": 28,
     "metadata": {},
     "output_type": "execute_result"
    }
   ],
   "source": [
    "# index() function on lists\n",
    "\n",
    "a_few_of_my_favorite_things.index('tacos')  # this will tell us what indexed position tacos is in list. "
   ]
  },
  {
   "cell_type": "code",
   "execution_count": 30,
   "id": "nearby-damage",
   "metadata": {},
   "outputs": [
    {
     "data": {
      "text/plain": [
       "3"
      ]
     },
     "execution_count": 30,
     "metadata": {},
     "output_type": "execute_result"
    }
   ],
   "source": [
    "# lists allow duplicates. if 2 elements the same. what does index() return?\n",
    "\n",
    "a_few_of_my_favorite_things.append('tacos')\n",
    "a_few_of_my_favorite_things.index('tacos')   # index returns 3. the first tacos element. index() will grab only the first available from left-to-right"
   ]
  },
  {
   "cell_type": "code",
   "execution_count": 31,
   "id": "likely-weapon",
   "metadata": {},
   "outputs": [],
   "source": [
    "# .remove() function.\n",
    "\n",
    "a_few_of_my_favorite_things.remove('tacos')"
   ]
  },
  {
   "cell_type": "code",
   "execution_count": 30,
   "id": "honest-cabinet",
   "metadata": {},
   "outputs": [
    {
     "data": {
      "text/plain": [
       "3"
      ]
     },
     "execution_count": 30,
     "metadata": {},
     "output_type": "execute_result"
    }
   ],
   "source": [
    "# pop() function. pops the index out of the list. \n",
    "\n",
    "a_few_of_my_favorite_things.pop(9)"
   ]
  },
  {
   "cell_type": "code",
   "execution_count": 32,
   "id": "seeing-start",
   "metadata": {},
   "outputs": [
    {
     "data": {
      "text/plain": [
       "['chocolate',\n",
       " 'vanilla',\n",
       " 10,\n",
       " 'mountains',\n",
       " '10',\n",
       " 'All of you',\n",
       " 'tax refunds',\n",
       " 'lamp',\n",
       " 'tacos',\n",
       " 'tacos']"
      ]
     },
     "execution_count": 32,
     "metadata": {},
     "output_type": "execute_result"
    }
   ],
   "source": [
    "a_few_of_my_favorite_things"
   ]
  },
  {
   "cell_type": "code",
   "execution_count": 33,
   "id": "relative-dealer",
   "metadata": {},
   "outputs": [
    {
     "ename": "NameError",
     "evalue": "name 'vanilla' is not defined",
     "output_type": "error",
     "traceback": [
      "\u001b[1;31m---------------------------------------------------------------------------\u001b[0m",
      "\u001b[1;31mNameError\u001b[0m                                 Traceback (most recent call last)",
      "\u001b[1;32m<ipython-input-33-d3eac574e436>\u001b[0m in \u001b[0;36m<module>\u001b[1;34m\u001b[0m\n\u001b[1;32m----> 1\u001b[1;33m \u001b[0ma_few_of_my_favorite_things\u001b[0m\u001b[1;33m(\u001b[0m\u001b[0mvanilla\u001b[0m\u001b[1;33m)\u001b[0m\u001b[1;33m\u001b[0m\u001b[1;33m\u001b[0m\u001b[0m\n\u001b[0m",
      "\u001b[1;31mNameError\u001b[0m: name 'vanilla' is not defined"
     ]
    }
   ],
   "source": [
    "a_few_of_my_favorite_things('vanilla')"
   ]
  },
  {
   "cell_type": "code",
   "execution_count": 35,
   "id": "encouraging-explosion",
   "metadata": {},
   "outputs": [
    {
     "data": {
      "text/plain": [
       "['austin', 'kelly', 'john', 'ausitn', 'kelly']"
      ]
     },
     "execution_count": 35,
     "metadata": {},
     "output_type": "execute_result"
    }
   ],
   "source": [
    "list = ['john', 'austin', 'kelly', 'john', 'ausitn', 'kelly']\n",
    "list.remove('john')\n",
    "list"
   ]
  },
  {
   "cell_type": "code",
   "execution_count": 1,
   "id": "illegal-section",
   "metadata": {},
   "outputs": [
    {
     "ename": "NameError",
     "evalue": "name 'a_few_of_my_favorite_things' is not defined",
     "output_type": "error",
     "traceback": [
      "\u001b[1;31m---------------------------------------------------------------------------\u001b[0m",
      "\u001b[1;31mNameError\u001b[0m                                 Traceback (most recent call last)",
      "\u001b[1;32m<ipython-input-1-02c7c03c25e3>\u001b[0m in \u001b[0;36m<module>\u001b[1;34m\u001b[0m\n\u001b[1;32m----> 1\u001b[1;33m \u001b[0mprint\u001b[0m\u001b[1;33m(\u001b[0m\u001b[0ma_few_of_my_favorite_things\u001b[0m\u001b[1;33m[\u001b[0m\u001b[1;36m0\u001b[0m\u001b[1;33m]\u001b[0m\u001b[1;33m)\u001b[0m\u001b[1;33m\u001b[0m\u001b[1;33m\u001b[0m\u001b[0m\n\u001b[0m",
      "\u001b[1;31mNameError\u001b[0m: name 'a_few_of_my_favorite_things' is not defined"
     ]
    }
   ],
   "source": [
    "print(a_few_of_my_favorite_things[0])"
   ]
  },
  {
   "cell_type": "code",
   "execution_count": 13,
   "id": "patent-might",
   "metadata": {},
   "outputs": [
    {
     "ename": "NameError",
     "evalue": "name 'grocery_list' is not defined",
     "output_type": "error",
     "traceback": [
      "\u001b[1;31m---------------------------------------------------------------------------\u001b[0m",
      "\u001b[1;31mNameError\u001b[0m                                 Traceback (most recent call last)",
      "\u001b[1;32m<ipython-input-13-04445ffe66f0>\u001b[0m in \u001b[0;36m<module>\u001b[1;34m\u001b[0m\n\u001b[0;32m      1\u001b[0m \u001b[0mgorcery_list\u001b[0m \u001b[1;33m=\u001b[0m \u001b[1;33m[\u001b[0m\u001b[1;34m'water'\u001b[0m\u001b[1;33m,\u001b[0m \u001b[1;34m'butter'\u001b[0m\u001b[1;33m,\u001b[0m \u001b[1;34m'eggs'\u001b[0m\u001b[1;33m,\u001b[0m \u001b[1;34m'apples'\u001b[0m\u001b[1;33m,\u001b[0m \u001b[1;34m'cinnamon'\u001b[0m\u001b[1;33m,\u001b[0m \u001b[1;34m'sugar'\u001b[0m\u001b[1;33m,\u001b[0m \u001b[1;34m'milk'\u001b[0m\u001b[1;33m]\u001b[0m\u001b[1;33m\u001b[0m\u001b[1;33m\u001b[0m\u001b[0m\n\u001b[1;32m----> 2\u001b[1;33m \u001b[0mprint\u001b[0m\u001b[1;33m(\u001b[0m\u001b[0mgrocery_list\u001b[0m\u001b[1;33m)\u001b[0m\u001b[1;33m\u001b[0m\u001b[1;33m\u001b[0m\u001b[0m\n\u001b[0m",
      "\u001b[1;31mNameError\u001b[0m: name 'grocery_list' is not defined"
     ]
    }
   ],
   "source": [
    "gorcery_list = ['water', 'butter', 'eggs', 'apples', 'cinnamon', 'sugar', 'milk'] \n",
    "print(grocery_list)"
   ]
  },
  {
   "cell_type": "code",
   "execution_count": 10,
   "id": "insured-providence",
   "metadata": {},
   "outputs": [
    {
     "ename": "NameError",
     "evalue": "name 'grocery_list' is not defined",
     "output_type": "error",
     "traceback": [
      "\u001b[1;31m---------------------------------------------------------------------------\u001b[0m",
      "\u001b[1;31mNameError\u001b[0m                                 Traceback (most recent call last)",
      "\u001b[1;32m<ipython-input-10-babacdc8a29a>\u001b[0m in \u001b[0;36m<module>\u001b[1;34m\u001b[0m\n\u001b[1;32m----> 1\u001b[1;33m \u001b[0mgrocery_list\u001b[0m\u001b[1;33m\u001b[0m\u001b[1;33m\u001b[0m\u001b[0m\n\u001b[0m",
      "\u001b[1;31mNameError\u001b[0m: name 'grocery_list' is not defined"
     ]
    }
   ],
   "source": [
    "grocery_list"
   ]
  },
  {
   "cell_type": "code",
   "execution_count": null,
   "id": "disciplinary-forest",
   "metadata": {},
   "outputs": [],
   "source": []
  }
 ],
 "metadata": {
  "kernelspec": {
   "display_name": "Python 3",
   "language": "python",
   "name": "python3"
  },
  "language_info": {
   "codemirror_mode": {
    "name": "ipython",
    "version": 3
   },
   "file_extension": ".py",
   "mimetype": "text/x-python",
   "name": "python",
   "nbconvert_exporter": "python",
   "pygments_lexer": "ipython3",
   "version": "3.9.1"
  }
 },
 "nbformat": 4,
 "nbformat_minor": 5
}
