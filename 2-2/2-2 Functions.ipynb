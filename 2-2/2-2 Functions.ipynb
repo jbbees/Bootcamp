{
 "cells": [
  {
   "cell_type": "code",
   "execution_count": null,
   "id": "medieval-kennedy",
   "metadata": {},
   "outputs": [],
   "source": [
    "# def statement \n",
    "# functions are re-usable code. puts long code into a 1 callable statement \n",
    "\n",
    "def calculate_market_cap(market_pice, number_of_shares):\n",
    "    cap = market_price * number_of_shares\n",
    "    \n",
    "    return cap\n",
    "\n",
    "market_price = 76.06\n",
    "number_of_shares = 1243600000\n",
    "\n",
    "market_cap = calculate_market_cap(market_price, number_of_shares)                           # call line. "
   ]
  },
  {
   "cell_type": "code",
   "execution_count": null,
   "id": "anticipated-solomon",
   "metadata": {},
   "outputs": [],
   "source": [
    "def cool_function_name(argument1, argument2, argument3):                          # def statement with function name(argument passed in parentheses):  must have colon : at end.\n",
    "    '''  documentation stirng about what function does'''                         # functions don't need to have set arguments to accept. These are called \n",
    "    variable = <code>                                                             # subroutines or procedures. \n",
    "    \n",
    "    return variable  # this value is returned to the call line and stored in the calling_variable.\n",
    "                     # functions automatically return control of the program back to call line once completed.\n",
    "                     # you don't have to include a return in your function, this just returns the value back to calling variable. you'll get None result.\n",
    "                     # ret\n",
    "    \n",
    "variable1 =\n",
    "variable2 =\n",
    "variable3 =\n",
    "\n",
    "calling_variable = cool_function_name(variable1, variable2, variable3)             # calling statement passing variable to defined function.\n",
    "print(calling_variable)                                                            # calling variable = function name(required # of arguments)\n",
    "                                                                                   # calling statement will pass control to function, and function \n",
    "                                                                                   # will pass control back."
   ]
  },
  {
   "cell_type": "code",
   "execution_count": null,
   "id": "chicken-grade",
   "metadata": {},
   "outputs": [],
   "source": [
    "print(f\"Market capitaliztion: {market_cap}\")"
   ]
  },
  {
   "cell_type": "code",
   "execution_count": 1,
   "id": "disturbed-generator",
   "metadata": {},
   "outputs": [],
   "source": [
    "def hello_world():\n",
    "    print(\"Hello World!\")"
   ]
  },
  {
   "cell_type": "code",
   "execution_count": 2,
   "id": "statistical-appointment",
   "metadata": {},
   "outputs": [
    {
     "name": "stdout",
     "output_type": "stream",
     "text": [
      "Hello World!\n"
     ]
    }
   ],
   "source": [
    "hello_world()  "
   ]
  },
  {
   "cell_type": "code",
   "execution_count": 5,
   "id": "given-rebecca",
   "metadata": {},
   "outputs": [
    {
     "name": "stdout",
     "output_type": "stream",
     "text": [
      "{'min': 100, 'max': 100000, 'sum': 102137, 'count': 10, 'avg': 10214}\n"
     ]
    }
   ],
   "source": [
    "# another function example.\n",
    "\n",
    "def get_list_statistics(iterable_list):\n",
    "    \n",
    "    total = 0\n",
    "    count = 0\n",
    "    minimum_value = 0\n",
    "    maximum_value = 0\n",
    "    \n",
    "    for item in iterable_list:\n",
    "        \n",
    "        total += item\n",
    "        count += 1\n",
    "        \n",
    "        if minimum_value == 0:\n",
    "            minimum_value = item\n",
    "        elif item < minimum_value:\n",
    "            minimim_value = item\n",
    "            \n",
    "        if item > maximum_value:\n",
    "            maximum_value = item \n",
    "    \n",
    "    return_value = {'min': minimum_value, 'max': maximum_value, 'sum': total, 'count': count, 'avg': round(total / count)}\n",
    "    return return_value\n",
    "\n",
    "my_list = [100, 34, 45, 700, 12, 345, 1, 0, 900, 100000]\n",
    "\n",
    "print(get_list_statistics(my_list))"
   ]
  },
  {
   "cell_type": "code",
   "execution_count": null,
   "id": "signed-mouse",
   "metadata": {},
   "outputs": [],
   "source": []
  }
 ],
 "metadata": {
  "kernelspec": {
   "display_name": "Python 3",
   "language": "python",
   "name": "python3"
  },
  "language_info": {
   "codemirror_mode": {
    "name": "ipython",
    "version": 3
   },
   "file_extension": ".py",
   "mimetype": "text/x-python",
   "name": "python",
   "nbconvert_exporter": "python",
   "pygments_lexer": "ipython3",
   "version": "3.9.1"
  }
 },
 "nbformat": 4,
 "nbformat_minor": 5
}
