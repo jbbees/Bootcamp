{
 "cells": [
  {
   "cell_type": "code",
   "execution_count": null,
   "id": "authentic-archives",
   "metadata": {},
   "outputs": [],
   "source": [
    "# dictionaries are unorders. it doesn't matter the order the items are inserted. but are heterogenous.\n",
    "# lists are ordered. it matters the order items are inserted."
   ]
  },
  {
   "cell_type": "code",
   "execution_count": null,
   "id": "peripheral-arbitration",
   "metadata": {},
   "outputs": [],
   "source": [
    "# the index in a list is a number 0 1 2 3. we looked up and looped through lists using these index numbers. \n",
    "# index in a list can be whatever you like: a number, a string, etc."
   ]
  },
  {
   "cell_type": "code",
   "execution_count": 3,
   "id": "needed-terminal",
   "metadata": {},
   "outputs": [],
   "source": [
    "# make a dict\n",
    "# define in {}\n",
    "# define key: value and comma to separate.   if sting use ' '.  dict = {'key1': 'value1', 'key2': 'value2', 'key3': 'value3'}\n",
    "\n",
    "top_traders = {\n",
    "    'January': 'Sabahat',\n",
    "    'February': 'Antonio',\n",
    "    'March': 'Sam'\n",
    "}"
   ]
  },
  {
   "cell_type": "code",
   "execution_count": 4,
   "id": "three-effort",
   "metadata": {},
   "outputs": [
    {
     "name": "stdout",
     "output_type": "stream",
     "text": [
      "{'January': 'Sabahat', 'February': 'Antonio', 'March': 'Sam'}\n"
     ]
    }
   ],
   "source": [
    "print(top_traders)"
   ]
  },
  {
   "cell_type": "code",
   "execution_count": 6,
   "id": "wanted-internship",
   "metadata": {},
   "outputs": [
    {
     "data": {
      "text/plain": [
       "{'January': 'Sabahat', 'February': 'Antonio', 'March': 'Sam'}"
      ]
     },
     "execution_count": 6,
     "metadata": {},
     "output_type": "execute_result"
    }
   ],
   "source": [
    "top_traders"
   ]
  },
  {
   "cell_type": "code",
   "execution_count": 5,
   "id": "micro-effort",
   "metadata": {},
   "outputs": [
    {
     "name": "stdout",
     "output_type": "stream",
     "text": [
      "Sabahat\n"
     ]
    }
   ],
   "source": [
    "# print out value in the index. doing an index lookup.\n",
    "# print the trader with key index January.\n",
    "# similar to lists. pass [] in print(). \n",
    "# use can put strings in []. whereas lists required a number in []. print(list[0])\n",
    "\n",
    "print(top_traders['January'])"
   ]
  },
  {
   "cell_type": "code",
   "execution_count": 11,
   "id": "close-superior",
   "metadata": {},
   "outputs": [],
   "source": [
    "# dict of trading profit and losses for days. \n",
    "# key is a string reflecting date.\n",
    "# values are numbers.\n",
    "\n",
    "trading_pnl = {\n",
    "    \"title\": \"Trading Log\",\n",
    "    \"03-18-2019\": -224,\n",
    "    \"03-19-2019\": 352,\n",
    "    \"03-20-2019\": 252,\n",
    "    \"03-21-2019\": 354,\n",
    "    \"03-22-2019\": -544,\n",
    "    \"03-23-2019\": -650,\n",
    "    \"03-24-2019\": 56,\n",
    "    \"03-25-2019\": 123,\n",
    "    \"03-26-2019\": -43,\n",
    "    \"03-27-2019\": 254,\n",
    "    \"03-28-2019\": 325,\n",
    "    \"03-29-2019\": -123,\n",
    "    \"03-30-2019\": 47,\n",
    "    \"03-31-2019\": 321,\n",
    "    \"04-01-2019\": 123,\n",
    "    \"04-02-2019\": 133,\n",
    "    \"04-03-2019\": -151,\n",
    "    \"04-04-2019\": 613,\n",
    "    \"04-05-2019\": 232,\n",
    "    \"04-06-2019\": -311\n",
    "}"
   ]
  },
  {
   "cell_type": "code",
   "execution_count": 8,
   "id": "beginning-deposit",
   "metadata": {},
   "outputs": [
    {
     "name": "stdout",
     "output_type": "stream",
     "text": [
      "{'title': 'Trading Log', '03-18-2019': -224, '03-19-2019': 352, '03-20-2019': 252, '03-21-2019': 354, '03-22-2019': -544, '03-23-2019': -650, '03-24-2019': 56, '03-25-2019': 123, '03-26-2019': -43, '03-27-2019': 254, '03-28-2019': 325, '03-29-2019': -123, '03-30-2019': 47, '03-31-2019': 321, '04-01-2019': 123, '04-02-2019': 133, '04-03-2019': -151, '04-04-2019': 613, '04-05-2019': 232, '04-06-2019': -311}\n"
     ]
    }
   ],
   "source": [
    "print(trading_pnl)"
   ]
  },
  {
   "cell_type": "code",
   "execution_count": 10,
   "id": "approved-picnic",
   "metadata": {},
   "outputs": [
    {
     "name": "stdout",
     "output_type": "stream",
     "text": [
      "252\n"
     ]
    }
   ],
   "source": [
    "# index lookup for '03-20-2019' and display trading log\n",
    "\n",
    "print(trading_pnl['03-20-2019'])"
   ]
  },
  {
   "cell_type": "code",
   "execution_count": 12,
   "id": "appropriate-extra",
   "metadata": {},
   "outputs": [
    {
     "name": "stdout",
     "output_type": "stream",
     "text": [
      "The trading volume on March 20th was 252\n"
     ]
    }
   ],
   "source": [
    "# print an index lookup within a format string.\n",
    "# print(dict['key']) similar to print(list[index]) and code will display the value stored in that index. \n",
    "\n",
    "print(f\"The trading volume on March 20th was {trading_pnl['03-20-2019']}\")"
   ]
  },
  {
   "cell_type": "code",
   "execution_count": 13,
   "id": "asian-prototype",
   "metadata": {},
   "outputs": [],
   "source": [
    "# deleting items from a dict use del function\n",
    "# with lists we used the .remove() or pop() functions. list.remove(item-value) or list.pop(index number) \n",
    "# dicts use del \n",
    "\n",
    "del trading_pnl['04-06-2019']           # del removes both key and value."
   ]
  },
  {
   "cell_type": "code",
   "execution_count": 14,
   "id": "successful-balloon",
   "metadata": {},
   "outputs": [
    {
     "data": {
      "text/plain": [
       "{'title': 'Trading Log',\n",
       " '03-18-2019': -224,\n",
       " '03-19-2019': 352,\n",
       " '03-20-2019': 252,\n",
       " '03-21-2019': 354,\n",
       " '03-22-2019': -544,\n",
       " '03-23-2019': -650,\n",
       " '03-24-2019': 56,\n",
       " '03-25-2019': 123,\n",
       " '03-26-2019': -43,\n",
       " '03-27-2019': 254,\n",
       " '03-28-2019': 325,\n",
       " '03-29-2019': -123,\n",
       " '03-30-2019': 47,\n",
       " '03-31-2019': 321,\n",
       " '04-01-2019': 123,\n",
       " '04-02-2019': 133,\n",
       " '04-03-2019': -151,\n",
       " '04-04-2019': 613,\n",
       " '04-05-2019': 232}"
      ]
     },
     "execution_count": 14,
     "metadata": {},
     "output_type": "execute_result"
    }
   ],
   "source": [
    "trading_pnl"
   ]
  },
  {
   "cell_type": "code",
   "execution_count": 15,
   "id": "lightweight-reverse",
   "metadata": {},
   "outputs": [
    {
     "data": {
      "text/plain": [
       "{'title': 'Trading Log',\n",
       " '03-18-2019': -224,\n",
       " '03-19-2019': 352,\n",
       " '03-20-2019': 252,\n",
       " '03-21-2019': 354,\n",
       " '03-22-2019': -544,\n",
       " '03-23-2019': -650,\n",
       " '03-24-2019': 56,\n",
       " '03-25-2019': 123,\n",
       " '03-26-2019': -43,\n",
       " '03-27-2019': 254,\n",
       " '03-28-2019': 325,\n",
       " '03-29-2019': -123,\n",
       " '03-30-2019': 47,\n",
       " '03-31-2019': 321,\n",
       " '04-01-2019': 123,\n",
       " '04-02-2019': 133,\n",
       " '04-03-2019': -151,\n",
       " '04-04-2019': 613,\n",
       " '04-05-2019': 232,\n",
       " '04-06-2019': 300}"
      ]
     },
     "execution_count": 15,
     "metadata": {},
     "output_type": "execute_result"
    }
   ],
   "source": [
    "# add items to dict \n",
    "# re-add the 04-06-2019 key\n",
    "\n",
    "trading_pnl['04-06-2019'] = 300\n",
    "trading_pnl"
   ]
  },
  {
   "cell_type": "code",
   "execution_count": 16,
   "id": "russian-quebec",
   "metadata": {},
   "outputs": [],
   "source": [
    "# replace value in dict. same as list\n",
    "# unlike lists. keys need unique keys. replacing value at a key changes the value for that ket.\n",
    "\n",
    "trading_pnl['04-06-2019'] = 321"
   ]
  },
  {
   "cell_type": "code",
   "execution_count": 17,
   "id": "competitive-healing",
   "metadata": {},
   "outputs": [
    {
     "name": "stdout",
     "output_type": "stream",
     "text": [
      "title\n",
      "03-18-2019\n",
      "03-19-2019\n",
      "03-20-2019\n",
      "03-21-2019\n",
      "03-22-2019\n",
      "03-23-2019\n",
      "03-24-2019\n",
      "03-25-2019\n",
      "03-26-2019\n",
      "03-27-2019\n",
      "03-28-2019\n",
      "03-29-2019\n",
      "03-30-2019\n",
      "03-31-2019\n",
      "04-01-2019\n",
      "04-02-2019\n",
      "04-03-2019\n",
      "04-04-2019\n",
      "04-05-2019\n",
      "04-06-2019\n"
     ]
    }
   ],
   "source": [
    "# looping through dict\n",
    "\n",
    "for key in trading_pnl:               # this will only store the key in looping variable, not the value paired with it.. \n",
    "    print(key)                  "
   ]
  },
  {
   "cell_type": "code",
   "execution_count": 25,
   "id": "incomplete-shipping",
   "metadata": {},
   "outputs": [
    {
     "name": "stdout",
     "output_type": "stream",
     "text": [
      "Trading Log\n",
      "-224\n",
      "352\n",
      "252\n",
      "354\n",
      "-544\n",
      "-650\n",
      "56\n",
      "123\n",
      "-43\n",
      "254\n",
      "325\n",
      "-123\n",
      "47\n",
      "321\n",
      "123\n",
      "133\n",
      "-151\n",
      "613\n",
      "232\n",
      "321\n"
     ]
    }
   ],
   "source": [
    "# we can get the values by printing an key lookup in the dict within our loop.\n",
    "\n",
    "for key in trading_pnl:\n",
    "    print(trading_pnl[key])"
   ]
  },
  {
   "cell_type": "code",
   "execution_count": 19,
   "id": "arabic-plenty",
   "metadata": {},
   "outputs": [
    {
     "name": "stdout",
     "output_type": "stream",
     "text": [
      "John\n",
      "Austin\n",
      "Kelly\n"
     ]
    }
   ],
   "source": [
    "# similar outcome when looping through a list.\n",
    "\n",
    "full_name = ['John', 'Austin', 'Kelly']\n",
    "\n",
    "for name_part in full_name:        # when it looped a list. it stored the value in looping variable. not index number.\n",
    "    print(name_part)"
   ]
  },
  {
   "cell_type": "code",
   "execution_count": 20,
   "id": "funky-compromise",
   "metadata": {},
   "outputs": [
    {
     "name": "stdout",
     "output_type": "stream",
     "text": [
      "Trading Log\n",
      "-224\n",
      "352\n",
      "252\n",
      "354\n",
      "-544\n",
      "-650\n",
      "56\n",
      "123\n",
      "-43\n",
      "254\n",
      "325\n",
      "-123\n",
      "47\n",
      "321\n",
      "123\n",
      "133\n",
      "-151\n",
      "613\n",
      "232\n",
      "321\n"
     ]
    }
   ],
   "source": [
    "# looping through dict 2. \n",
    "# to get the value returned in a loop\n",
    "\n",
    "for key in trading_pnl:               # this will only store the key in looping variable. \n",
    "    print(trading_pnl[key])           # do a dict lookup on key itself to print the item-value "
   ]
  },
  {
   "cell_type": "code",
   "execution_count": 21,
   "id": "protective-words",
   "metadata": {},
   "outputs": [
    {
     "name": "stdout",
     "output_type": "stream",
     "text": [
      "title, Trading Log\n",
      "03-18-2019, -224\n",
      "03-19-2019, 352\n",
      "03-20-2019, 252\n",
      "03-21-2019, 354\n",
      "03-22-2019, -544\n",
      "03-23-2019, -650\n",
      "03-24-2019, 56\n",
      "03-25-2019, 123\n",
      "03-26-2019, -43\n",
      "03-27-2019, 254\n",
      "03-28-2019, 325\n",
      "03-29-2019, -123\n",
      "03-30-2019, 47\n",
      "03-31-2019, 321\n",
      "04-01-2019, 123\n",
      "04-02-2019, 133\n",
      "04-03-2019, -151\n",
      "04-04-2019, 613\n",
      "04-05-2019, 232\n",
      "04-06-2019, 321\n"
     ]
    }
   ],
   "source": [
    "# looping in dict to get both KEY and VALUE\n",
    "# .items() function\n",
    "\n",
    "for key, value in trading_pnl.items():\n",
    "    print(f\"{key}, {value}\")\n",
    "    "
   ]
  },
  {
   "cell_type": "code",
   "execution_count": 22,
   "id": "christian-terminology",
   "metadata": {},
   "outputs": [
    {
     "name": "stdout",
     "output_type": "stream",
     "text": [
      "This exists\n"
     ]
    }
   ],
   "source": [
    "# see if key exists in dict\n",
    "# use in() function\n",
    "\n",
    "if '04-03-2019' in trading_pnl:          # tests if this string exists in the dict. not if it's a key or value. just if it's in there somewhere.\n",
    "    print(\"This exists\")                 # doesn't display anything if not exists. \n",
    "    \n",
    "# lists looking up values\n",
    "# lists looking up keys"
   ]
  },
  {
   "cell_type": "code",
   "execution_count": null,
   "id": "announced-democracy",
   "metadata": {},
   "outputs": [],
   "source": []
  }
 ],
 "metadata": {
  "kernelspec": {
   "display_name": "Python 3",
   "language": "python",
   "name": "python3"
  },
  "language_info": {
   "codemirror_mode": {
    "name": "ipython",
    "version": 3
   },
   "file_extension": ".py",
   "mimetype": "text/x-python",
   "name": "python",
   "nbconvert_exporter": "python",
   "pygments_lexer": "ipython3",
   "version": "3.9.1"
  }
 },
 "nbformat": 4,
 "nbformat_minor": 5
}
