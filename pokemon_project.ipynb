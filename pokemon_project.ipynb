{
 "cells": [
  {
   "cell_type": "code",
   "execution_count": 60,
   "id": "lesbian-gilbert",
   "metadata": {},
   "outputs": [],
   "source": [
    "pokemon = {\n",
    "    1: {'Grookey': 'Basic'},\n",
    "    2: {'Thwackey': 'Stage 1'},\n",
    "    3: {'Rillaboom': 'Stage 2'},\n",
    "    4: {'Scorbunny': 'Basic'},\n",
    "    5: {'Raboot': 'Stage 1'},\n",
    "    6: {'Cinderace': 'Stage 2'},\n",
    "    7: {'Sobble': 'Basic'},\n",
    "    8: {'Drizzile': 'Stage 1'},\n",
    "    9: {'Inteleon': 'Stage 2'},\n",
    "    10: {'Blipbug': 'Basic'},\n",
    "    11: {'Dottler': 'Stage 1'},\n",
    "    12: {'Orbeetle': 'Stage 2'},\n",
    "    13: {'Caterpie': 'Basic'},\n",
    "    14: {'Metapod': 'Stage 1'},\n",
    "    15: {'Butterfree': 'Stage 2'},\n",
    "    16: {'Grubbin': 'Basic'},\n",
    "    17: {'Charjabug': 'Stage 1'},\n",
    "    18: {'Vikavolt': 'Stage 2'},\n",
    "    19: {'Hoothoot': 'Basic'},\n",
    "    20: {'Noctowl': 'Stage 1'},\n",
    "    21: {'Rookidee': 'Basic'},\n",
    "    22: {'Corvisquire': 'Stage 1'},\n",
    "    23: {'Corviknight': 'Stage 2'},\n",
    "    24: {'Skwovet': 'Basic'},\n",
    "    25: {'Greendent': 'Stage 1'},\n",
    "    26: {'Pidove': 'Basic'},\n",
    "    27: {'Tranquill': 'Stage 1'},\n",
    "    28: {'Unfezant': 'Stage 2'},\n",
    "    29: {'Nickit': 'Basic'},\n",
    "    30: {'Thievul': 'Stage 1'},\n",
    "    31: {'Zigzagoon': 'Basic'},\n",
    "    32: {'Linoone': 'Stage 1'},\n",
    "    33: {'Obstagoon': 'Stage 2'},\n",
    "    34: {'Wooloo': 'Basic'},\n",
    "    35: {'Dubwool': 'Stage 1'},\n",
    "    36: {'Lotad': 'Basic'},\n",
    "    37: {'Lombre': 'Stage 1'},\n",
    "    38: {'Ludicolo': 'Stage 2'},\n",
    "    39: {'Seedot': 'Basic'},\n",
    "    40: {'Nuzleaf': 'Stage 1'},\n",
    "    41: {'Shiftry': 'Stage 2'},\n",
    "    42: {'Chewtle': 'Basic'},\n",
    "    43: {'Drednaw': 'Stage 1'},\n",
    "    44: {'Purrloin': 'Basic'},\n",
    "    45: {'Liepard': 'Stage 1'},\n",
    "    46: {'Yamper': 'Basic'},\n",
    "    47: {'Boltund': 'Stage 1'},\n",
    "    48: {'Bunnelby': 'Basic'},\n",
    "    49: {'Diggersby': 'Stage 1'},\n",
    "    50: {'Minccino': 'Basic'},\n",
    "    51: {'Cinccino': 'Stage 1'},\n",
    "    52: {'Bounsweet': 'Basic'},\n",
    "    53: {'Steenee': 'Stage 1'},\n",
    "    54: {'Tsareena': 'Stage 2'},\n",
    "    55: {'Oddish': 'Basic'},\n",
    "    56: {'Gloom': 'Stage 1'},\n",
    "    57: {'Vileplume': 'Stage 2'},\n",
    "    60: {'Bellossom': 'Stage 2'},\n",
    "    61: {'Budew': 'Basic'},\n",
    "    62: {'Roselia': 'Stage 1'},\n",
    "    63: {'Roserade': 'Stage 2'},\n",
    "    64: {'Wingull': 'Basic'},\n",
    "    65: {'Pelipper': 'Stage 1'},\n",
    "    66: {'Joltik': 'Basic'},\n",
    "    67: {'Galvantula': 'Stage 1'},\n",
    "    68: {'Electrike': 'Basic'},\n",
    "    69: {'Manectric': 'Stage 1'},\n",
    "    70: {'Vulpix': 'Basic'},\n",
    "    71: {'Ninetails': 'Stage 1'},\n",
    "    72: {'Growlithe': 'Basic'},\n",
    "    73: {'Arcanine': 'Stage 1'},\n",
    "    74: {'Vanillite': 'Basic'},\n",
    "    75: {'Vanillish': 'Stage 1'},\n",
    "    76: {'Vanilluxe': 'Stage 2'},\n",
    "    77: {'Swinub': 'Basic'},\n",
    "    78: {'Piloswine': 'Stage 1'},\n",
    "    79: {'Mamoswine': 'Stage 2'},\n",
    "    80: {'Delibird': 'Basic'},\n",
    "    81: {'Snorunt': 'Basic'},\n",
    "    82: {'Glalie': 'Stage 1'},\n",
    "    83: {'Froslass': 'Stage 2'},\n",
    "    84: {'Baltoy': 'Basic'},\n",
    "    85: {'Claydol': 'Stage 1'},\n",
    "    86: {'Mudbray': 'Basic'},\n",
    "    87: {'Mudsdale': 'Stage 1'},\n",
    "    88: {'Dwebble': 'Basic'},\n",
    "    89: {'Crustle': 'Stage 1'},\n",
    "    90: {'Golett': 'Basic'},\n",
    "    91: {'Golurk': 'Stage 1'},\n",
    "    92: {'Munna': 'Basic'},\n",
    "    93: {'Musharna': 'Stage 1'},\n",
    "    94: {'Natu': 'Basic'},\n",
    "    95: {'Xatu': 'Stage 1'},\n",
    "    96: {'Stufful': 'Basic'},\n",
    "    97: {'Bewear': 'Stage 1'},\n",
    "    98: {'Snover': 'Basic'},\n",
    "    99: {'Abomasnow': 'Stage 1'}\n",
    "}"
   ]
  },
  {
   "cell_type": "code",
   "execution_count": 25,
   "id": "nonprofit-battlefield",
   "metadata": {},
   "outputs": [
    {
     "name": "stdout",
     "output_type": "stream",
     "text": [
      "{1: {'Grookey': 'Basic'}, 2: {'Thwackey': 'Stage 1'}, 3: {'Rillaboom': 'Stage 2'}, 4: {'Scorbunny': 'Basic'}, 5: {'Raboot': 'Stage 1'}, 6: {'Cinderace': 'Stage 2'}, 7: {'Sobble': 'Basic'}, 8: {'Drizzile': 'Stage 1'}, 9: {'Inteleon': 'Stage 2'}, 10: {'Blipbug': 'Basic'}, 11: {'Dottler': 'Stage 1'}, 12: {'Orbeetle': 'Stage 2'}, 13: {'Caterpie': 'Basic'}, 14: {'Metapod': 'Stage 1'}, 15: {'Butterfree': 'Stage 2'}, 16: {'Grubbin': 'Basic'}, 17: {'Charjabug', 'Stage 1'}, 18: {'Vikavolt': 'Stage 2'}, 19: {'Hoothoot': 'Basic'}, 20: {'Noctowl': 'Stage 1'}, 21: {'Rookidee': 'Basic'}, 22: {'Corvisquire': 'Stage 1'}, 23: {'Corviknight': 'Stage 2'}, 24: {'Skwovet': 'Basic'}, 25: {'Greendent': 'Stage 1'}, 26: {'Pidove': 'Basic'}, 27: {'Tranquill': 'Stage 1'}, 28: {'Unfezant': 'Stage 2'}, 29: {'Nickit': 'Basic'}, 30: {'Thievul': 'Stage 1'}, 31: {'Zigzagoon': 'Basic'}, 32: {'Linoone': 'Stage 1'}, 33: {'Obstagoon': 'Stage 2'}, 34: {'Wooloo': 'Basic'}, 35: {'Dubwool': 'Stage 1'}, 36: {'Lotad': 'Basic'}, 37: {'Lombre': 'Stage 1'}, 38: {'Ludicolo': 'Stage 2'}, 39: {'Seedot': 'Basic'}, 40: {'Nuzleaf': 'Stage 1'}, 41: {'Shiftry': 'Stage 2'}, 42: {'Chewtle': 'Basic'}, 43: {'Drednaw': 'Stage 1'}, 44: {'Purrloin': 'Basic'}, 45: {'Liepard': 'Stage 1'}, 46: {'Yamper': 'Basic'}, 47: {'Boltund': 'Stage 1'}, 48: {'Bunnelby': 'Basic'}, 49: {'Diggersby': 'Stage 1'}, 50: {'Minccino': 'Basic'}, 51: {'Cinccino': 'Stage 1'}, 52: {'Bounsweet': 'Basic'}, 53: {'Steenee': 'Stage 1'}, 54: {'Tsareena': 'Stage 2'}, 55: {'Oddish': 'Basic'}, 56: {'Gloom', 'Stage 1'}, 57: {'Stage 2', 'Vileplume'}, 60: {'Bellossom', 'Stage 2'}, 61: {'Budew': 'Basic'}, 62: {'Roselia', 'Stage 1'}, 63: {'Stage 2', 'Roserade'}, 64: {'Wingull': 'Basic'}, 65: {'Pelipper': 'Stage 1'}, 66: {'Joltik': 'Basic'}, 67: {'Galvantula': 'Stage 1'}, 68: {'Electrike': 'Basic'}, 69: {'Manectric': 'Stage 1'}, 70: {'Vulpix': 'Basic'}, 71: {'Ninetails': 'Stage 1'}, 72: {'Growlithe': 'Basic'}, 73: {'Arcanine': 'Stage 1'}, 74: {'Vanillite': 'Basic'}, 75: {'Vanillish': 'Stage 1'}, 76: {'Vanilluxe': 'Stage 2'}, 77: {'Swinub': 'Basic'}, 78: {'Piloswine': 'Stage 1'}, 79: {'Mamoswine': 'Stage 2'}, 80: {'Delibird': 'Basic'}, 81: {'Snorunt': 'Basic'}, 82: {'Glalie': 'Stage 1'}, 83: {'Stage 2', 'Froslass'}, 84: {'Baltoy': 'Basic'}, 85: {'Claydol': 'Stage 1'}, 86: {'Mudbray': 'Basic'}, 87: {'Mudsdale': 'Stage 1'}, 88: {'Dwebble': 'Basic'}, 89: {'Crustle': 'Stage 1'}, 90: {'Golett': 'Basic'}, 91: {'Golurk': 'Stage 1'}, 92: {'Munna': 'Basic'}, 93: {'Musharna': 'Stage 1'}, 94: {'Natu': 'Basic'}, 95: {'Xatu': 'Stage 1'}}\n"
     ]
    }
   ],
   "source": [
    "print(pokemon)"
   ]
  },
  {
   "cell_type": "code",
   "execution_count": 26,
   "id": "ruled-cursor",
   "metadata": {},
   "outputs": [
    {
     "name": "stdout",
     "output_type": "stream",
     "text": [
      "{'Grookey': 'Basic'}\n"
     ]
    }
   ],
   "source": [
    "print(pokemon[1])"
   ]
  },
  {
   "cell_type": "code",
   "execution_count": 24,
   "id": "solved-glucose",
   "metadata": {},
   "outputs": [
    {
     "name": "stdout",
     "output_type": "stream",
     "text": [
      "Basic\n"
     ]
    }
   ],
   "source": [
    "print(pokemon[1]['Grookey'])"
   ]
  },
  {
   "cell_type": "code",
   "execution_count": 13,
   "id": "alternative-needle",
   "metadata": {},
   "outputs": [],
   "source": [
    "gender = ['male', 'female', 'genderless']\n",
    "pokeball = ['pokeball', 'greatball', 'ultraball', 'safariball', 'masterball']\n",
    "mother = ''\n",
    "father = ''\n",
    "\n",
    "basic = []\n",
    "stage1 = []\n",
    "stage2 = []"
   ]
  },
  {
   "cell_type": "code",
   "execution_count": 44,
   "id": "removable-arrow",
   "metadata": {},
   "outputs": [],
   "source": [
    "dict = {1: 'John', 2: 'Austin', 3: 'Kelly'}"
   ]
  },
  {
   "cell_type": "code",
   "execution_count": 33,
   "id": "molecular-round",
   "metadata": {},
   "outputs": [
    {
     "name": "stdout",
     "output_type": "stream",
     "text": [
      "1\n",
      "2\n",
      "3\n"
     ]
    }
   ],
   "source": [
    "for key in dict:                           \n",
    "    print(key)"
   ]
  },
  {
   "cell_type": "code",
   "execution_count": 61,
   "id": "mental-sport",
   "metadata": {},
   "outputs": [
    {
     "name": "stdout",
     "output_type": "stream",
     "text": [
      "{'Abomasnow': 'Stage 1'}\n",
      "{'Abomasnow': 'Stage 1'}\n",
      "{'Abomasnow': 'Stage 1'}\n"
     ]
    }
   ],
   "source": [
    "for key in dict:\n",
    "    print(value)"
   ]
  },
  {
   "cell_type": "code",
   "execution_count": 59,
   "id": "comic-postcard",
   "metadata": {},
   "outputs": [
    {
     "name": "stdout",
     "output_type": "stream",
     "text": [
      "1 Grookey Basic\n",
      "2 Thwackey Stage 1\n",
      "3 Rillaboom Stage 2\n",
      "4 Scorbunny Basic\n",
      "5 Raboot Stage 1\n",
      "6 Cinderace Stage 2\n",
      "7 Sobble Basic\n",
      "8 Drizzile Stage 1\n",
      "9 Inteleon Stage 2\n",
      "10 Blipbug Basic\n",
      "11 Dottler Stage 1\n",
      "12 Orbeetle Stage 2\n",
      "13 Caterpie Basic\n",
      "14 Metapod Stage 1\n",
      "15 Butterfree Stage 2\n",
      "16 Grubbin Basic\n",
      "17 Charjabug Stage 1\n",
      "18 Vikavolt Stage 2\n",
      "19 Hoothoot Basic\n",
      "20 Noctowl Stage 1\n",
      "21 Rookidee Basic\n",
      "22 Corvisquire Stage 1\n",
      "23 Corviknight Stage 2\n",
      "24 Skwovet Basic\n",
      "25 Greendent Stage 1\n",
      "26 Pidove Basic\n",
      "27 Tranquill Stage 1\n",
      "28 Unfezant Stage 2\n",
      "29 Nickit Basic\n",
      "30 Thievul Stage 1\n",
      "31 Zigzagoon Basic\n",
      "32 Linoone Stage 1\n",
      "33 Obstagoon Stage 2\n",
      "34 Wooloo Basic\n",
      "35 Dubwool Stage 1\n",
      "36 Lotad Basic\n",
      "37 Lombre Stage 1\n",
      "38 Ludicolo Stage 2\n",
      "39 Seedot Basic\n",
      "40 Nuzleaf Stage 1\n",
      "41 Shiftry Stage 2\n",
      "42 Chewtle Basic\n",
      "43 Drednaw Stage 1\n",
      "44 Purrloin Basic\n",
      "45 Liepard Stage 1\n",
      "46 Yamper Basic\n",
      "47 Boltund Stage 1\n",
      "48 Bunnelby Basic\n",
      "49 Diggersby Stage 1\n",
      "50 Minccino Basic\n",
      "51 Cinccino Stage 1\n",
      "52 Bounsweet Basic\n",
      "53 Steenee Stage 1\n",
      "54 Tsareena Stage 2\n",
      "55 Oddish Basic\n",
      "56 Gloom Stage 1\n",
      "57 Vileplume Stage 2\n",
      "58 Bellossom Stage 2\n",
      "59 Budew Basic\n",
      "60 Roselia Stage 1\n",
      "61 Roserade Stage 2\n",
      "62 Wingull Basic\n",
      "63 Pelipper Stage 1\n",
      "64 Joltik Basic\n",
      "65 Galvantula Stage 1\n",
      "66 Electrike Basic\n",
      "67 Manectric Stage 1\n",
      "68 Vulpix Basic\n",
      "69 Ninetails Stage 1\n",
      "70 Growlithe Basic\n",
      "71 Arcanine Stage 1\n",
      "72 Vanillite Basic\n",
      "73 Vanillish Stage 1\n",
      "74 Vanilluxe Stage 2\n",
      "75 Swinub Basic\n",
      "76 Piloswine Stage 1\n",
      "77 Mamoswine Stage 2\n",
      "78 Delibird Basic\n",
      "79 Snorunt Basic\n",
      "80 Glalie Stage 1\n",
      "81 Froslass Stage 2\n",
      "82 Baltoy Basic\n",
      "83 Claydol Stage 1\n",
      "84 Mudbray Basic\n",
      "85 Mudsdale Stage 1\n",
      "86 Dwebble Basic\n",
      "87 Crustle Stage 1\n",
      "88 Golett Basic\n",
      "89 Golurk Stage 1\n",
      "90 Munna Basic\n",
      "91 Musharna Stage 1\n",
      "92 Natu Basic\n",
      "93 Xatu Stage 1\n",
      "94 Stufful Basic\n",
      "95 Bewear Stage 1\n",
      "96 Snover Basic\n",
      "97 Abomasnow Stage 1\n"
     ]
    }
   ],
   "source": [
    "count = 0\n",
    "for key, value in pokemon.items():\n",
    "    for poke, level in value.items():\n",
    "        count += 1\n",
    "        print(count, poke, level)"
   ]
  },
  {
   "cell_type": "code",
   "execution_count": 48,
   "id": "plain-triumph",
   "metadata": {},
   "outputs": [
    {
     "ename": "KeyError",
     "evalue": "'Grubbin'",
     "output_type": "error",
     "traceback": [
      "\u001b[1;31m---------------------------------------------------------------------------\u001b[0m",
      "\u001b[1;31mKeyError\u001b[0m                                  Traceback (most recent call last)",
      "\u001b[1;32m<ipython-input-48-19ab09de608a>\u001b[0m in \u001b[0;36m<module>\u001b[1;34m\u001b[0m\n\u001b[1;32m----> 1\u001b[1;33m \u001b[0mpokemon\u001b[0m\u001b[1;33m[\u001b[0m\u001b[1;34m'Grubbin'\u001b[0m\u001b[1;33m]\u001b[0m\u001b[1;33m\u001b[0m\u001b[1;33m\u001b[0m\u001b[0m\n\u001b[0m",
      "\u001b[1;31mKeyError\u001b[0m: 'Grubbin'"
     ]
    }
   ],
   "source": [
    "pokemon['Grubbin']"
   ]
  },
  {
   "cell_type": "code",
   "execution_count": null,
   "id": "thick-desert",
   "metadata": {},
   "outputs": [],
   "source": []
  }
 ],
 "metadata": {
  "kernelspec": {
   "display_name": "Python 3",
   "language": "python",
   "name": "python3"
  },
  "language_info": {
   "codemirror_mode": {
    "name": "ipython",
    "version": 3
   },
   "file_extension": ".py",
   "mimetype": "text/x-python",
   "name": "python",
   "nbconvert_exporter": "python",
   "pygments_lexer": "ipython3",
   "version": "3.9.1"
  }
 },
 "nbformat": 4,
 "nbformat_minor": 5
}
