{
 "cells": [
  {
   "cell_type": "code",
   "execution_count": 1,
   "id": "exceptional-literature",
   "metadata": {},
   "outputs": [],
   "source": [
    "import requests "
   ]
  },
  {
   "cell_type": "code",
   "execution_count": null,
   "id": "intense-acrylic",
   "metadata": {},
   "outputs": [],
   "source": [
    "# Create a variable to hold request url \n",
    "\n",
    "url = "
   ]
  },
  {
   "cell_type": "code",
   "execution_count": null,
   "id": "swiss-breakfast",
   "metadata": {},
   "outputs": [],
   "source": [
    "# Execute a GET request \n",
    "\n",
    "requests.get(url)"
   ]
  },
  {
   "cell_type": "code",
   "execution_count": null,
   "id": "cooperative-excellence",
   "metadata": {},
   "outputs": [],
   "source": [
    "# Store request as variable\n",
    "\n",
    "response_data = requests.get(url)"
   ]
  },
  {
   "cell_type": "code",
   "execution_count": null,
   "id": "challenging-brief",
   "metadata": {},
   "outputs": [],
   "source": [
    "# Get content\n",
    "\n",
    "print()"
   ]
  },
  {
   "cell_type": "code",
   "execution_count": null,
   "id": "worse-travel",
   "metadata": {},
   "outputs": [],
   "source": [
    "import json\n",
    "\n",
    "# Formatting as json\n",
    "data = response_data.json()"
   ]
  },
  {
   "cell_type": "code",
   "execution_count": null,
   "id": "hybrid-insight",
   "metadata": {},
   "outputs": [],
   "source": [
    "# FORMAT JSON WITH INDENT\n",
    "\n",
    "print(json.dumps(data, indent=4))"
   ]
  }
 ],
 "metadata": {
  "kernelspec": {
   "display_name": "Python 3",
   "language": "python",
   "name": "python3"
  },
  "language_info": {
   "codemirror_mode": {
    "name": "ipython",
    "version": 3
   },
   "file_extension": ".py",
   "mimetype": "text/x-python",
   "name": "python",
   "nbconvert_exporter": "python",
   "pygments_lexer": "ipython3",
   "version": "3.9.1"
  }
 },
 "nbformat": 4,
 "nbformat_minor": 5
}
