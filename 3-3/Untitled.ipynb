{
 "cells": [
  {
   "cell_type": "code",
   "execution_count": null,
   "id": "enabling-correlation",
   "metadata": {},
   "outputs": [],
   "source": []
  },
  {
   "cell_type": "code",
   "execution_count": null,
   "id": "african-seafood",
   "metadata": {},
   "outputs": [],
   "source": [
    "# grouping - combining data and manipulating it in groups"
   ]
  },
  {
   "cell_type": "code",
   "execution_count": null,
   "id": "wicked-decline",
   "metadata": {},
   "outputs": [],
   "source": [
    "# multi-indexing \n",
    "# using multiple indexes\n",
    "# create and index on day, on month, or year"
   ]
  }
 ],
 "metadata": {
  "kernelspec": {
   "display_name": "Python 3",
   "language": "python",
   "name": "python3"
  },
  "language_info": {
   "codemirror_mode": {
    "name": "ipython",
    "version": 3
   },
   "file_extension": ".py",
   "mimetype": "text/x-python",
   "name": "python",
   "nbconvert_exporter": "python",
   "pygments_lexer": "ipython3",
   "version": "3.9.1"
  }
 },
 "nbformat": 4,
 "nbformat_minor": 5
}
